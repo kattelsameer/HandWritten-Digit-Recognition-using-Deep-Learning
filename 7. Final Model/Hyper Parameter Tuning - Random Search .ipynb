{
 "cells": [
  {
   "cell_type": "code",
   "execution_count": 1,
   "metadata": {},
   "outputs": [],
   "source": [
    "# Python Standard Libraries for importing data from binary file\n",
    "import os.path #for accessing the file path\n",
    "import struct  #for unpacking the binary data\n",
    "\n",
    "import time    #for calculating time\n",
    "import math    #for using floor in creating minibatches\n",
    "\n",
    "\n",
    "#core packages\n",
    "import numpy as np\n",
    "import matplotlib.pyplot as plt\n",
    "from matplotlib.patches import Rectangle, Ellipse\n",
    "\n",
    "\n",
    "#custom module\n",
    "from dataPrep import load_dataset, load_sample_dataset\n",
    "from dataPrep import prep_dataset, rand_mini_batches\n",
    "\n",
    "from finalModelUtils import *\n",
    "from ffnn import *\n",
    "\n",
    "np.random.seed(1)\n",
    "%matplotlib inline"
   ]
  },
  {
   "cell_type": "code",
   "execution_count": 2,
   "metadata": {},
   "outputs": [],
   "source": [
    "#loading complete dataset\n",
    "train_x_orig, train_y_orig, dev_x_orig,dev_y_orig,test_x_orig,test_y_orig = load_dataset()"
   ]
  },
  {
   "cell_type": "code",
   "execution_count": 3,
   "metadata": {},
   "outputs": [
    {
     "name": "stdout",
     "output_type": "stream",
     "text": [
      "Sample Size : 25%\n",
      "\n",
      "Data\t\t\t Complete Dataset\t Sample Dataset\t\n",
      "================================================================\n",
      "Training Set Images:\t(60000, 28, 28)\t\t(15000, 28, 28)\n",
      "Training Set Labels:\t(60000, 1)\t\t(15000, 1)\n",
      "Training Set Images:\t(5000, 28, 28)\t\t(1250, 28, 28)\n",
      "Training Set Labels:\t(5000, 1)\t\t(1250, 1)\n",
      "Test Set Images:\t(5000, 28, 28)\t\t(1250, 28, 28)\n",
      "Test Set Labels:\t(5000, 1)\t\t(1250, 1)\n",
      "================================================================\n"
     ]
    }
   ],
   "source": [
    "#loading Sample dataset\n",
    "sample_size = 25\n",
    "train_x_sample, train_y_sample, dev_x_sample, dev_y_sample, test_x_sample, test_y_sample = load_sample_dataset(sample_size)\n",
    "\n",
    "print(\"Sample Size : %d%%\\n\"%(sample_size))\n",
    "print(\"Data\\t\\t\\t\",\"Complete Dataset\\t\",\"Sample Dataset\\t\")\n",
    "print(\"================================================================\")\n",
    "print(\"Training Set Images:\\t\"+ str(train_x_orig.shape)+\"\\t\\t\"+ str(train_x_sample.shape))\n",
    "print(\"Training Set Labels:\\t\"+ str(train_y_orig.shape)+\"\\t\\t\"+ str(train_y_sample.shape))\n",
    "print(\"Training Set Images:\\t\"+ str(dev_x_orig.shape)+\"\\t\\t\"+ str(dev_x_sample.shape))\n",
    "print(\"Training Set Labels:\\t\"+ str(dev_y_orig.shape)+\"\\t\\t\"+ str(dev_y_sample.shape))\n",
    "print(\"Test Set Images:\\t\"+str(test_x_orig.shape)+\"\\t\\t\"+ str(test_x_sample.shape))\n",
    "print(\"Test Set Labels:\\t\"+str(test_y_orig.shape)+\"\\t\\t\"+ str(test_y_sample.shape))\n",
    "print(\"================================================================\")\n"
   ]
  },
  {
   "cell_type": "code",
   "execution_count": 4,
   "metadata": {},
   "outputs": [
    {
     "name": "stdout",
     "output_type": "stream",
     "text": [
      "Data\t\t\t Before Processing\t After Processing\n",
      "=================================================================\n",
      "Training Set Images:\t(15000, 28, 28)\t\t(784, 15000)\n",
      "Training Set Labels:\t(15000, 1)\t\t(10, 15000)\n",
      "Dev Set Images:\t\t(1250, 28, 28)\t\t(784, 1250)\n",
      "Dev Set Labels:\t\t(1250, 1)\t\t(10, 1250)\n",
      "Test Set Images:\t(1250, 28, 28)\t\t(784, 1250)\n",
      "Test Set Labels:\t(1250, 1)\t\t(10, 1250)\n",
      "=================================================================\n"
     ]
    }
   ],
   "source": [
    "# Preparing the Dataset (Flattening and Normalizing)\n",
    "train_x_norm,train_y_encoded, dev_x_norm,dev_y_encoded, test_x_norm, test_y_encoded = prep_dataset(train_x_sample, train_y_sample, dev_x_sample, dev_y_sample, test_x_sample, test_y_sample)\n",
    "print(\"Data\\t\\t\\t\",\"Before Processing\\t\",\"After Processing\")\n",
    "print(\"=================================================================\")\n",
    "print(\"Training Set Images:\\t\" + str(train_x_sample.shape)+\"\\t\\t\"+ str(train_x_norm.shape))\n",
    "print(\"Training Set Labels:\\t\" + str(train_y_sample.shape)+\"\\t\\t\"+ str(train_y_encoded.shape))\n",
    "print(\"Dev Set Images:\\t\\t\" + str(dev_x_sample.shape)+\"\\t\\t\"+ str(dev_x_norm.shape))\n",
    "print(\"Dev Set Labels:\\t\\t\" + str(dev_y_sample.shape)+\"\\t\\t\"+ str(dev_y_encoded.shape))\n",
    "print(\"Test Set Images:\\t\" + str(test_x_sample.shape)+\"\\t\\t\"+ str(test_x_norm.shape))\n",
    "print(\"Test Set Labels:\\t\" + str(test_y_sample.shape)+\"\\t\\t\"+ str(test_y_encoded.shape))\n",
    "print(\"=================================================================\")"
   ]
  },
  {
   "cell_type": "markdown",
   "metadata": {},
   "source": [
    "## Model Implementation"
   ]
  },
  {
   "cell_type": "code",
   "execution_count": 5,
   "metadata": {},
   "outputs": [],
   "source": [
    "layers_dim = init_layers(train_x_norm, train_y_encoded, hidden_layers = [800,300])"
   ]
  },
  {
   "cell_type": "code",
   "execution_count": null,
   "metadata": {},
   "outputs": [],
   "source": []
  },
  {
   "cell_type": "code",
   "execution_count": null,
   "metadata": {},
   "outputs": [],
   "source": []
  },
  {
   "cell_type": "code",
   "execution_count": null,
   "metadata": {},
   "outputs": [],
   "source": [
    "hyperParams = init_hyperParams(alpha = 0.0001, num_epoch = 5, mini_batch_size = 512,lambd = 0.7,keep_probs = [0.9,0.8,])"
   ]
  },
  {
   "cell_type": "code",
   "execution_count": null,
   "metadata": {},
   "outputs": [],
   "source": [
    "parameters = train(train_x_norm, train_y_encoded,dev_x_norm, dev_y_encoded,layers_dim, hyperParams, initialization = \"he\", optimizer = 'adam',regularizer = 'l2') "
   ]
  },
  {
   "cell_type": "markdown",
   "metadata": {},
   "source": [
    "## Random Search 2D"
   ]
  },
  {
   "cell_type": "markdown",
   "metadata": {},
   "source": [
    "### Random Sampling"
   ]
  },
  {
   "cell_type": "code",
   "execution_count": null,
   "metadata": {},
   "outputs": [],
   "source": [
    "sam = []\n",
    "for i in range(100):\n",
    "    r = np.random.uniform(-5, -1)\n",
    "    p = 10 ** r\n",
    "#     print(r,p)\n",
    "    sam.append(p)\n",
    "\n",
    "\n",
    "plt.hist(sam,bins = 10)\n",
    "    \n",
    "    \n",
    "plt.xscale('log')\n",
    "plt.grid()"
   ]
  },
  {
   "cell_type": "code",
   "execution_count": 6,
   "metadata": {},
   "outputs": [],
   "source": [
    "def sample_hyperParams(hParam_type, rng, sample_size):\n",
    "\n",
    "    sample = []\n",
    "    \n",
    "    lower_range = rng[0]\n",
    "    higher_range = rng[1]\n",
    "    \n",
    "    \n",
    "    for i in range(sample_size):\n",
    "        if hParam_type == \"learning_rate\":\n",
    "            r = np.random.uniform(lower_range,higher_range)\n",
    "            p = 10 ** r\n",
    "            sample.append(p)\n",
    "        elif hParam_type == \"minibatch_size\":\n",
    "            s = np.random.randint(low = lower_range, high = higher_range)\n",
    "            sample.append(s)\n",
    "        else:\n",
    "            raise ValueError(\"Sampling of only learning rate and minibatch size is possible for now\")\n",
    "            \n",
    "    assert(len(sample) == sample_size)\n",
    "    \n",
    "    return sample\n",
    "\n"
   ]
  },
  {
   "cell_type": "code",
   "execution_count": 126,
   "metadata": {},
   "outputs": [
    {
     "data": {
      "image/png": "[encoded data removed]",
      "text/plain": [
       "<Figure size 1440x1080 with 4 Axes>"
      ]
     },
     "metadata": {
      "needs_background": "light"
     },
     "output_type": "display_data"
    }
   ],
   "source": [
    "\n",
    "leaning_rate_ = sample_hyperParams(hParam_type =\"learning_rate\",rng = [-4,-1],sample_size = 200)\n",
    "minibatch_size_ = sample_hyperParams(hParam_type =\"minibatch_size\",rng = [16,1024],sample_size = 200)\n",
    "\n",
    "# plt.style.use('seaborn')\n",
    "fig, ax = plt.subplots(nrows = 2, ncols = 2, figsize=(20,15))\n",
    "ax[0,0].set_ylim(top = 1.2 * 10e-2, bottom = 0.8 * 10e-5)\n",
    "ax[0,0].scatter(minibatch_size_,leaning_rate_, color = \"gray\")\n",
    "ax[0,0].set_yscale('log')\n",
    "# ax[0,0].grid()\n",
    "rec = Rectangle((128,0.0001), 800-128 , 0.006-0.0001, fill=False, edgecolor=\"green\")\n",
    "ax[0,0].add_patch(rec)\n",
    "\n",
    "# Add labels to the plot\n",
    "style = dict(size=10, color='blue', alpha = 0.5)\n",
    "ax[0,0].text(128, 0.006+0.006*0.1, \"New Search Range \", ha='left', **style)\n",
    "\n",
    "c = Ellipse((356,0.0005),width = 0.1 * 356 ,  height =0.25 * 0.0005, edgecolor='crimson', fill = False, alpha=0.5)\n",
    "ax[0,0].add_patch(c)\n",
    "ax[0,0].text(356 + 25, 0.0005 , \"Best Choice \", ha='left', **style)\n",
    "\n",
    "\n",
    "num_mini_batch = ax[1,0].hist(minibatch_size_, bins = 20)\n",
    "\n",
    "num_alpha = ax[1,1].hist(leaning_rate_, bins = 100)\n",
    "ax[1,1].set_xscale('log') #changing the scale to log scale to plot learning rate which is in log scale\n",
    "plt.show()\n"
   ]
  },
  {
   "cell_type": "code",
   "execution_count": 128,
   "metadata": {},
   "outputs": [
    {
     "name": "stdout",
     "output_type": "stream",
     "text": [
      "[6, 2, 1, 5, 3, 4, 7, 0]\n",
      "[0.998, 0.98351, 0.95724, 0.93944, 0.93557, 0.9251]\n",
      "[0.00028, 1e-05, 2e-05, 0.00202, 0.00022, 0.00533, 0.00013, 0.00022]\n",
      "[2084, 613, 175, 1868, 1625, 910, 1170, 725]\n"
     ]
    }
   ],
   "source": [
    "c = [0.90469, 0.95724, 0.98351, 0.93557, 0.92510, 0.93944, 0.99800, 0.91968]\n",
    "l = [0.00022, 0.00002, 0.00001, 0.00022, 0.00533, 0.00202, 0.00028, 0.00013]\n",
    "m = [725, 175, 613, 1625, 910, 1868, 2084, 1170]\n",
    "\n",
    "sorted_c = [b[1] for b in sorted(enumerate(c),key=lambda i:i[1], reverse = True)]\n",
    "orig_sorted_c_index = [b[0] for b in sorted(enumerate(c),key=lambda i:i[1], reverse = True)]\n",
    "# print(sorted_c)\n",
    "print(orig_sorted_c_index)\n",
    "\n",
    "print([c[i] for i in orig_sorted_c_index[:6]])\n",
    "\n",
    "print([l[i] for i in orig_sorted_c_index])\n",
    "print([m[i] for i in orig_sorted_c_index])\n"
   ]
  },
  {
   "cell_type": "code",
   "execution_count": 190,
   "metadata": {},
   "outputs": [],
   "source": [
    "def calculate_new_search_space(score, samples, score_threshold = 0, summary = True):\n",
    "    learning_rate = samples[\"learning_rate\"]\n",
    "    minibatch_size = samples[\"minibatch_size\"]\n",
    "    \n",
    "    good_lrs = []\n",
    "    good_mbs = []\n",
    "    good_scs = []\n",
    "    \n",
    "    if score_threshold == 0:\n",
    "        top_val = 10\n",
    "        #if threshold = 0 use the top 10(top_val) best accuracy and their corresponding hyper parameters\n",
    "        sorted_score_index = [b[0] for b in sorted(enumerate(score),key=lambda i:i[1], reverse = True)]\n",
    "        good_lrs = [learning_rate[i] for i in sorted_score_index[:top_val]]\n",
    "        good_mbs = [minibatch_size[i] for i in sorted_score_index[:top_val]]\n",
    "        good_scs = [score[i] for i in sorted_score_index[:top_val]]\n",
    "    else:\n",
    "        #getting the score above the threshold and along with their corresponding hyper parameters\n",
    "        for ind, val in enumerate(score):\n",
    "            if val > threshold:\n",
    "                good_lrs.append(learning_rate[ind])\n",
    "                good_mbs.append(minibatch_size[ind])\n",
    "                good_scs.append(val)\n",
    "            \n",
    "    if len(good_scs) > 1:  \n",
    "        \n",
    "        if summary == True:\n",
    "            print(\"+================+===============+================+\")\n",
    "            print(\"| Validation Acc | Learning Rate | Minibatch Size |\")\n",
    "            print(\"+================+===============+================+\")\n",
    "\n",
    "            for ind,sc in enumerate(good_scs):\n",
    "                print(\"| %.5f\\t | %.5f\\t | %d\\t\\t  |\"%(sc, good_lrs[ind], good_mbs[ind]))\n",
    "\n",
    "            print(\"+================+===============+================+\")\n",
    "        \n",
    "        #calculating the new search range in log form after expanding the learning rate space by 10%\n",
    "        lr_rng_new = [np.log10(0.9 * min(good_lrs) ), np.log10(1.1 * max(good_lrs))] \n",
    "\n",
    "        #calculating the new search range for minibatch size by expanding the search space by 10%\n",
    "        mbs_rng_new = [0.9 * min(good_mbs), 1.1 * max(good_mbs)] \n",
    "        \n",
    "    else:\n",
    "        print(\"No accuracy or only one accuracy beyond threshold was obtained, so range was calculated based on the best score\")\n",
    "        max_lr = learning_rate[np.argmax(score)] \n",
    "        \n",
    "        #calculating the new search range in log form  from the learning rate of best score, expanding by 50 % in each direction\n",
    "        lr_rng_new = [np.log10(0.5 * max_lr), np.log10(1.5 * max_lr)] #calculating the range in log scale\n",
    "        \n",
    "        max_mbs = minibatch_size[np.argmax(score)]\n",
    "        \n",
    "        #calculating the new search range from the minibatch size of best score, expanding by 25 % in each direction\n",
    "        mbs_rng_new = [0.75 * max_mbs, 1.25 * max_mbs] #calculaing the range\n",
    "        \n",
    "        \n",
    "        \n",
    "    #best hyper parameter combinations\n",
    "    best_comb = [np.max(score),learning_rate[np.argmax(score)],minibatch_size[np.argmax(score)]]\n",
    "\n",
    "    if summary == True:\n",
    "       \n",
    "        print(\"New Search Space for Learning Rate: [%.6f,%.6f]\"%(10 ** lr_rng_new[0], 10 ** lr_rng_new[1]))\n",
    "        print(\"New Search Space for Minibatch Size: [%d,%d]\"%(mbs_rng_new[0], mbs_rng_new[1]))\n",
    "        print(\"Best Score: %.6f \"%(best_comb[0]))\n",
    "        print(\"Best Hyper Params:\\n Learning Rate: %.6f\\n Minibatch Size: %d\"%(best_comb[1], best_comb[2]))\n",
    "  \n",
    "    \n",
    "    return lr_rng_new, mbs_rng_new, best_comb\n"
   ]
  },
  {
   "cell_type": "code",
   "execution_count": 176,
   "metadata": {},
   "outputs": [
    {
     "name": "stdout",
     "output_type": "stream",
     "text": [
      "+================+===============+================+\n",
      "| Validation Acc | Learning Rate | Minibatch Size |\n",
      "+================+===============+================+\n",
      "| 0.99074\t | 0.00016\t | 188\t\t  |\n",
      "| 0.98503\t | 0.04477\t | 488\t\t  |\n",
      "| 0.94398\t | 0.00021\t | 1756\t\t  |\n",
      "| 0.94354\t | 0.02226\t | 961\t\t  |\n",
      "| 0.94024\t | 0.00867\t | 1766\t\t  |\n",
      "| 0.93848\t | 0.00015\t | 385\t\t  |\n",
      "| 0.93221\t | 0.05385\t | 1362\t\t  |\n",
      "| 0.90982\t | 0.00001\t | 1919\t\t  |\n",
      "| 0.89278\t | 0.00007\t | 211\t\t  |\n",
      "| 0.88596\t | 0.04494\t | 741\t\t  |\n",
      "+================+===============+================+\n",
      "New Search Space for Learning Rate: [0.000010,0.059238]\n",
      "New Search Space for Minibatch Size: [169,2110]\n",
      "Best Score: 0.990737 \n",
      "Best Hyper Params:\n",
      " Learning Rate: 0.000156\n",
      " Minibatch Size: 188\n"
     ]
    }
   ],
   "source": [
    "sc = np.random.uniform(0,1,100)\n",
    "\n",
    "lr = []\n",
    "for i in range(100):\n",
    "    r = np.random.uniform(-5, -1)\n",
    "    p = 10 ** r\n",
    "    lr.append(p)\n",
    "    \n",
    "mbz = np.random.randint(50,2200,100)\n",
    "\n",
    "samples = {\"learning_rate\": lr,\n",
    "               \"minibatch_size\" : mbz}\n",
    "score_threshold = 0\n",
    "\n",
    "\n",
    "lr_rng, mbs_rng, best = calculate_new_search_space(sc,samples,score_threshold, summary = True)"
   ]
  },
  {
   "cell_type": "code",
   "execution_count": 146,
   "metadata": {},
   "outputs": [],
   "source": [
    "def visualize_search(samples,score, lr_rng_new, mbs_rng_new, best_comb):\n",
    "    \n",
    "    learning_rate = samples[\"learning_rate\"]\n",
    "    minibatch_size = samples[\"minibatch_size\"]\n",
    "    lr_min = 10 ** lr_rng_new[0]\n",
    "    lr_max = 10 ** lr_rng_new[1]\n",
    "    \n",
    "    # plt.style.use('seaborn')\n",
    "    fig, ax = plt.subplots(nrows = 1, ncols = 1, figsize=(10,7))\n",
    "    ax.set_ylim(top = 10e-2, bottom = 10e-5)\n",
    "    \n",
    "    ax.scatter(minibatch_size,learning_rate, color = \"gray\",alpha=0.80)\n",
    "    ax.set_yscale('log')\n",
    "    ax.grid(color='grey', linestyle='-', linewidth=0.25, alpha=0.5)\n",
    "    \n",
    "    rec = Rectangle((mbs_rng_new[0], lr_min), mbs_rng_new[1] - mbs_rng_new[0], lr_max - lr_min, fill=False, edgecolor=\"green\")\n",
    "    ax.add_patch(rec)\n",
    "\n",
    "    c = Ellipse((best_comb[2],best_comb[1]),width = 30,  height =0.30 * best_comb[1], edgecolor='green', fill = False, alpha=0.5)\n",
    "    ax.add_patch(c)\n",
    "    ax.scatter(best_comb[2],best_comb[1], color = \"crimson\",alpha=1)\n",
    "\n",
    "\n",
    "    # Add labels to the plot\n",
    "    style = dict(size=10, color='blue', alpha = 0.8)\n",
    "    ax.text(mbs_rng_new[0], lr_max + 0.1*lr_max, \"New Search Range \", ha='left', **style)\n",
    "    ax.text(best_comb[2] + 25, best_comb[1] , \"Best Choice \", ha='left', **style)\n",
    "\n",
    "    \n",
    "    plt.show()\n"
   ]
  },
  {
   "cell_type": "code",
   "execution_count": 185,
   "metadata": {},
   "outputs": [
    {
     "name": "stdout",
     "output_type": "stream",
     "text": [
      "+================+===============+================+\n",
      "| Validation Acc | Learning Rate | Minibatch Size |\n",
      "+================+===============+================+\n",
      "| 0.97608\t | 0.06276\t | 44\t\t  |\n",
      "| 0.97792\t | 0.00241\t | 989\t\t  |\n",
      "+================+===============+================+\n",
      "New Search Space for Learning Rate: [0.002166,0.069034]\n",
      "New Search Space for Minibatch Size: [39,1087]\n",
      "Best Score: 0.977921 \n",
      "Best Hyper Params:\n",
      " Learning Rate: 0.002407\n",
      " Minibatch Size: 989\n"
     ]
    },
    {
     "data": {
      "image/png": "[encoded data removed]",
      "text/plain": [
       "<Figure size 720x504 with 1 Axes>"
      ]
     },
     "metadata": {
      "needs_background": "light"
     },
     "output_type": "display_data"
    }
   ],
   "source": [
    "sc = np.random.uniform(0,.98,200)\n",
    "\n",
    "lr = []\n",
    "for i in range(200):\n",
    "    r = np.random.uniform(-4, -1)\n",
    "    p = 10 ** r\n",
    "    lr.append(p)\n",
    "    \n",
    "mbz = np.random.randint(16,1024,200)\n",
    "\n",
    "samples = {\"learning_rate\": lr,\n",
    "               \"minibatch_size\" : mbz}\n",
    "score_threshold = 0.97\n",
    "\n",
    "lr_rng, mbs_rng, best = calculate_new_search_space(sc, samples, score_threshold, summary = True)\n",
    "\n",
    "visualize_search(samples,sc, lr_rng, mbs_rng, best)"
   ]
  },
  {
   "cell_type": "code",
   "execution_count": 194,
   "metadata": {},
   "outputs": [],
   "source": [
    "#Coarse search with 2 epoch, fine search with 5 epoch and detailed search with 10 epoch\n",
    "\n",
    "def random_search_2D(param1, param2, search_type =\"coarse\", evaluate_metric = \"accuracy\", sample_size = 100, search_summary = True, search_visualization = True):\n",
    "    \n",
    "    #accessing the input parameter types and their range\n",
    "    hParam_type1 = param1[\"hParam type\"]\n",
    "    hParam_range1 = param1[\"hParam range\"]\n",
    "    \n",
    "    hParam_type2 = param2[\"hParam type\"]\n",
    "    hParam_range2 = param2[\"hParam range\"]\n",
    "    \n",
    "    samples = {} #for storing the generated samples\n",
    "    \n",
    "    #checking the search type\n",
    "    if search_type == \"coarse\":\n",
    "        epoch_size = 2\n",
    "        score_threshold = 0.95\n",
    "    elif search_type == \"fine\":\n",
    "        epoch_size = 5\n",
    "        score_threshold = 0.97\n",
    "    elif search_type == \"detail\":\n",
    "        epoch_size = 10\n",
    "        score_threshold = 0.99\n",
    "    else:\n",
    "        raise ValueError(\"Search Type not identified. Must be 'coarse', 'fine', or 'detail'\")\n",
    "    \n",
    "    #generating Samples for two input parameters\n",
    "    samples[hParam_type1] = sample_hyperParams(hParam_type = hParam_type1, rng = hParam_range1, sample_size = sample_size)\n",
    "    samples[hParam_type2] = sample_hyperParams(hParam_type = hParam_type2,rng = hParam_range2, sample_size = sample_size)\n",
    "    \n",
    "            \n",
    "    if hParam_type1 == \"learning_rate\":\n",
    "        leaning_rate_samples =  samples[hParam_type1]\n",
    "    elif hParam_type2 == \"learning_rate\":\n",
    "        leaning_rate_samples =  samples[hParam_type2]\n",
    "    \n",
    "\n",
    "    if hParam_type2 == \"minibatch_size\":\n",
    "        minibatch_size_samples =  samples[hParam_type2]\n",
    "    elif hParam_type1 == \"minibatch_size\":\n",
    "        minibatch_size_samples =  samples[hParam_type2]\n",
    "    \n",
    "        \n",
    "    score = []\n",
    "    \n",
    "    toc = time.time()\n",
    "        \n",
    "    for i in range(sample_size):\n",
    "        print(\"\\nSample: %d/%d -- Learning Rate: %.6f | Minibatch Size: %d\"%(i+1,sample_size,leaning_rate_samples[i],minibatch_size_samples[i]))\n",
    "        print(\"==========================================================================================================\")\n",
    "        \n",
    "        hyperParams = init_hyperParams(alpha = leaning_rate_samples[i], num_epoch = epoch_size, mini_batch_size = minibatch_size_samples[i])\n",
    "        \n",
    "        parameters = train(train_x_norm, train_y_encoded, dev_x_norm, dev_y_encoded,layers_dim, hyperParams, initialization = \"he\", optimizer = 'adam', visualize = False) \n",
    "        \n",
    "        if evaluate_metric == \"accuracy\":\n",
    "            prediction_dev,dev_acc, _ = predict(dev_x_norm, dev_y_encoded,parameters)\n",
    "            score.append(dev_acc)\n",
    "\n",
    "        elif evaluate_metric == \"f1-score\": \n",
    "            pass\n",
    "\n",
    "        else:\n",
    "            raise ValueError(\"Metric must be 'accuracy' or 'f1-score'\")\n",
    "        \n",
    "    print(\"==========================================================================================================\")\n",
    "    \n",
    "    tic = time.time() # for calculating entire search time\n",
    "    hrs, mins, secs , ms = convert_time((tic - toc)*1000)\n",
    "    \n",
    "    print(\"\\n\\n*************************** Total Search Time = %dhr %dmins %dsecs %.2fms ***************************\\n\\n\"%(hrs, mins, secs, ms))\n",
    "    \n",
    "    assert(len(score) == sample_size)\n",
    "    \n",
    "    \n",
    "    \n",
    "    if search_summary == True:\n",
    "        print(search_type.capitalize()+\" Search Summary: \\n\")\n",
    "    \n",
    "    lr_rng_new, mbs_rng_new, best_comb = calculate_new_search_space(score, samples, score_threshold=0 , summary = search_summary)\n",
    "    \n",
    "    if search_visualization == True:\n",
    "#         pass\n",
    "        visualize_search(samples,score,lr_rng_new, mbs_rng_new, best_comb)\n",
    "    \n",
    "    return lr_rng_new, mbs_rng_new, best_comb"
   ]
  },
  {
   "cell_type": "code",
   "execution_count": 193,
   "metadata": {
    "scrolled": true
   },
   "outputs": [
    {
     "name": "stdout",
     "output_type": "stream",
     "text": [
      "\n",
      "Sample: 1/20 -- Learning Rate: 0.000127 | Minibatch Size: 334\n",
      "==========================================================================================================\n",
      "\n",
      "Epoch: 1/1\n",
      "15000/15000 [==========> 100%] - 17.78s | loss: 0.6694 | acc: 0.8528 | Val loss: 0.6374 | Val acc: 0.8744 \n",
      "\n",
      "*************************** Total Training Time = 0hr 0mins 17secs 811.42ms ***************************\n",
      "\n",
      "Sample: 2/20 -- Learning Rate: 0.049575 | Minibatch Size: 733\n",
      "==========================================================================================================\n",
      "\n",
      "Epoch: 1/1\n",
      "15000/15000 [==========> 100%] - 9.59s | loss: 0.6444 | acc: 0.8265 | Val loss: 0.6815 | Val acc: 0.8264 \n",
      "\n",
      "*************************** Total Training Time = 0hr 0mins 9secs 612.26ms ***************************\n",
      "\n",
      "Sample: 3/20 -- Learning Rate: 0.098714 | Minibatch Size: 711\n",
      "==========================================================================================================\n",
      "\n",
      "Epoch: 1/1\n",
      "15000/15000 [==========> 100%] - 9.68s | loss: nan | acc: 0.0977 | Val loss: nan | Val acc: 0.0840 \n",
      "\n",
      "*************************** Total Training Time = 0hr 0mins 9secs 710.41ms ***************************\n",
      "\n",
      "Sample: 4/20 -- Learning Rate: 0.001444 | Minibatch Size: 845\n",
      "==========================================================================================================\n",
      "\n",
      "Epoch: 1/1\n",
      "15000/15000 [==========> 100%] - 9.02s | loss: 0.2914 | acc: 0.9157 | Val loss: 0.2820 | Val acc: 0.9200 \n",
      "\n",
      "*************************** Total Training Time = 0hr 0mins 9secs 48.48ms ***************************\n",
      "\n",
      "Sample: 5/20 -- Learning Rate: 0.001157 | Minibatch Size: 521\n",
      "==========================================================================================================\n",
      "\n",
      "Epoch: 1/1\n",
      "15000/15000 [==========> 100%] - 13.84s | loss: 0.2481 | acc: 0.9304 | Val loss: 0.2483 | Val acc: 0.9328 \n",
      "\n",
      "*************************** Total Training Time = 0hr 0mins 13secs 869.67ms ***************************\n",
      "\n",
      "Sample: 6/20 -- Learning Rate: 0.011481 | Minibatch Size: 724\n",
      "==========================================================================================================\n",
      "\n",
      "Epoch: 1/1\n",
      "15000/15000 [==========> 100%] - 9.70s | loss: 0.3354 | acc: 0.9033 | Val loss: 0.3189 | Val acc: 0.9152 \n",
      "\n",
      "*************************** Total Training Time = 0hr 0mins 9secs 731.09ms ***************************\n",
      "\n",
      "Sample: 7/20 -- Learning Rate: 0.035274 | Minibatch Size: 111\n",
      "==========================================================================================================\n",
      "\n",
      "Epoch: 1/1\n",
      "15000/15000 [==========> 100%] - 57.10s | loss: 0.3425 | acc: 0.9097 | Val loss: 0.3678 | Val acc: 0.9096 \n",
      "\n",
      "*************************** Total Training Time = 0hr 0mins 57secs 145.88ms ***************************\n",
      "\n",
      "Sample: 8/20 -- Learning Rate: 0.000330 | Minibatch Size: 397\n",
      "==========================================================================================================\n",
      "\n",
      "Epoch: 1/1\n",
      "15000/15000 [==========> 100%] - 20.08s | loss: 0.3572 | acc: 0.9001 | Val loss: 0.3293 | Val acc: 0.9144 \n",
      "\n",
      "*************************** Total Training Time = 0hr 0mins 20secs 111.97ms ***************************\n",
      "\n",
      "Sample: 9/20 -- Learning Rate: 0.000341 | Minibatch Size: 865\n",
      "==========================================================================================================\n",
      "\n",
      "Epoch: 1/1\n",
      "15000/15000 [==========> 100%] - 9.94s | loss: 0.5911 | acc: 0.8593 | Val loss: 0.5539 | Val acc: 0.8712 \n",
      "\n",
      "*************************** Total Training Time = 0hr 0mins 9secs 967.82ms ***************************\n",
      "\n",
      "Sample: 10/20 -- Learning Rate: 0.000722 | Minibatch Size: 71\n",
      "==========================================================================================================\n",
      "\n",
      "Epoch: 1/1\n",
      "15000/15000 [==========> 100%] - 103.15s | loss: 0.1825 | acc: 0.9453 | Val loss: 0.2048 | Val acc: 0.9408 \n",
      "\n",
      "*************************** Total Training Time = 0hr 1mins 43secs 209.69ms ***************************\n",
      "\n",
      "Sample: 11/20 -- Learning Rate: 0.005481 | Minibatch Size: 556\n",
      "==========================================================================================================\n",
      "\n",
      "Epoch: 1/1\n",
      "15000/15000 [==========> 100%] - 13.68s | loss: 0.2432 | acc: 0.9253 | Val loss: 0.2359 | Val acc: 0.9296 \n",
      "\n",
      "*************************** Total Training Time = 0hr 0mins 13secs 715.77ms ***************************\n",
      "\n",
      "Sample: 12/20 -- Learning Rate: 0.000486 | Minibatch Size: 589\n",
      "==========================================================================================================\n",
      "\n",
      "Epoch: 1/1\n",
      "15000/15000 [==========> 100%] - 13.47s | loss: 0.3577 | acc: 0.8975 | Val loss: 0.3299 | Val acc: 0.9096 \n",
      "\n",
      "*************************** Total Training Time = 0hr 0mins 13secs 496.72ms ***************************\n",
      "\n",
      "Sample: 13/20 -- Learning Rate: 0.005808 | Minibatch Size: 102\n",
      "==========================================================================================================\n",
      "\n",
      "Epoch: 1/1\n",
      "15000/15000 [==========> 100%] - 68.74s | loss: 0.1917 | acc: 0.9422 | Val loss: 0.2222 | Val acc: 0.9352 \n",
      "\n",
      "*************************** Total Training Time = 0hr 1mins 8secs 790.15ms ***************************\n",
      "\n",
      "Sample: 14/20 -- Learning Rate: 0.025871 | Minibatch Size: 156\n",
      "==========================================================================================================\n",
      "\n",
      "Epoch: 1/1\n",
      "15000/15000 [==========> 100%] - 56.57s | loss: 0.3004 | acc: 0.9083 | Val loss: 0.3357 | Val acc: 0.9096 \n",
      "\n",
      "*************************** Total Training Time = 0hr 0mins 56secs 611.81ms ***************************\n",
      "\n",
      "Sample: 15/20 -- Learning Rate: 0.002342 | Minibatch Size: 651\n",
      "==========================================================================================================\n",
      "\n",
      "Epoch: 1/1\n",
      "15000/15000 [==========> 100%] - 17.08s | loss: 0.2511 | acc: 0.9270 | Val loss: 0.2580 | Val acc: 0.9272 \n",
      "\n",
      "*************************** Total Training Time = 0hr 0mins 17secs 109.68ms ***************************\n",
      "\n",
      "Sample: 16/20 -- Learning Rate: 0.000954 | Minibatch Size: 458\n",
      "==========================================================================================================\n",
      "\n",
      "Epoch: 1/1\n",
      "15000/15000 [==========> 100%] - 20.61s | loss: 0.2479 | acc: 0.9299 | Val loss: 0.2508 | Val acc: 0.9320 \n",
      "\n",
      "*************************** Total Training Time = 0hr 0mins 20secs 647.22ms ***************************\n",
      "\n",
      "Sample: 17/20 -- Learning Rate: 0.002343 | Minibatch Size: 198\n",
      "==========================================================================================================\n",
      "\n",
      "Epoch: 1/1\n",
      "15000/15000 [==========> 100%] - 37.93s | loss: 0.1469 | acc: 0.9564 | Val loss: 0.1768 | Val acc: 0.9448 \n",
      "\n",
      "*************************** Total Training Time = 0hr 0mins 37secs 972.08ms ***************************\n",
      "\n",
      "Sample: 18/20 -- Learning Rate: 0.018655 | Minibatch Size: 232\n",
      "==========================================================================================================\n",
      "\n",
      "Epoch: 1/1\n",
      "15000/15000 [==========> 100%] - 34.65s | loss: 0.1808 | acc: 0.9441 | Val loss: 0.2176 | Val acc: 0.9432 \n",
      "\n",
      "*************************** Total Training Time = 0hr 0mins 34secs 685.10ms ***************************\n",
      "\n",
      "Sample: 19/20 -- Learning Rate: 0.014632 | Minibatch Size: 695\n",
      "==========================================================================================================\n",
      "\n",
      "Epoch: 1/1\n",
      "15000/15000 [==========> 100%] - 14.40s | loss: 0.3182 | acc: 0.9086 | Val loss: 0.2875 | Val acc: 0.9184 \n",
      "\n",
      "*************************** Total Training Time = 0hr 0mins 14secs 439.25ms ***************************\n",
      "\n",
      "Sample: 20/20 -- Learning Rate: 0.008586 | Minibatch Size: 343\n",
      "==========================================================================================================\n",
      "\n",
      "Epoch: 1/1\n",
      "15000/15000 [==========> 100%] - 27.63s | loss: 0.1529 | acc: 0.9530 | Val loss: 0.1757 | Val acc: 0.9496 \n",
      "\n",
      "*************************** Total Training Time = 0hr 0mins 27secs 666.71ms ***************************\n",
      "==========================================================================================================\n",
      "\n",
      "\n",
      "*************************** Total Search Time = 0hr 9mins 26secs 956.45ms ***************************\n",
      "\n",
      "\n",
      "Coarse Search Summary: \n",
      "\n",
      "+================+===============+================+\n",
      "| Validation Acc | Learning Rate | Minibatch Size |\n",
      "+================+===============+================+\n",
      "| 0.94960\t | 0.00859\t | 343\t\t  |\n",
      "| 0.94480\t | 0.00234\t | 198\t\t  |\n",
      "| 0.94320\t | 0.01865\t | 232\t\t  |\n",
      "| 0.94080\t | 0.00072\t | 71\t\t  |\n",
      "| 0.93520\t | 0.00581\t | 102\t\t  |\n",
      "| 0.93280\t | 0.00116\t | 521\t\t  |\n",
      "| 0.93200\t | 0.00095\t | 458\t\t  |\n",
      "| 0.92960\t | 0.00548\t | 556\t\t  |\n",
      "| 0.92720\t | 0.00234\t | 651\t\t  |\n",
      "| 0.92000\t | 0.00144\t | 845\t\t  |\n",
      "+================+===============+================+\n",
      "New Search Space for Learning Rate: [0.000650,0.020520]\n",
      "New Search Space for Minibatch Size: [63,929]\n",
      "Best Score: 0.949600 \n",
      "Best Hyper Params:\n",
      " Learning Rate: 0.008586\n",
      " Minibatch Size: 343\n"
     ]
    },
    {
     "data": {
      "image/png": "[encoded data removed]",
      "text/plain": [
       "<Figure size 720x504 with 1 Axes>"
      ]
     },
     "metadata": {
      "needs_background": "light"
     },
     "output_type": "display_data"
    }
   ],
   "source": [
    "#Coarse Random Search\n",
    "lr_rng_coarse = [-4,-1]\n",
    "mbs_rng_coarse = [16,1024]\n",
    "\n",
    "param1_coarse = {\"hParam type\": \"learning_rate\" ,\n",
    "          \"hParam range\": lr_rng_coarse }\n",
    "    \n",
    "param2_coarse = {\"hParam type\": \"minibatch_size\",\n",
    "          \"hParam range\": mbs_rng_coarse } \n",
    "    \n",
    "lr_rng_fine, mbs_rng_fine, best_comb = random_search_2D(param1 = param1_coarse, param2 = param2_coarse , search_type =\"coarse\", evaluate_metric = \"accuracy\", sample_size = 20, search_summary = True, search_visualization = True)\n"
   ]
  },
  {
   "cell_type": "code",
   "execution_count": null,
   "metadata": {
    "scrolled": true
   },
   "outputs": [],
   "source": [
    "#Fine Random Search\n",
    "\n",
    "param1_fine = {\"hParam type\": \"learning_rate\" ,\n",
    "          \"hParam range\": lr_rng_fine }\n",
    "    \n",
    "param2_fine = {\"hParam type\": \"minibatch_size\",\n",
    "          \"hParam range\": mbs_rng_fine } \n",
    "    \n",
    "lr_rng_detail, mbs_rng_detail, best_comb = random_search_2D(param1 = param1_fine, param2 = param2_fine , search_type =\"fine\", evaluate_metric = \"val_acc\", sample_size = 100, summary = True)\n"
   ]
  },
  {
   "cell_type": "code",
   "execution_count": null,
   "metadata": {
    "scrolled": true
   },
   "outputs": [],
   "source": [
    "#Detail Random Search\n",
    "\n",
    "param1_detail = {\"hParam type\": \"learning_rate\" ,\n",
    "          \"hParam range\": lr_rng_detail }\n",
    "    \n",
    "param2_detail = {\"hParam type\": \"minibatch_size\",\n",
    "          \"hParam range\": mbs_rng_detail } \n",
    "    \n",
    "lr_rng_fine, mbs_rng_fine, best_comb = random_search_2D(param1 = param1_detail, param2 = param2_detail , search_type =\"detail\", evaluate_metric = \"val_acc\", sample_size = 50, summary = True)\n"
   ]
  },
  {
   "cell_type": "code",
   "execution_count": null,
   "metadata": {},
   "outputs": [],
   "source": [
    "print(score)\n",
    "print(np.where(score == np.max(score)))"
   ]
  },
  {
   "cell_type": "code",
   "execution_count": null,
   "metadata": {},
   "outputs": [],
   "source": [
    "fig, ax = plt.subplots(figsize=(8,8))\n",
    "im = plt.imshow(score,cmap=\"RdYlGn\") #RdYlGn, PiYG, Accent,Blues,viridis, YlGnBu\n",
    "fig.colorbar(im,ax=ax,fraction=0.045)\n",
    "\n",
    "m = len(lr)\n",
    "n = len(mbz)\n",
    "    \n",
    "ax.set_title(\"Result of Grid Search\",fontsize=24,pad = 20)\n",
    "ax.set_xticks(range(0,m))\n",
    "ax.set_yticks(range(0,n))\n",
    "ax.set_xlabel(\"Learning Rate\", fontsize = 20)\n",
    "ax.set_ylabel(\"Minibatch Size\", fontsize = 20)\n",
    "\n",
    "ax.set_xticklabels(lr,fontsize=16,rotation=45)\n",
    "ax.set_yticklabels(mbz,fontsize=16)\n",
    "\n",
    "#setting horizontal axes labeling to top.\n",
    "ax.xaxis.set_ticks_position('top')\n",
    "ax.xaxis.set_label_position('top')\n",
    "\n",
    "\n",
    "# Turn off all the ticks\n",
    "ax.tick_params(top=False,left=False)\n",
    "\n",
    "\n",
    "thres = [0.88, 0.96]\n",
    "\n",
    "for i in range(n):\n",
    "    for j in range(m):\n",
    "        ax.text(j, i, \"%.4f\"%(score[i, j]),\n",
    "                       ha=\"center\", va=\"center\", color=\"w\" if score[i,j] > thres[1] or score[i,j] < thres[0]  else \"black\")\n",
    "\n",
    "\n",
    "fig.tight_layout()\n",
    "plt.show()\n"
   ]
  },
  {
   "cell_type": "code",
   "execution_count": null,
   "metadata": {},
   "outputs": [],
   "source": []
  },
  {
   "cell_type": "code",
   "execution_count": null,
   "metadata": {},
   "outputs": [],
   "source": [
    "cm_train = confusion_matrix(train_y_sample,prediction_train)\n",
    "\n",
    "cm_dev = confusion_matrix(dev_y_sample,prediction_dev)\n",
    "\n",
    "cm_test = confusion_matrix(test_y_sample,prediction_test)"
   ]
  },
  {
   "cell_type": "code",
   "execution_count": null,
   "metadata": {},
   "outputs": [],
   "source": [
    "metrics, macro_metrics, acc = model_metrics(cm_train)"
   ]
  },
  {
   "cell_type": "code",
   "execution_count": null,
   "metadata": {},
   "outputs": [],
   "source": []
  },
  {
   "cell_type": "code",
   "execution_count": null,
   "metadata": {},
   "outputs": [],
   "source": []
  },
  {
   "cell_type": "code",
   "execution_count": null,
   "metadata": {},
   "outputs": [],
   "source": [
    "save_model(file_name = \"hyperParameters\", parameters = hyper_params)"
   ]
  },
  {
   "cell_type": "code",
   "execution_count": null,
   "metadata": {},
   "outputs": [],
   "source": [
    "loaded_hyper_params = load_model(file_name = \"final_model_adam_dropout\")"
   ]
  },
  {
   "cell_type": "code",
   "execution_count": null,
   "metadata": {},
   "outputs": [],
   "source": [
    "for key,value in loaded_hyper_params.items():\n",
    "    print(key + \": \" + str(value))"
   ]
  }
 ],
 "metadata": {
  "kernelspec": {
   "display_name": "Python 3",
   "language": "python",
   "name": "python3"
  },
  "language_info": {
   "codemirror_mode": {
    "name": "ipython",
    "version": 3
   },
   "file_extension": ".py",
   "mimetype": "text/x-python",
   "name": "python",
   "nbconvert_exporter": "python",
   "pygments_lexer": "ipython3",
   "version": "3.7.6"
  }
 },
 "nbformat": 4,
 "nbformat_minor": 4
}
