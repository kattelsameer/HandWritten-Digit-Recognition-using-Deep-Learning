{
 "cells": [
  {
   "cell_type": "code",
   "execution_count": 11,
   "metadata": {},
   "outputs": [],
   "source": [
    "# Python Standard Libraries for importing data from binary file\n",
    "import os.path #for accessing the file path\n",
    "import struct  #for unpacking the binary data\n",
    "\n",
    "import time    #for calculating time\n",
    "\n",
    "#core packages\n",
    "import numpy as np\n",
    "import matplotlib.pyplot as plt\n",
    "\n",
    "#custom module\n",
    "from dataPrep import load_dataset, prep_dataset, sample_dataset\n"
   ]
  },
  {
   "cell_type": "code",
   "execution_count": 12,
   "metadata": {},
   "outputs": [
    {
     "name": "stdout",
     "output_type": "stream",
     "text": [
      "Help on function load_dataset in module dataPrep:\n",
      "\n",
      "load_dataset()\n",
      "    Retrive the dataset from file into training, dev and test sets.\n",
      "    \n",
      "    Returns: \n",
      "    train_x_orig -  training set images consisting of no. of examples, rows, columns of images, \n",
      "                    size(60000,28,28)\n",
      "    train_y_orig -  training set output consisting of image labels, size(60000,1)\n",
      "    dev_x_orig  - dev set images of size (5000,28,28)\n",
      "    dev_y_orig  - dev set labels of size (5000,1)\n",
      "    test_x_orig - test set images of size (5000,28,28)\n",
      "    test_y_orig - test set labels of size (5000,1)\n",
      "\n"
     ]
    }
   ],
   "source": [
    "help(load_dataset)"
   ]
  },
  {
   "cell_type": "code",
   "execution_count": 13,
   "metadata": {},
   "outputs": [
    {
     "name": "stdout",
     "output_type": "stream",
     "text": [
      "Data\t\t\t Datatype\t\t Shape\n",
      "=================================================================\n",
      "Training Set Images:\t<class 'numpy.ndarray'>\t (60000, 28, 28)\n",
      "Training Set Labels:\t<class 'numpy.ndarray'>\t (60000, 1)\n",
      "Dev Set Images:\t\t<class 'numpy.ndarray'>\t (5000, 28, 28)\n",
      "Dev Set Labels:\t\t<class 'numpy.ndarray'>\t (5000, 1)\n",
      "Test Set Images:\t<class 'numpy.ndarray'>\t (5000, 28, 28)\n",
      "Test Set Labels:\t<class 'numpy.ndarray'>\t (5000, 1)\n",
      "=================================================================\n"
     ]
    }
   ],
   "source": [
    "train_x_orig, train_y_orig, dev_x_orig, dev_y_orig, test_x_orig, test_y_orig = load_dataset()\n",
    "\n",
    "print(\"Data\\t\\t\\t\",\"Datatype\\t\\t\",\"Shape\")\n",
    "print(\"=================================================================\")\n",
    "print(\"Training Set Images:\\t\" + str(type(train_x_orig))+\"\\t\",str(train_x_orig.shape))\n",
    "print(\"Training Set Labels:\\t\" + str(type(train_y_orig))+\"\\t\",str(train_y_orig.shape))\n",
    "print(\"Dev Set Images:\\t\\t\" + str(type(dev_x_orig))+\"\\t\",str(dev_x_orig.shape))\n",
    "print(\"Dev Set Labels:\\t\\t\" + str(type(dev_y_orig))+\"\\t\",str(dev_y_orig.shape))\n",
    "print(\"Test Set Images:\\t\" + str(type(test_x_orig))+\"\\t\",str(test_x_orig.shape))\n",
    "print(\"Test Set Labels:\\t\" + str(type(test_y_orig))+\"\\t\",str(test_y_orig.shape))\n",
    "print(\"=================================================================\")\n"
   ]
  },
  {
   "cell_type": "code",
   "execution_count": 14,
   "metadata": {},
   "outputs": [
    {
     "name": "stdout",
     "output_type": "stream",
     "text": [
      "Help on function prep_dataset in module dataPrep:\n",
      "\n",
      "prep_dataset(train_x_orig, train_y_orig, dev_x_orig, dev_y_orig, test_x_orig, test_y_orig)\n",
      "    Flatten and Normalize the input images and encode the output labels\n",
      "    \n",
      "    Arguments:\n",
      "        train_x_orig -  training set images of size (60000,28,28)\n",
      "        train_y_orig -  training set labels of size (60000,1)\n",
      "        dev_x_orig   - dev set images of size (5000,28,28)\n",
      "        dev_y_orig   - dev set labels of size (5000,1)\n",
      "        test_x_orig  - test set images of size (5000,28,28)\n",
      "        test_y_orig  - test set labels of size (5000,1)\n",
      "    Returns:\n",
      "        train_x_norm - flattened and normalized training set input data\n",
      "        dev_norm     - flattened and normalized training set dev data\n",
      "        test_x_norm  - flattened and normalized test set input data\n",
      "        train_y_encoded - encoded label of training set\n",
      "        dev_y_encoded   - encoded label of dev set\n",
      "        test_y_encoded  - encoded label of test set\n",
      "\n"
     ]
    }
   ],
   "source": [
    "help(prep_dataset)"
   ]
  },
  {
   "cell_type": "code",
   "execution_count": 15,
   "metadata": {},
   "outputs": [
    {
     "name": "stdout",
     "output_type": "stream",
     "text": [
      "Data\t\t\t Before Processing\t After Processing\n",
      "=================================================================\n",
      "Training Set Images:\t(60000, 28, 28)\t\t(784, 60000)\n",
      "Training Set Labels:\t(60000, 1)\t\t(11, 60000)\n",
      "Dev Set Images:\t\t(5000, 28, 28)\t\t(784, 5000)\n",
      "Dev Set Labels:\t\t(5000, 1)\t\t(11, 5000)\n",
      "Test Set Images:\t(5000, 28, 28)\t\t(784, 5000)\n",
      "Test Set Labels:\t(5000, 1)\t\t(11, 5000)\n",
      "=================================================================\n"
     ]
    }
   ],
   "source": [
    "train_x_norm,train_y_encoded, dev_x_norm,dev_y_encoded, test_x_norm, test_y_encoded = prep_dataset(train_x_orig, train_y_orig, dev_x_orig, dev_y_orig, test_x_orig, test_y_orig)\n",
    "print(\"Data\\t\\t\\t\",\"Before Processing\\t\",\"After Processing\")\n",
    "print(\"=================================================================\")\n",
    "print(\"Training Set Images:\\t\" + str(train_x_orig.shape)+\"\\t\\t\"+ str(train_x_norm.shape))\n",
    "print(\"Training Set Labels:\\t\" + str(train_y_orig.shape)+\"\\t\\t\"+ str(train_y_encoded.shape))\n",
    "print(\"Dev Set Images:\\t\\t\" + str(dev_x_orig.shape)+\"\\t\\t\"+ str(dev_x_norm.shape))\n",
    "print(\"Dev Set Labels:\\t\\t\" + str(dev_y_orig.shape)+\"\\t\\t\"+ str(dev_y_encoded.shape))\n",
    "print(\"Test Set Images:\\t\" + str(test_x_orig.shape)+\"\\t\\t\"+ str(test_x_norm.shape))\n",
    "print(\"Test Set Labels:\\t\" + str(test_y_orig.shape)+\"\\t\\t\"+ str(test_y_encoded.shape))\n",
    "print(\"=================================================================\")"
   ]
  },
  {
   "cell_type": "code",
   "execution_count": 16,
   "metadata": {},
   "outputs": [
    {
     "name": "stdout",
     "output_type": "stream",
     "text": [
      "Help on function sample_dataset in module dataPrep:\n",
      "\n",
      "sample_dataset(x, y, dataVol=10)\n",
      "    Returns a sample dataset from the fully processed dataset\n",
      "    \n",
      "    Arguments:\n",
      "        x - input data\n",
      "        y - output data\n",
      "        dataVol - sample volume in percentage\n",
      "     Returns:\n",
      "         x_sample - input sample of size ( dataVol% of x)\n",
      "         y_sample - output sample of size (datavol% of y)\n",
      "         dataVol - sample volume in percentage\n",
      "\n"
     ]
    }
   ],
   "source": [
    "help(sample_dataset)"
   ]
  },
  {
   "cell_type": "code",
   "execution_count": 17,
   "metadata": {},
   "outputs": [
    {
     "name": "stdout",
     "output_type": "stream",
     "text": [
      "Data\t\t\t Complete Data Shape\t Sample Data Shape\t Sample Size\n",
      "=====================================================================================\n",
      "Training Set Images:\t(784, 60000)\t\t(784, 6000)\t\t10%\n",
      "Training Set Labels:\t(11, 60000)\t\t(11, 6000)\n",
      "Dev Set Images:\t\t(784, 5000)\t\t(784, 500)\t\t10%\n",
      "Dev Set Labels:\t\t(11, 5000)\t\t(11, 500)\n",
      "Test Set Images:\t(784, 5000)\t\t(784, 500)\t\t10%\n",
      "Test Set Labels:\t(11, 5000)\t\t(11, 500)\n",
      "=====================================================================================\n"
     ]
    }
   ],
   "source": [
    "train_Vol,train_x_sample, train_y_sample = sample_dataset(train_x_norm,train_y_encoded)\n",
    "dev_Vol,dev_x_sample,dev_y_sample = sample_dataset(dev_x_norm,dev_y_encoded)\n",
    "test_Vol,test_x_sample,test_y_sample = sample_dataset(test_x_norm,test_y_encoded)\n",
    "\n",
    "print(\"Data\\t\\t\\t\",\"Complete Data Shape\\t\",\"Sample Data Shape\\t\",\"Sample Size\")\n",
    "print(\"=====================================================================================\")\n",
    "print(\"Training Set Images:\\t\"+ str(train_x_norm.shape)+\"\\t\\t\"+ str(train_x_sample.shape)+\"\\t\\t\"+str(train_Vol)+\"%\")\n",
    "print(\"Training Set Labels:\\t\"+ str(train_y_encoded.shape)+\"\\t\\t\"+ str(train_y_sample.shape))\n",
    "print(\"Dev Set Images:\\t\\t\"+str(dev_x_norm.shape)+\"\\t\\t\"+ str(dev_x_sample.shape)+\"\\t\\t\"+str(dev_Vol)+\"%\")\n",
    "print(\"Dev Set Labels:\\t\\t\"+str(dev_y_encoded.shape)+\"\\t\\t\"+ str(dev_y_sample.shape))\n",
    "print(\"Test Set Images:\\t\"+str(test_x_norm.shape)+\"\\t\\t\"+ str(test_x_sample.shape)+\"\\t\\t\"+str(test_Vol)+\"%\")\n",
    "print(\"Test Set Labels:\\t\"+str(test_y_encoded.shape)+\"\\t\\t\"+ str(test_y_sample.shape))\n",
    "print(\"=====================================================================================\")\n"
   ]
  },
  {
   "cell_type": "code",
   "execution_count": null,
   "metadata": {},
   "outputs": [],
   "source": []
  },
  {
   "cell_type": "code",
   "execution_count": null,
   "metadata": {},
   "outputs": [],
   "source": []
  }
 ],
 "metadata": {
  "kernelspec": {
   "display_name": "Python 3",
   "language": "python",
   "name": "python3"
  },
  "language_info": {
   "codemirror_mode": {
    "name": "ipython",
    "version": 3
   },
   "file_extension": ".py",
   "mimetype": "text/x-python",
   "name": "python",
   "nbconvert_exporter": "python",
   "pygments_lexer": "ipython3",
   "version": "3.7.6"
  }
 },
 "nbformat": 4,
 "nbformat_minor": 4
}
