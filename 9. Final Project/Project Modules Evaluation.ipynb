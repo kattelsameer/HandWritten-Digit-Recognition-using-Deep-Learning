{
 "cells": [
  {
   "cell_type": "markdown",
   "metadata": {},
   "source": [
    "## Importing Dependencies"
   ]
  },
  {
   "cell_type": "code",
   "execution_count": 1,
   "metadata": {},
   "outputs": [],
   "source": [
    "import time    #for calculating time\n",
    "\n",
    "#core packages\n",
    "import numpy as np\n",
    "import matplotlib.pyplot as plt\n",
    "\n",
    "#custom module\n",
    "from  dataset import load_dataset, train_dev_split, prep_dataset\n",
    "from dataset import visualize_data_distribution, visualize_dataset\n",
    "\n",
    "from ModelUtils import relu, relu_grad, softmax\n",
    "from ModelUtils import rand_mini_batches, convert_time\n",
    "from ModelUtils import confusion_matrix, plot_confusion_matrix, model_metrics, metric_summary\n",
    "from ModelUtils import visualize_training_results, visualize_prediction, visualize_mislabelled_images\n",
    "from ModelUtils import save_model, load_model\n",
    "\n",
    "\n",
    "\n",
    "np.random.seed(1)\n",
    "%matplotlib inline"
   ]
  },
  {
   "cell_type": "markdown",
   "metadata": {},
   "source": [
    "## Dataset Preparation"
   ]
  },
  {
   "cell_type": "markdown",
   "metadata": {},
   "source": [
    "### Loading Dataset"
   ]
  },
  {
   "cell_type": "code",
   "execution_count": 2,
   "metadata": {},
   "outputs": [
    {
     "name": "stdout",
     "output_type": "stream",
     "text": [
      "Sample Size : 100%\n",
      "\n",
      "Data\t\t\t Datatype\t\t Dataset Size\n",
      "=================================================================\n",
      "Training Set Images:\t<class 'numpy.ndarray'>\t (60000, 28, 28)\n",
      "Training Set Labels:\t<class 'numpy.ndarray'>\t (60000, 1)\n",
      "Test Set Images:\t<class 'numpy.ndarray'>\t (10000, 28, 28)\n",
      "Test Set Labels:\t<class 'numpy.ndarray'>\t (10000, 1)\n",
      "=================================================================\n"
     ]
    }
   ],
   "source": [
    "dataset_size_in_per = 100\n",
    "\n",
    "train_x_orig, train_y_orig, test_x_orig, test_y_orig = load_dataset(dataset = \"mnist\", size_in_per = dataset_size_in_per)\n",
    "\n",
    "print(\"Sample Size : %d%%\\n\"%(dataset_size_in_per))\n",
    "print(\"Data\\t\\t\\t\",\"Datatype\\t\\t\",\"Dataset Size\")\n",
    "print(\"=================================================================\")\n",
    "print(\"Training Set Images:\\t\" + str(type(train_x_orig))+\"\\t\",str(train_x_orig.shape))\n",
    "print(\"Training Set Labels:\\t\" + str(type(train_y_orig))+\"\\t\",str(train_y_orig.shape))\n",
    "print(\"Test Set Images:\\t\" + str(type(test_x_orig))+\"\\t\",str(test_x_orig.shape))\n",
    "print(\"Test Set Labels:\\t\" + str(type(test_y_orig))+\"\\t\",str(test_y_orig.shape))\n",
    "print(\"=================================================================\")\n",
    "\n"
   ]
  },
  {
   "cell_type": "markdown",
   "metadata": {},
   "source": [
    "### Train-Dev set Split"
   ]
  },
  {
   "cell_type": "code",
   "execution_count": 3,
   "metadata": {},
   "outputs": [
    {
     "name": "stdout",
     "output_type": "stream",
     "text": [
      "Data\t\t\t\t Datatype\t\t Shape\n",
      "========================================================================\n",
      "Training Set Images:\t\t<class 'numpy.ndarray'>\t (51000, 28, 28)\n",
      "Training Set Labels:\t\t<class 'numpy.ndarray'>\t (51000, 1)\n",
      "Development Set Images:\t\t<class 'numpy.ndarray'>\t (9000, 28, 28)\n",
      "Development Set Labels:\t\t<class 'numpy.ndarray'>\t (9000, 1)\n",
      "========================================================================\n"
     ]
    }
   ],
   "source": [
    "train_x_split, train_y_split, dev_x_split, dev_y_split = train_dev_split(train_x_orig, train_y_orig)\n",
    "\n",
    "print(\"Data\\t\\t\\t\\t\",\"Datatype\\t\\t\",\"Shape\")\n",
    "print(\"========================================================================\")\n",
    "print(\"Training Set Images:\\t\\t\" + str(type(train_x_split))+\"\\t\",str(train_x_split.shape))\n",
    "print(\"Training Set Labels:\\t\\t\" + str(type(train_y_split))+\"\\t\",str(train_y_split.shape))\n",
    "print(\"Development Set Images:\\t\\t\" + str(type(dev_x_split))+\"\\t\",str(dev_x_split.shape))\n",
    "print(\"Development Set Labels:\\t\\t\" + str(type(dev_y_split))+\"\\t\",str(dev_y_split.shape))\n",
    "print(\"========================================================================\")\n"
   ]
  },
  {
   "cell_type": "markdown",
   "metadata": {},
   "source": [
    "### Visualizing Data Distribution"
   ]
  },
  {
   "cell_type": "code",
   "execution_count": null,
   "metadata": {},
   "outputs": [],
   "source": [
    "visualize_data_distribution(train_y_split, dataset_type = \"training\")\n",
    "visualize_data_distribution(dev_y_split,  dataset_type = \"dev\")\n",
    "visualize_data_distribution(test_y_orig,  dataset_type = \"test\")"
   ]
  },
  {
   "cell_type": "markdown",
   "metadata": {},
   "source": [
    "### Visualizing Dataset"
   ]
  },
  {
   "cell_type": "code",
   "execution_count": null,
   "metadata": {},
   "outputs": [],
   "source": [
    "visualize_dataset(train_x_split, train_y_split, dataset = \"mnist\", dataset_type = \"training\")\n",
    "visualize_dataset(dev_x_split, dev_y_split, dataset = \"mnist\", dataset_type = \"dev\")\n",
    "visualize_dataset(test_x_orig, test_y_orig, dataset = \"mnist\", dataset_type=\"test\")"
   ]
  },
  {
   "cell_type": "markdown",
   "metadata": {},
   "source": [
    "### Preparing Dataset"
   ]
  },
  {
   "cell_type": "code",
   "execution_count": 4,
   "metadata": {},
   "outputs": [
    {
     "name": "stdout",
     "output_type": "stream",
     "text": [
      "Data\t\t\t Before Processing\t After Processing\n",
      "=================================================================\n",
      "Training Set Images:\t(51000, 28, 28)\t\t(784, 51000)\n",
      "Training Set Labels:\t(51000, 1)\t\t(10, 51000)\n",
      "Dev Set Images:\t\t(9000, 28, 28)\t\t(784, 9000)\n",
      "Dev Set Labels:\t\t(9000, 1)\t\t(10, 9000)\n",
      "Test Set Images:\t(10000, 28, 28)\t\t(784, 10000)\n",
      "Test Set Labels:\t(10000, 1)\t\t(10, 10000)\n",
      "=================================================================\n"
     ]
    }
   ],
   "source": [
    "train_x_norm, train_y_encoded = prep_dataset(train_x_split, train_y_split, num_class = 10)\n",
    "dev_x_norm, dev_y_encoded= prep_dataset(dev_x_split, dev_y_split, num_class = 10)\n",
    "test_x_norm, test_y_encoded = prep_dataset(test_x_orig, test_y_orig, num_class = 10)\n",
    "\n",
    "print(\"Data\\t\\t\\t\",\"Before Processing\\t\",\"After Processing\")\n",
    "print(\"=================================================================\")\n",
    "print(\"Training Set Images:\\t\" + str(train_x_split.shape)+\"\\t\\t\"+ str(train_x_norm.shape))\n",
    "print(\"Training Set Labels:\\t\" + str(train_y_split.shape)+\"\\t\\t\"+ str(train_y_encoded.shape))\n",
    "print(\"Dev Set Images:\\t\\t\" + str(dev_x_split.shape)+\"\\t\\t\"+ str(dev_x_norm.shape))\n",
    "print(\"Dev Set Labels:\\t\\t\" + str(dev_y_split.shape)+\"\\t\\t\"+ str(dev_y_encoded.shape))\n",
    "print(\"Test Set Images:\\t\" + str(test_x_orig.shape)+\"\\t\\t\"+ str(test_x_norm.shape))\n",
    "print(\"Test Set Labels:\\t\" + str(test_y_orig.shape)+\"\\t\\t\"+ str(test_y_encoded.shape))\n",
    "print(\"=================================================================\")"
   ]
  },
  {
   "cell_type": "markdown",
   "metadata": {},
   "source": [
    "## Model Implementation"
   ]
  },
  {
   "cell_type": "markdown",
   "metadata": {},
   "source": [
    "### Initializing the Model"
   ]
  },
  {
   "cell_type": "markdown",
   "metadata": {},
   "source": [
    "#### Initializing Layers"
   ]
  },
  {
   "cell_type": "code",
   "execution_count": 5,
   "metadata": {},
   "outputs": [],
   "source": [
    "def init_layers(X,Y,hidden_layers):\n",
    "    \"\"\"\n",
    "        \n",
    "        Arguments:\n",
    "            \n",
    "            \n",
    "        Returns:\n",
    "            \n",
    "            \n",
    "        Example:\n",
    "            Here, shape of x = (784,m)\n",
    "                  shape of y = (10,m)\n",
    "            >>> layers_dim = init_layers(x, y, hidden_layers = [32,16])\n",
    "            >>> print(layers_dim)\n",
    "            \n",
    "            Outputs:\n",
    "                [784, 32, 16, 10]\n",
    "    \"\"\"\n",
    "    input_nodes = X.shape[0]\n",
    "    output_nodes = Y.shape[0]\n",
    "    \n",
    "    layers_dim = [input_nodes]\n",
    "    \n",
    "    for i in hidden_layers:\n",
    "        layers_dim.append(i)\n",
    "    \n",
    "    layers_dim.append(output_nodes)\n",
    "    \n",
    "    return layers_dim"
   ]
  },
  {
   "cell_type": "markdown",
   "metadata": {},
   "source": [
    "#### Initializing Parameters"
   ]
  },
  {
   "cell_type": "code",
   "execution_count": 6,
   "metadata": {},
   "outputs": [],
   "source": [
    "def init_parameters(layers_dim, initialization = \"random\"):\n",
    "    \"\"\"\n",
    "        \n",
    "        Arguments:\n",
    "            \n",
    "            \n",
    "        Returns:\n",
    "            \n",
    "            \n",
    "        Example:\n",
    "            Here, layers_dim = [784, 32, 16, 10]\n",
    "            >>> parameters = init_parameters(layers_dim, initialization = \"random\")\n",
    "            >>> print(\"Layer\\tWeight\\t\\tBias\")\n",
    "            >>> print(\"================================\")\n",
    "            >>> for l in range(1,len(layers_dim)):\n",
    "            ...     print(str(l) +\"\\t\" + str(parameters['W'+str(l)].shape) +\"\\t\"+ str(parameters['b'+str(l)].shape))\n",
    "\n",
    "            \n",
    "            Outputs:\n",
    "                Layer    Weight         Bias\n",
    "                ================================\n",
    "                1        (32, 784)      (32, 1)\n",
    "                2        (16, 32)       (16, 1)\n",
    "                3        (10, 16)       (10, 1)\n",
    "    \"\"\"\n",
    "    L = len(layers_dim)\n",
    "    params = {}\n",
    "        \n",
    "    for l in range(1,L):\n",
    "        #initializing Weights\n",
    "        if initialization == \"he\":\n",
    "            # he-initialization\n",
    "            params['W' + str(l)] = np.random.randn(layers_dim[l],layers_dim[l-1]) * np.sqrt(np.divide(2,layers_dim[l-1])) \n",
    "        elif initialization == \"random\":\n",
    "            # random initialization scaled by 0.01\n",
    "            params['W' + str(l)] = np.random.randn(layers_dim[l],layers_dim[l-1]) * 0.01 \n",
    "        else:\n",
    "             raise ValueError(\"Initialization must be 'random' or 'he'\")\n",
    "        \n",
    "        #initializing biases\n",
    "        params['b' + str(l)] = np.zeros((layers_dim[l],1))\n",
    "     \n",
    "        assert(params['W' + str(l)].shape == (layers_dim[l],layers_dim[l-1])), \"Dimention of W mismatched in init_params function\"\n",
    "        assert(params['b' + str(l)].shape == (layers_dim[l],1)), \"Dimention of b mismatched in init_params function\"\n",
    "   \n",
    "    return params"
   ]
  },
  {
   "cell_type": "markdown",
   "metadata": {},
   "source": [
    "#### Initializing Hyper Parameters"
   ]
  },
  {
   "cell_type": "code",
   "execution_count": 7,
   "metadata": {},
   "outputs": [],
   "source": [
    "def init_hyperParams(alpha, num_epoch, minibatch_size, lambd = 0, keep_probs = []):\n",
    "    \"\"\"\n",
    "        \n",
    "        Arguments:\n",
    "            \n",
    "            \n",
    "        Returns:\n",
    "            \n",
    "            \n",
    "        Example:\n",
    "            >>> hyperParams = init_hyperParams(alpha = 0.0001, num_epoch = 10, minibatch_size = 1024,lambd = 0.7,keep_probs = [0.8,0.8])\n",
    "    \"\"\"\n",
    "    hyperParams = {'learning_rate':alpha,\n",
    "                   'num_epoch':num_epoch,\n",
    "                   'mini_batch_size':minibatch_size,\n",
    "                   'lambda':lambd,\n",
    "                   'keep_probs':keep_probs,\n",
    "                   'beta1':0.9,\n",
    "                   'beta2':0.999,\n",
    "                   'epsilon':1e-8\n",
    "                  }\n",
    "    \n",
    "    return hyperParams"
   ]
  },
  {
   "cell_type": "markdown",
   "metadata": {},
   "source": [
    "### Forward Propagation"
   ]
  },
  {
   "cell_type": "markdown",
   "metadata": {},
   "source": [
    "#### Forward Sum for individual Layer"
   ]
  },
  {
   "cell_type": "code",
   "execution_count": 8,
   "metadata": {},
   "outputs": [],
   "source": [
    "def forward_sum(A_prev,W,b):\n",
    "    \"\"\"\n",
    "    \n",
    "    \n",
    "        Example:\n",
    "            >>> np.random.seed(1)\n",
    "            >>> A = np.random.randn(3,2)\n",
    "            >>> W = np.random.randn(1,3)\n",
    "            >>> b = np.random.randn(1,1)\n",
    "            >>> Z, c = forward_sum(A,W,b)\n",
    "            >>> print(\"Z = \"+ str(Z))\n",
    "            \n",
    "            Output:\n",
    "                Z = [[ 3.26295337 -1.23429987]]\n",
    "        \n",
    "    \"\"\"\n",
    "    m = A_prev.shape[1]\n",
    "    \n",
    "    Z = np.dot(W,A_prev) + b\n",
    "    \n",
    "    cache = (A_prev,W,b)\n",
    "    \n",
    "    assert (Z.shape == (W.shape[0], m)), \"Dimention of Z mismatched in forward_prop function\"\n",
    "    \n",
    "    return Z, cache"
   ]
  },
  {
   "cell_type": "markdown",
   "metadata": {},
   "source": [
    "#### Forward Activation for individual Layer"
   ]
  },
  {
   "cell_type": "code",
   "execution_count": 9,
   "metadata": {},
   "outputs": [],
   "source": [
    "def forward_activation(A_prev,W,b,activation):\n",
    "    \"\"\"\n",
    "    \n",
    "    \n",
    "        Example:\n",
    "            >>> np.random.seed(1)\n",
    "            >>> A_prev = np.random.randn(3,2)\n",
    "            >>> W = np.random.randn(1,3)\n",
    "            >>> b = np.random.randn(1,1)\n",
    "\n",
    "            >>> A,c = forward_activation(A_prev,W,b,activation = 'relu')\n",
    "            >>> print(\"A with Relu = \" + str(A))\n",
    "\n",
    "            >>> A,c = forward_activation(A_prev,W,b,activation = 'softmax')\n",
    "            >>> print(\"A with Softmax = \" + str(A))\n",
    "            \n",
    "            Output:\n",
    "                A with Relu = [[3.26295337 0.        ]]\n",
    "                A with Softmax = [[1. 1.]]\n",
    "    \"\"\"\n",
    "    \n",
    "    if activation == 'relu':\n",
    "        Z, sum_cache = forward_sum(A_prev,W,b)\n",
    "        A, activation_cache = relu(Z)\n",
    "        \n",
    "    elif activation == 'softmax':\n",
    "        Z, sum_cache = forward_sum(A_prev,W,b)\n",
    "        A, activation_cache = softmax(Z)\n",
    "    \n",
    "    elif activation == \"tanh\":\n",
    "#         Z, sum_cache = forward_sum(A_prev,W,b)\n",
    "#         A, activation_cache = tanh(Z)\n",
    "        pass\n",
    "    \n",
    "    cache = (sum_cache,activation_cache)\n",
    "    \n",
    "    assert(A.shape == Z.shape), \"Dimention of A mismatched in forward_activation function\"\n",
    "    \n",
    "    return A, cache"
   ]
  },
  {
   "cell_type": "markdown",
   "metadata": {},
   "source": [
    "#### Dropout for individual Layer"
   ]
  },
  {
   "cell_type": "code",
   "execution_count": 10,
   "metadata": {},
   "outputs": [],
   "source": [
    "def forward_dropout(A,keep_probs):\n",
    "     #implementing dropout\n",
    "    D = np.random.rand(A.shape[0],A.shape[1])\n",
    "    D = (D < keep_probs).astype(int)\n",
    "    A = np.multiply(A,D)\n",
    "    A = np.divide(A,keep_probs)\n",
    "    \n",
    "    dropout_mask = D\n",
    "    \n",
    "    assert (dropout_mask.shape == A.shape), \"Dimention of dropout_mask mismatched in forward_dropout function\"\n",
    "    \n",
    "    return A,dropout_mask"
   ]
  },
  {
   "cell_type": "markdown",
   "metadata": {},
   "source": [
    "#### Forward Prop for L Layers"
   ]
  },
  {
   "cell_type": "code",
   "execution_count": 11,
   "metadata": {},
   "outputs": [],
   "source": [
    "def forward_prop(X, parameters, keep_probs = [], regularizer = None):\n",
    "    \"\"\"\n",
    "    \n",
    "        Example:\n",
    "            >>> np.random.seed(1)\n",
    "            >>> X = np.random.randn(3,2)\n",
    "            >>> W1 = np.random.randn(3,3)\n",
    "            >>> b1 = np.random.randn(3,1)\n",
    "            >>> W2 = np.random.randn(2,3)\n",
    "            >>> b2 = np.random.randn(2,1)\n",
    "            >>> parameters = {\"W1\": W1,\n",
    "                              \"b1\": b1,\n",
    "                              \"W2\": W2,\n",
    "                              \"b2\": b2}\n",
    "            >>> AL, caches, _ = forward_prop(X, parameters)\n",
    "            >>> print(\"AL without dropout = \" + str(AL))\n",
    "\n",
    "            >>> AL, caches, _ = forward_prop(X, parameters,keep_probs = [0.9], regularizer = \"dropout\")\n",
    "            >>> print(\"\\nAL with dropout = \" + str(AL))\n",
    "\n",
    "            >>> print(\"\\nLength of caches list = \" + str(len(caches)))\n",
    "            \n",
    "            Output:\n",
    "                AL without dropout = [[0.25442549 0.64096177]\n",
    "                 [0.74557451 0.35903823]]\n",
    "\n",
    "                AL with dropout = [[0.20251119 0.61487938]\n",
    "                 [0.79748881 0.38512062]]\n",
    "\n",
    "                Length of caches list = 2\n",
    "    \n",
    "    \"\"\"\n",
    "    caches = []\n",
    "    A = X\n",
    "    L = len(parameters) // 2\n",
    "    num_class = parameters[\"W\"+str(L)].shape[0]\n",
    "    \n",
    "    dropout_masks = []\n",
    "\n",
    "    # len(keep_probs) == L-1: no dropouts in the Output layer, no dropout at all for prediction\n",
    "    if regularizer == \"dropout\":\n",
    "        assert(len(keep_probs) == L-1 ) \n",
    "    \n",
    "    for l in range(1, L):\n",
    "        A_prev = A \n",
    "        A, cache = forward_activation(A_prev,parameters['W' + str(l)],parameters['b' + str(l)], activation='relu')\n",
    "        caches.append(cache)\n",
    "        if regularizer == \"dropout\":\n",
    "            A , dropout_mask = forward_dropout(A,keep_probs[l-1])\n",
    "            dropout_masks.append(dropout_mask)\n",
    "        else:\n",
    "            pass\n",
    "\n",
    "    AL, cache = forward_activation(A, parameters['W' + str(L)], parameters['b' + str(L)], activation='softmax')\n",
    "    caches.append(cache)\n",
    "    \n",
    "    assert(AL.shape == (num_class,X.shape[1])), \"Dimention of AL mismatched in forward_prop function\"\n",
    "    \n",
    "    return AL,caches,dropout_masks\n",
    "    "
   ]
  },
  {
   "cell_type": "markdown",
   "metadata": {},
   "source": [
    "### Compute Cost"
   ]
  },
  {
   "cell_type": "code",
   "execution_count": 12,
   "metadata": {},
   "outputs": [],
   "source": [
    "def softmax_cross_entropy_cost(AL, Y, caches, lambd = 0, regularizer = None):\n",
    "    \"\"\"\n",
    "    \n",
    "    \n",
    "        Example:\n",
    "            >>> AL = np.array([[4.21200131e-01, 1.55876995e-04],\n",
    "                           [6.91917292e-02, 1.18118501e-05],\n",
    "                           [5.09608140e-01, 9.99832311e-01]])\n",
    "            >>> cost = softmax_cross_entropy_cost(AL, Y, caches)\n",
    "            >>> print(\"Cost without l2 = \" + str(cost))\n",
    "\n",
    "            >>> cost = softmax_cross_entropy_cost(AL, Y, caches, lambd = 0.7, regularizer = 'l2')\n",
    "            >>> print(\"Cost with l2 = \" + str(cost))\n",
    "            \n",
    "            Output:\n",
    "                Cost without l2 = 0.6742809046007259\n",
    "                Cost with l2 = 8.875542970361\n",
    "    \"\"\"\n",
    "    \n",
    "    L = len(caches)\n",
    "    m = Y.shape[1]\n",
    "    \n",
    "    cost = -(1./m) * np.sum(np.sum(np.multiply(Y,np.log(AL + 1e-8)), axis = 0,keepdims=True))# add very small number 1e-8 to avoid log(0)\n",
    "\n",
    "    if regularizer == \"l2\":\n",
    "        norm = 0\n",
    "        for l in range(L):\n",
    "            current_cache = caches[l]\n",
    "            sum_cache, _ = current_cache\n",
    "            _,W,_ = sum_cache\n",
    "            norm += np.sum(np.square(W))\n",
    "\n",
    "        L2_cost = (lambd/(2*m)) * norm \n",
    "        cost = cost + L2_cost\n",
    "    else:\n",
    "        pass\n",
    "    \n",
    "    cost = np.squeeze(cost)      # Making sure your cost's shape is not returned as ndarray\n",
    "    \n",
    "    assert(cost.shape == ()),\"Dimention of cost mismatched in softmax_cross_entropy_cost function\"\n",
    "    \n",
    "    return cost"
   ]
  },
  {
   "cell_type": "markdown",
   "metadata": {},
   "source": [
    "### Backward Propagation"
   ]
  },
  {
   "cell_type": "markdown",
   "metadata": {},
   "source": [
    "#### Calculating Gradients for individual Layer"
   ]
  },
  {
   "cell_type": "code",
   "execution_count": 13,
   "metadata": {},
   "outputs": [],
   "source": [
    "def backward_grad(dZ, cache, lambd, regularizer):\n",
    "    \"\"\"\n",
    "    \n",
    "        Example:\n",
    "            >>> np.random.seed(1)\n",
    "            >>> dZ = np.random.randn(3,4)\n",
    "            >>> A = np.random.randn(5,4)\n",
    "            >>> W = np.random.randn(3,5)\n",
    "            >>> b = np.random.randn(3,1)\n",
    "            >>> cache = (A, W, b)\n",
    "\n",
    "            >>> dA_prev, dW, db = backward_grad(dZ, cache, lambd=0, regularizer=None)\n",
    "            >>> print(\"Without L2 Regularization\")\n",
    "            >>> print (\"dA_prev = \"+ str(dA_prev))\n",
    "            >>> print (\"dW = \" + str(dW))\n",
    "            >>> print (\"db = \" + str(db))\n",
    "\n",
    "            >>> l2_dA_prev, l2_dW, l2_db = backward_grad(dZ, cache, lambd = 0.9, regularizer = 'l2')\n",
    "            >>> print(\"\\nWith L2 Regularization\")\n",
    "            >>> print (\"dA_prev = \"+ str(l2_dA_prev))\n",
    "            >>> print (\"dW = \" + str(l2_dW))\n",
    "            >>> print (\"db = \" + str(l2_db))\n",
    "            \n",
    "            Output:\n",
    "                Without L2 Regularization\n",
    "                dA_prev = [[-1.15171336  0.06718465 -0.3204696   2.09812712]\n",
    "                           [ 0.60345879 -3.72508701  5.81700741 -3.84326836]\n",
    "                           [-0.4319552  -1.30987417  1.72354705  0.05070578]\n",
    "                           [-0.38981415  0.60811244 -1.25938424  1.47191593]\n",
    "                           [-2.52214926  2.67882552 -0.67947465  1.48119548]]\n",
    "                dW = [[ 0.07313866 -0.0976715  -0.87585828  0.73763362  0.00785716]\n",
    "                      [ 0.85508818  0.37530413 -0.59912655  0.71278189 -0.58931808]\n",
    "                      [ 0.97913304 -0.24376494 -0.08839671  0.55151192 -0.10290907]]\n",
    "                db = [[-0.14713786]\n",
    "                      [-0.11313155]\n",
    "                      [-0.13209101]]\n",
    "\n",
    "                With L2 Regularization\n",
    "                dA_prev = [[-1.15171336  0.06718465 -0.3204696   2.09812712]\n",
    "                           [ 0.60345879 -3.72508701  5.81700741 -3.84326836]\n",
    "                           [-0.4319552  -1.30987417  1.72354705  0.05070578]\n",
    "                           [-0.38981415  0.60811244 -1.25938424  1.47191593]\n",
    "                           [-2.52214926  2.67882552 -0.67947465  1.48119548]]\n",
    "                dW = [[-0.0814752  -0.28784277 -1.02688866  0.73478408 -0.24353767]\n",
    "                      [ 0.90783172  0.74875962 -0.43216662  0.6696189  -0.78903459]\n",
    "                      [ 0.81102242  0.13703735 -0.07696496  0.4081879  -0.05995309]]\n",
    "                db = [[-0.14713786]\n",
    "                      [-0.11313155]\n",
    "                      [-0.13209101]]\n",
    "    \"\"\"\n",
    "    \n",
    "    A_prev, W, b = cache\n",
    "    m = A_prev.shape[1]\n",
    "    \n",
    "    if regularizer == \"l2\":\n",
    "        dW = (1/m) * np.dot(dZ,A_prev.T) + np.multiply(np.divide(lambd,m),W )\n",
    "    else:\n",
    "        dW = (1/m) * np.dot(dZ,A_prev.T)\n",
    "\n",
    "    db = (1/m) * np.sum(dZ, axis = 1, keepdims=True )\n",
    "    dA_prev = np.dot(W.T, dZ)\n",
    "\n",
    "    \n",
    "    assert (dW.shape == W.shape), \"Dimention of dW mismatched in backward_grad function\"\n",
    "    assert (db.shape == b.shape), \"Dimention of db mismatched in backward_grad function\"\n",
    "    assert (dA_prev.shape == A_prev.shape), \"Dimention of dA_prev mismatched in backward_grad function\"\n",
    "    \n",
    "    \n",
    "    return dA_prev, dW, db"
   ]
  },
  {
   "cell_type": "markdown",
   "metadata": {},
   "source": [
    "#### Calculating Backward Activation for individual layer"
   ]
  },
  {
   "cell_type": "code",
   "execution_count": 14,
   "metadata": {},
   "outputs": [],
   "source": [
    "def backward_activation(dA, cache, lambd ,regularizer, activation):\n",
    "    \"\"\"\n",
    "    \n",
    "    \n",
    "    Example:\n",
    "        >>> np.random.seed(2)\n",
    "        >>> dA = np.random.randn(1,2)\n",
    "        >>> A = np.random.randn(3,2)\n",
    "        >>> W = np.random.randn(1,3)\n",
    "        >>> b = np.random.randn(1,1)\n",
    "        >>> Z = np.random.randn(1,2)\n",
    "        >>> sum_cache = (A, W, b)\n",
    "        >>> activation_cache = Z\n",
    "        >>> cache = (sum_cache, activation_cache)\n",
    "\n",
    "        >>> dA_prev, dW, db = backward_activation(dA, cache, lambd = 0 ,regularizer = None, activation = \"relu\")\n",
    "        >>> print(\"With Relu\")\n",
    "        >>> print (\"dA_prev = \"+ str(dA_prev))\n",
    "        >>> print (\"dW = \" + str(dW))\n",
    "        >>> print (\"db = \" + str(db))\n",
    "\n",
    "        >>> dA_prev, dW, db = backward_activation(dA, cache, lambd = 0 ,regularizer = None, activation = \"softmax\")\n",
    "        >>> print(\"\\nWith Softmax\")\n",
    "        >>> print (\"dA_prev = \"+ str(dA_prev))\n",
    "        >>> print (\"dW = \" + str(dW))\n",
    "        >>> print (\"db = \" + str(db))\n",
    "        \n",
    "        Output: \n",
    "            With Relu\n",
    "            dA_prev = [[ 0.44090989 -0.        ]\n",
    "                       [ 0.37883606 -0.        ]\n",
    "                       [-0.2298228   0.        ]]\n",
    "            dW = [[ 0.44513824  0.37371418 -0.10478989]]\n",
    "            db = [[-0.20837892]]\n",
    "\n",
    "            With Softmax\n",
    "            dA_prev = [[ 0.44090989  0.05952761]\n",
    "                       [ 0.37883606  0.05114697]\n",
    "                       [-0.2298228  -0.03102857]]\n",
    "            dW = [[ 0.39899183  0.3973954  -0.06975568]]\n",
    "            db = [[-0.23651234]]\n",
    "    \"\"\"\n",
    "    \n",
    "    \n",
    "    \n",
    "    sum_cache, activation_cache = cache\n",
    "    \n",
    "    if activation == \"relu\":\n",
    "        dZ = relu_grad(dA,activation_cache)\n",
    "        dA_prev, dW, db = backward_grad(dZ, sum_cache, lambd, regularizer = regularizer)\n",
    "        \n",
    "    elif activation == \"softmax\":\n",
    "        dZ = dA\n",
    "        dA_prev, dW, db = backward_grad(dZ, sum_cache, lambd, regularizer = regularizer)\n",
    "    \n",
    "    elif activation == \"tanh\":\n",
    "        pass\n",
    "#         dZ = tanh_grad(dA,activation_cache)\n",
    "#         dA_prev, dW, db = backward_grad(dZ, sum_cache, lambd, regularizer = regularizer)\n",
    "    \n",
    "    return dA_prev, dW, db\n",
    "    \n",
    "    "
   ]
  },
  {
   "cell_type": "markdown",
   "metadata": {},
   "source": [
    "#### Complete Backward Propagation for L layers"
   ]
  },
  {
   "cell_type": "code",
   "execution_count": 15,
   "metadata": {},
   "outputs": [],
   "source": [
    "def backward_dropout(dA_prev_temp, D, keep_prob):\n",
    "    dA_prev = np.multiply(dA_prev_temp,D)\n",
    "    dA_prev = np.divide(dA_prev,keep_prob)\n",
    "    \n",
    "    return dA_prev"
   ]
  },
  {
   "cell_type": "code",
   "execution_count": 16,
   "metadata": {},
   "outputs": [],
   "source": [
    "def backward_prop(AL, Y, caches, dropout_masks = [], keep_probs = [], lambd = 0, regularizer = None):\n",
    "    \"\"\"\n",
    "    \n",
    "        Example:\n",
    "            >>> np.random.seed(3)\n",
    "            >>> AL = np.random.randn(1, 2)\n",
    "            >>> Y = np.array([[1, 0]])\n",
    "\n",
    "            >>> A1 = np.random.randn(4,2)\n",
    "            >>> W1 = np.random.randn(3,4)\n",
    "            >>> b1 = np.random.randn(3,1)\n",
    "            >>> Z1 = np.random.randn(3,2)\n",
    "            >>> cache_activation_1 = ((A1, W1, b1), Z1)\n",
    "\n",
    "            >>> A2 = np.random.randn(3,2)\n",
    "            >>> W2 = np.random.randn(1,3)\n",
    "            >>> b2 = np.random.randn(1,1)\n",
    "            >>> Z2 = np.random.randn(1,2)\n",
    "            >>> cache_activation_2 = ((A2, W2, b2), Z2)\n",
    "\n",
    "            >>> caches = (cache_activation_1, cache_activation_2)\n",
    "\n",
    "            >>> grads = backward_prop(AL, Y, caches)\n",
    "            >>> for key,value in grads.items():\n",
    "            ...     print(str(key)+\" : \"+str(value))\n",
    "            \n",
    "            Output:\n",
    "                dA1 : [[-0.80745758 -0.44693186]\n",
    "                       [ 0.88640102  0.49062745]\n",
    "                       [-0.10403132 -0.05758186]]\n",
    "                dW2 : [[ 0.50767257 -0.42243102 -1.15550109]]\n",
    "                db2 : [[0.61256916]]\n",
    "                dA0 : [[ 0.          0.53064147]\n",
    "                       [ 0.         -0.3319644 ]\n",
    "                       [ 0.         -0.32565192]\n",
    "                       [ 0.         -0.75222096]]\n",
    "                dW1 : [[0.41642713 0.07927654 0.14011329 0.10664197]\n",
    "                       [0.         0.         0.         0.        ]\n",
    "                       [0.05365169 0.01021384 0.01805193 0.01373955]]\n",
    "                db1 : [[-0.22346593]\n",
    "                       [ 0.        ]\n",
    "                       [-0.02879093]]\n",
    "    \"\"\"\n",
    "    \n",
    "    grads = {}\n",
    "    L = len(caches) # the number of layers\n",
    "    m = AL.shape[1]\n",
    "    Y = Y.reshape(AL.shape) # after this line, Y is the same shape as AL\n",
    "    \n",
    "    dA = np.subtract(AL,Y)\n",
    "    current_cache = caches[L-1]\n",
    "    grads[\"dA\" + str(L-1)], grads[\"dW\" + str(L)], grads[\"db\" + str(L)] = backward_activation(dA, current_cache,lambd = lambd, regularizer = regularizer, activation = 'softmax')\n",
    "    \n",
    "    for l in reversed(range(L-1)):\n",
    "        current_cache = caches[l]\n",
    "        \n",
    "        if regularizer == \"dropout\":\n",
    "            #implementing dropout\n",
    "            D = dropout_masks[l]\n",
    "            dA_prev_temp = backward_dropout(grads[\"dA\" + str(l + 1)], D, keep_probs[l])\n",
    "            dA_prev, dW_temp, db_temp = backward_activation(dA_prev_temp, current_cache, lambd = lambd, regularizer = regularizer, activation = 'relu')\n",
    "        else:\n",
    "            dA_prev, dW_temp, db_temp = backward_activation(grads[\"dA\" + str(l + 1)], current_cache, lambd = lambd, regularizer = regularizer, activation = 'relu')\n",
    "            \n",
    "        \n",
    "        grads[\"dA\" + str(l)] = dA_prev\n",
    "        grads[\"dW\" + str(l + 1)] = dW_temp\n",
    "        grads[\"db\" + str(l + 1)] = db_temp\n",
    "\n",
    "    return grads"
   ]
  },
  {
   "cell_type": "markdown",
   "metadata": {},
   "source": [
    "### Update Parameters"
   ]
  },
  {
   "cell_type": "code",
   "execution_count": 17,
   "metadata": {},
   "outputs": [],
   "source": [
    "#initialize adam\n",
    "\n",
    "def initialize_adam(parameters) :\n",
    "   \n",
    "    L = len(parameters) // 2 \n",
    "    v = {}\n",
    "    s = {}\n",
    "    \n",
    "    for l in range(L):\n",
    "        v[\"dW\" + str(l+1)] = np.zeros(parameters[\"W\" + str(l+1)].shape)\n",
    "        v[\"db\" + str(l+1)] = np.zeros(parameters[\"b\" + str(l+1)].shape)\n",
    "        s[\"dW\" + str(l+1)] = np.zeros(parameters[\"W\" + str(l+1)].shape)\n",
    "        s[\"db\" + str(l+1)] = np.zeros(parameters[\"b\" + str(l+1)].shape)\n",
    "    \n",
    "    return v, s"
   ]
  },
  {
   "cell_type": "code",
   "execution_count": 18,
   "metadata": {},
   "outputs": [],
   "source": [
    "def update_parameters(parameters, grads, learning_rate, optimizer = \"bgd\", beta1 = 0, beta2 = 0,  epsilon = 0, v = {}, s = {}, t = 0):\n",
    "    \"\"\"\n",
    "    \n",
    "    \n",
    "        Example:\n",
    "            >>> np.random.seed(2)\n",
    "            >>> W1 = np.random.randn(3,4)\n",
    "            >>> b1 = np.random.randn(3,1)\n",
    "            >>> W2 = np.random.randn(1,3)\n",
    "            >>> b2 = np.random.randn(1,1)\n",
    "            >>> parameters = {\"W1\": W1,\n",
    "                          \"b1\": b1,\n",
    "                          \"W2\": W2,\n",
    "                          \"b2\": b2}\n",
    "            >>> np.random.seed(3)\n",
    "            >>> dW1 = np.random.randn(3,4)\n",
    "            >>> db1 = np.random.randn(3,1)\n",
    "            >>> dW2 = np.random.randn(1,3)\n",
    "            >>> db2 = np.random.randn(1,1)\n",
    "            >>> grads = {\"dW1\": dW1,\n",
    "                     \"db1\": db1,\n",
    "                     \"dW2\": dW2,\n",
    "                     \"db2\": db2}\n",
    "\n",
    "            >>> parameters,_,_ = update_parameters(parameters, grads, 0.1)\n",
    "\n",
    "            >>> print (\"W1 = \"+ str(parameters[\"W1\"]))\n",
    "            >>> print (\"b1 = \"+ str(parameters[\"b1\"]))\n",
    "            >>> print (\"W2 = \"+ str(parameters[\"W2\"]))\n",
    "            >>> print (\"b2 = \"+ str(parameters[\"b2\"]))\n",
    "            \n",
    "            Output:\n",
    "                W1 = [[-0.59562069 -0.09991781 -2.14584584  1.82662008]\n",
    "                      [-1.76569676 -0.80627147  0.51115557 -1.18258802]\n",
    "                      [-1.0535704  -0.86128581  0.68284052  2.20374577]]\n",
    "                b1 = [[-0.04659241]\n",
    "                      [-1.28888275]\n",
    "                      [ 0.53405496]]\n",
    "                W2 = [[-0.55569196  0.0354055   1.32964895]]\n",
    "                b2 = [[-0.84610769]]\n",
    "    \"\"\"\n",
    "    L = len(parameters) // 2           \n",
    "    v_corrected = {}                         \n",
    "    s_corrected = {}                       \n",
    "    \n",
    "    for l in range(L):\n",
    "        if optimizer == 'adam':\n",
    "            # Moving average of the gradients.\n",
    "            v[\"dW\" + str(l+1)] = np.add(beta1 * v[\"dW\" + str(l+1)], (1 - beta1) * grads[\"dW\" + str(l+1)])\n",
    "            v[\"db\" + str(l+1)] = np.add(beta1 * v[\"db\" + str(l+1)], (1 - beta1) * grads[\"db\" + str(l+1)])\n",
    "\n",
    "            # Compute bias-corrected first moment estimate.\n",
    "            v_corrected[\"dW\" + str(l+1)] = np.divide(v[\"dW\" + str(l+1)], (1 - np.power(beta1,t)))\n",
    "            v_corrected[\"db\" + str(l+1)] = np.divide(v[\"db\" + str(l+1)], (1 - np.power(beta1,t)))\n",
    "\n",
    "            # Moving average of the squared gradients. \n",
    "            s[\"dW\" + str(l+1)] = np.add(beta2 * s[\"dW\" + str(l+1)], (1 - beta2) * np.square(grads[\"dW\" + str(l+1)]))\n",
    "            s[\"db\" + str(l+1)] = np.add(beta2 * s[\"db\" + str(l+1)], (1 - beta2) * np.square(grads[\"db\" + str(l+1)]))\n",
    "\n",
    "            # Compute bias-corrected second raw moment estimate. \n",
    "            s_corrected[\"dW\" + str(l+1)] = np.divide(s[\"dW\" + str(l+1)], (1 - np.power(beta2,t)))\n",
    "            s_corrected[\"db\" + str(l+1)] = np.divide(s[\"db\" + str(l+1)], (1 - np.power(beta2,t)))\n",
    "\n",
    "            # Update parameters. \n",
    "            parameters[\"W\" + str(l+1)] = np.subtract(parameters[\"W\" + str(l+1)],  learning_rate * np.divide(v_corrected[\"dW\" + str(l+1)], np.sqrt(s_corrected[\"dW\" + str(l+1)]) + epsilon))\n",
    "            parameters[\"b\" + str(l+1)] = np.subtract(parameters[\"b\" + str(l+1)],  learning_rate * np.divide(v_corrected[\"db\" + str(l+1)], np.sqrt(s_corrected[\"db\" + str(l+1)]) + epsilon))\n",
    "        else:\n",
    "            parameters[\"W\" + str(l+1)] = parameters[\"W\" + str(l+1)] - (learning_rate * grads[\"dW\" + str(l+1)])\n",
    "            parameters[\"b\" + str(l+1)] = parameters[\"b\" + str(l+1)] - (learning_rate * grads[\"db\" + str(l+1)])\n",
    "            \n",
    "    return parameters, v, s"
   ]
  },
  {
   "cell_type": "markdown",
   "metadata": {},
   "source": [
    "### Evaluate Model"
   ]
  },
  {
   "cell_type": "code",
   "execution_count": 19,
   "metadata": {},
   "outputs": [],
   "source": [
    "# Evaluating the model using acc and loss\n",
    "def evaluate(X, Y, parameters):\n",
    "    \"\"\"\n",
    "    \n",
    "        Example:\n",
    "            >>> np.random.seed(1)\n",
    "            >>> X = np.random.randn(3,2)\n",
    "            >>> Y = np.array([[1, 0, 0],[0,1,1]]).reshape(3,2)\n",
    "            >>> W1 = np.random.randn(5,3)\n",
    "            >>> b1 = np.random.randn(5,1)\n",
    "            >>> W2 = np.random.randn(3,5)\n",
    "            >>> b2 = np.random.randn(3,1)\n",
    "            >>> parameters = {\"W1\": W1,\n",
    "            ...               \"b1\": b1,\n",
    "            ...               \"W2\": W2,\n",
    "            ...               \"b2\": b2}\n",
    "            >>> acc, loss = evaluate(X, Y, parameters)\n",
    "            >>> print(\"acc = %f | cost = %f\"%(acc,loss))\n",
    "            \n",
    "            Output:\n",
    "                acc = 0.500000 | cost = 0.769464\n",
    "    \"\"\"\n",
    "    \n",
    "    m = Y.shape[1]\n",
    "    \n",
    "    # predicting output using fordward propogation \n",
    "    probas, caches, _ = forward_prop(X, parameters)\n",
    "    #computing loss\n",
    "    loss = softmax_cross_entropy_cost(probas, Y, caches) \n",
    "    \n",
    "    #deriving the predictrueted labels\n",
    "    true_labels = np.argmax(Y,axis=0).reshape(1,m)\n",
    "    #deriving the predicted labels\n",
    "    predicted_labels = np.argmax(probas,axis=0).reshape(1,m)\n",
    "    \n",
    "    #identifing correctly predicted labels\n",
    "    correct_prediction = np.equal(predicted_labels,true_labels)\n",
    "    \n",
    "    #computing accuracy\n",
    "    num_correct_prediction = np.sum(correct_prediction)\n",
    "    accuracy = (num_correct_prediction/m)\n",
    "    \n",
    "    return accuracy, loss"
   ]
  },
  {
   "cell_type": "markdown",
   "metadata": {},
   "source": [
    "### Train Model"
   ]
  },
  {
   "cell_type": "code",
   "execution_count": 20,
   "metadata": {},
   "outputs": [],
   "source": [
    "# Final Model Training\n",
    "\n",
    "def train(X_train, Y_train, X_dev, Y_dev, layers_dim, hyperParams, initialization = \"random\", optimizer = 'bgd',regularizer = None, verbose = 3, patience = 0):\n",
    "    # loading the hyper parameters\n",
    "    learning_rate = hyperParams['learning_rate']\n",
    "    num_epoch = hyperParams['num_epoch']\n",
    "    b1 = hyperParams['beta1']\n",
    "    b2 = hyperParams['beta2']\n",
    "    ep = hyperParams['epsilon']\n",
    "    lambd = hyperParams['lambda']\n",
    "    keep_probs = hyperParams['keep_probs']\n",
    "\n",
    "#     #validating Early Stopping\n",
    "#     assert(patience == 0 or patience >=5), \"Evaluate the accuracy of at least 5 epoch before early stopping\"\n",
    "    \n",
    "    #initializing the variables\n",
    "    seed = 1\n",
    "    m = Y_train.shape[1]\n",
    "#     costs = []      # keep track of epoch cost    \n",
    "    train_accs = []  # keep track of training accuracy\n",
    "    val_accs = []     # keep track of Validation accuracy\n",
    "    train_losses = []  # keep track of training loss\n",
    "    val_losses = []     # keep track of Validation loss\n",
    "    \n",
    "#     early_stop_count = 0 #for early stopping\n",
    "#     max_val_acc = 0 # for keeping track of maximum validation accuracy\n",
    "#     all_params = [] # for keeping track of parameters corresponding to the max validation accuracy\n",
    "\n",
    "    #selecting the minibatch size for each optimizer\n",
    "    if optimizer == 'sgd':\n",
    "        mini_batch_size = 1\n",
    "    elif optimizer == 'bgd':\n",
    "        mini_batch_size = m\n",
    "    elif optimizer == 'mgd' or optimizer == 'adam':\n",
    "        mini_batch_size = hyperParams['mini_batch_size']\n",
    "    else:\n",
    "        raise ValueError(\"Optimizer value out of scope\")\n",
    "        \n",
    "    #initializing the model parameters\n",
    "    parameters = init_parameters(layers_dim, initialization)\n",
    "    \n",
    "    #initializing adam parameters, used only when optimizer = 'adam'\n",
    "    t = 0\n",
    "    v,s = initialize_adam(parameters)\n",
    "    \n",
    "    train_toc = time.time() # for calculating entire training time\n",
    "    print(\"Training The Model...\")\n",
    "    \n",
    "    #Gradient Descent begins\n",
    "    for i in range(1, num_epoch+1):\n",
    "        seed += 1\n",
    "        time_trained = 0\n",
    "#         batch_cost = []\n",
    "        batch_times = []\n",
    "        accs = []\n",
    "        losses = []\n",
    "        \n",
    "        if verbose > 0:\n",
    "            print(\"\\nEpoch %d/%d\"%(i,num_epoch))\n",
    "        \n",
    "        minibatches = rand_mini_batches(X_train, Y_train, mini_batch_size, seed)\n",
    "        total_minibatches = len(minibatches)\n",
    "        \n",
    "        for ind, minibatch in enumerate(minibatches):\n",
    "            batch_toc = time.time() # for calculating time of an epoch cycle\n",
    "            \n",
    "            #retriving minibatch of X and Y from training set\n",
    "            (minibatch_X, minibatch_Y) = minibatch\n",
    "            \n",
    "            #forward Propagation\n",
    "            AL, caches, dropout_masks = forward_prop(minibatch_X, parameters, keep_probs = keep_probs, regularizer = regularizer)\n",
    "            \n",
    "            #Computing cross entropy cost\n",
    "            cross_entropy_cost = softmax_cross_entropy_cost(AL, minibatch_Y, caches, lambd = lambd, regularizer = regularizer) #accumulating the batch costs\n",
    "#             batch_cost.append(cross_entropy_cost)   \n",
    "            \n",
    "            #Backward Propagation\n",
    "            grads = backward_prop(AL, minibatch_Y, caches, dropout_masks = dropout_masks, keep_probs = keep_probs, lambd = lambd, regularizer = regularizer)\n",
    "                \n",
    "            #Updating parameters\n",
    "            t += 1\n",
    "            parameters, v, s = update_parameters(parameters, grads, learning_rate, optimizer = optimizer, beta1 = b1, beta2 = b2,  epsilon = ep, v = v, s = s, t = t)\n",
    "            \n",
    "            # Calculating training time for each batch \n",
    "            batch_tic = time.time()\n",
    "            batch_times.append(batch_tic - batch_toc)\n",
    "            time_trained = np.sum(batch_times)\n",
    "            \n",
    "            #calculating training progress\n",
    "            per = ((ind+1) / total_minibatches) * 100\n",
    "            inc = int(per // 10) * 2\n",
    "            \n",
    "            #calculating accuracy and loss of the training batch\n",
    "            acc,loss = evaluate(minibatch_X, minibatch_Y, parameters)\n",
    "            accs.append(acc)\n",
    "            losses.append(loss)\n",
    "            \n",
    "            #averaging all the accs and losses till now\n",
    "            train_acc = np.mean(accs)\n",
    "            train_loss = np.mean(losses)\n",
    "            \n",
    "            #Verbosity 0: Silent mode\n",
    "            #Verbosity 1: Epoch mode\n",
    "            #Verbosity 2: Progress bar mode\n",
    "            #Verbosity 3 or greater: Metric mode\n",
    "                \n",
    "            if verbose == 2:\n",
    "                print (\"%d/%d [%s>%s %.0f%%] - %.2fs\"%(ind+1, total_minibatches, '=' * inc,'.'*(20-inc), per, time_trained),end='\\r')\n",
    "            elif verbose > 2:\n",
    "                print (\"%d/%d [%s>%s %.0f%%] - %.2fs | loss: %.4f | acc: %.4f\"%(ind+1, total_minibatches, '=' * inc,'.'*(20-inc), per, time_trained, train_loss, train_acc),end='\\r')\n",
    "            \n",
    "        #----------------------------------------------batch ends-------------------------------------------\n",
    "        \n",
    "        #accumulating the acc and loss of the last iteration of each epoch\n",
    "        train_accs.append(np.mean(accs))\n",
    "        train_losses.append(np.mean(losses))\n",
    "                \n",
    "        #evaluating the model using validation accuracy and loss\n",
    "        val_acc, val_loss= evaluate(X_dev, Y_dev, parameters)  \n",
    "        val_accs.append(val_acc)\n",
    "        val_losses.append(val_loss)\n",
    "        \n",
    "        #calculating Epoch Cost\n",
    "#         costs.append(np.mean(batch_cost))\n",
    "\n",
    "        time_per_batch = int(np.mean(batch_times)*1000)\n",
    "\n",
    "        if verbose == 2:\n",
    "            print (\"%d/%d [%s 100%%] - %.2fs %dms/step\"%(total_minibatches, total_minibatches, '=' * 20, time_trained, time_per_batch ),end='\\r')\n",
    "        elif verbose > 2:\n",
    "            print (\"%d/%d [%s 100%%] - %.2fs %dms/step | loss: %.4f | acc: %.4f | val_loss: %.4f | val_acc: %.4f\"%(total_minibatches, total_minibatches, '=' * 20, time_trained, time_per_batch, train_loss, train_acc, val_loss, val_acc),end='\\r')\n",
    "                \n",
    "        \n",
    "        \n",
    "#         #getting the best val accuracy\n",
    "#         if val_acc >= max_val_acc:\n",
    "#             max_val_acc = val_acc\n",
    "            \n",
    "#         # Early Stopping\n",
    "#         if patience >= 5:\n",
    "#             epoch_trained = i+1\n",
    "            \n",
    "#             if val_acc < max_val_acc:\n",
    "#                 early_stop_count += 1\n",
    "#             else:\n",
    "#                 early_stop_count = 0\n",
    "\n",
    "#             if early_stop_count == patience:\n",
    "#                 print(\"\\n\\nSince the Val Acc didn't increase for last %d epochs, Training is halted returning the best parameters obtained.\"%patience)\n",
    "#                 break;\n",
    "          \n",
    "#         all_params.append(parameters)\n",
    "    #-------------------------------------------Gradient Descent ends-----------------------------------------------\n",
    "    \n",
    "    train_tic = time.time() # for calculating entire training time\n",
    "    hrs, mins, secs , ms = convert_time((train_tic - train_toc)*1000)\n",
    "    print(\"\\n\\nTotal Training Time = %dhr %dmins %dsecs %.2fms\"%(hrs, mins, secs, ms))\n",
    "    \n",
    "#     best_params = all_params[np.argmax(val_acc)]\n",
    "     \n",
    "    history = {\"parameters\":parameters,\n",
    "               \"accuracy\": train_accs,\n",
    "               \"loss\":train_losses ,\n",
    "               \"val_accuracy\":val_accs,\n",
    "               \"val_loss\":val_losses\n",
    "            }\n",
    "    return history\n"
   ]
  },
  {
   "cell_type": "markdown",
   "metadata": {},
   "source": [
    "#### Running Model"
   ]
  },
  {
   "cell_type": "code",
   "execution_count": 22,
   "metadata": {
    "scrolled": true
   },
   "outputs": [
    {
     "name": "stdout",
     "output_type": "stream",
     "text": [
      "Training The Model...\n",
      "\n",
      "Epoch 1/50\n",
      "797/797 [==================== 100%] - 40.36s 50ms/step | loss: 0.1934 | acc: 0.9415 | val_loss: 0.1343 | val_acc: 0.9610\n",
      "Epoch 2/50\n",
      "797/797 [==================== 100%] - 40.26s 50ms/step | loss: 0.0869 | acc: 0.9734 | val_loss: 0.0996 | val_acc: 0.9703\n",
      "Epoch 3/50\n",
      "797/797 [==================== 100%] - 41.53s 52ms/step | loss: 0.0625 | acc: 0.9810 | val_loss: 0.0983 | val_acc: 0.9720\n",
      "Epoch 4/50\n",
      "797/797 [==================== 100%] - 38.72s 48ms/step | loss: 0.0481 | acc: 0.9854 | val_loss: 0.0904 | val_acc: 0.9743\n",
      "Epoch 5/50\n",
      "797/797 [==================== 100%] - 44.78s 56ms/step | loss: 0.0399 | acc: 0.9876 | val_loss: 0.0874 | val_acc: 0.9757\n",
      "Epoch 6/50\n",
      "797/797 [==================== 100%] - 38.71s 48ms/step | loss: 0.0345 | acc: 0.9894 | val_loss: 0.0852 | val_acc: 0.9779\n",
      "Epoch 7/50\n",
      "797/797 [==================== 100%] - 38.20s 47ms/step | loss: 0.0300 | acc: 0.9909 | val_loss: 0.0803 | val_acc: 0.9787\n",
      "Epoch 8/50\n",
      "797/797 [==================== 100%] - 39.59s 49ms/step | loss: 0.0272 | acc: 0.9917 | val_loss: 0.0830 | val_acc: 0.9779\n",
      "Epoch 9/50\n",
      "797/797 [==================== 100%] - 41.34s 51ms/step | loss: 0.0241 | acc: 0.9928 | val_loss: 0.0778 | val_acc: 0.9799\n",
      "Epoch 10/50\n",
      "797/797 [==================== 100%] - 42.32s 53ms/step | loss: 0.0228 | acc: 0.9934 | val_loss: 0.0840 | val_acc: 0.9794\n",
      "Epoch 11/50\n",
      "797/797 [==================== 100%] - 46.90s 58ms/step | loss: 0.0198 | acc: 0.9936 | val_loss: 0.0793 | val_acc: 0.9790\n",
      "Epoch 12/50\n",
      "797/797 [==================== 100%] - 53.36s 66ms/step | loss: 0.0192 | acc: 0.9941 | val_loss: 0.0860 | val_acc: 0.9786\n",
      "Epoch 13/50\n",
      "797/797 [==================== 100%] - 51.76s 64ms/step | loss: 0.0168 | acc: 0.9947 | val_loss: 0.0934 | val_acc: 0.9786\n",
      "Epoch 14/50\n",
      "797/797 [==================== 100%] - 57.60s 72ms/step | loss: 0.0156 | acc: 0.9950 | val_loss: 0.0816 | val_acc: 0.9813\n",
      "Epoch 15/50\n",
      "797/797 [==================== 100%] - 58.19s 73ms/step | loss: 0.0141 | acc: 0.9958 | val_loss: 0.0847 | val_acc: 0.9808\n",
      "Epoch 16/50\n",
      "797/797 [==================== 100%] - 62.77s 78ms/step | loss: 0.0128 | acc: 0.9961 | val_loss: 0.0815 | val_acc: 0.9817\n",
      "Epoch 17/50\n",
      "797/797 [==================== 100%] - 62.60s 78ms/step | loss: 0.0118 | acc: 0.9966 | val_loss: 0.0966 | val_acc: 0.9794\n",
      "Epoch 18/50\n",
      "797/797 [==================== 100%] - 64.43s 80ms/step | loss: 0.0124 | acc: 0.9961 | val_loss: 0.0838 | val_acc: 0.9812\n",
      "Epoch 19/50\n",
      "797/797 [==================== 100%] - 64.65s 81ms/step | loss: 0.0110 | acc: 0.9964 | val_loss: 0.0895 | val_acc: 0.9793\n",
      "Epoch 20/50\n",
      "797/797 [==================== 100%] - 62.86s 78ms/step | loss: 0.0102 | acc: 0.9970 | val_loss: 0.0915 | val_acc: 0.9792\n",
      "Epoch 21/50\n",
      "797/797 [==================== 100%] - 58.02s 72ms/step | loss: 0.0099 | acc: 0.9971 | val_loss: 0.0912 | val_acc: 0.9796\n",
      "Epoch 22/50\n",
      "797/797 [==================== 100%] - 56.47s 70ms/step | loss: 0.0094 | acc: 0.9972 | val_loss: 0.0932 | val_acc: 0.9794\n",
      "Epoch 23/50\n",
      "797/797 [==================== 100%] - 57.45s 72ms/step | loss: 0.0086 | acc: 0.9977 | val_loss: 0.0983 | val_acc: 0.9818\n",
      "Epoch 24/50\n",
      "797/797 [==================== 100%] - 59.77s 74ms/step | loss: 0.0083 | acc: 0.9975 | val_loss: 0.0860 | val_acc: 0.9804\n",
      "Epoch 25/50\n",
      "797/797 [==================== 100%] - 59.28s 74ms/step | loss: 0.0083 | acc: 0.9974 | val_loss: 0.0921 | val_acc: 0.9802\n",
      "Epoch 26/50\n",
      "797/797 [==================== 100%] - 60.93s 76ms/step | loss: 0.0079 | acc: 0.9976 | val_loss: 0.0958 | val_acc: 0.9812\n",
      "Epoch 27/50\n",
      "797/797 [==================== 100%] - 58.35s 73ms/step | loss: 0.0081 | acc: 0.9975 | val_loss: 0.0943 | val_acc: 0.9831\n",
      "Epoch 28/50\n",
      "797/797 [==================== 100%] - 62.41s 78ms/step | loss: 0.0077 | acc: 0.9977 | val_loss: 0.0977 | val_acc: 0.9806\n",
      "Epoch 29/50\n",
      "797/797 [==================== 100%] - 61.18s 76ms/step | loss: 0.0075 | acc: 0.9978 | val_loss: 0.0992 | val_acc: 0.9799\n",
      "Epoch 30/50\n",
      "797/797 [==================== 100%] - 60.50s 75ms/step | loss: 0.0067 | acc: 0.9981 | val_loss: 0.0834 | val_acc: 0.9826\n",
      "Epoch 31/50\n",
      "797/797 [==================== 100%] - 60.24s 75ms/step | loss: 0.0063 | acc: 0.9983 | val_loss: 0.0953 | val_acc: 0.9813\n",
      "Epoch 32/50\n",
      "797/797 [==================== 100%] - 56.68s 71ms/step | loss: 0.0059 | acc: 0.9983 | val_loss: 0.0941 | val_acc: 0.9813\n",
      "Epoch 33/50\n",
      "797/797 [==================== 100%] - 59.46s 74ms/step | loss: 0.0066 | acc: 0.9980 | val_loss: 0.0909 | val_acc: 0.9838\n",
      "Epoch 34/50\n",
      "797/797 [==================== 100%] - 58.96s 73ms/step | loss: 0.0056 | acc: 0.9985 | val_loss: 0.0959 | val_acc: 0.9811\n",
      "Epoch 35/50\n",
      "797/797 [==================== 100%] - 58.46s 73ms/step | loss: 0.0054 | acc: 0.9983 | val_loss: 0.0946 | val_acc: 0.9822\n",
      "Epoch 36/50\n",
      "797/797 [==================== 100%] - 62.48s 78ms/step | loss: 0.0053 | acc: 0.9985 | val_loss: 0.0974 | val_acc: 0.9819\n",
      "Epoch 37/50\n",
      "797/797 [==================== 100%] - 62.66s 78ms/step | loss: 0.0053 | acc: 0.9985 | val_loss: 0.0977 | val_acc: 0.9833\n",
      "Epoch 38/50\n",
      "797/797 [==================== 100%] - 58.66s 73ms/step | loss: 0.0057 | acc: 0.9981 | val_loss: 0.0946 | val_acc: 0.9832\n",
      "Epoch 39/50\n",
      "797/797 [==================== 100%] - 58.30s 73ms/step | loss: 0.0043 | acc: 0.9986 | val_loss: 0.1069 | val_acc: 0.9823\n",
      "Epoch 40/50\n",
      "797/797 [==================== 100%] - 59.85s 75ms/step | loss: 0.0053 | acc: 0.9985 | val_loss: 0.1031 | val_acc: 0.9827\n",
      "Epoch 41/50\n",
      "797/797 [==================== 100%] - 61.72s 77ms/step | loss: 0.0037 | acc: 0.9990 | val_loss: 0.1090 | val_acc: 0.9822\n",
      "Epoch 42/50\n",
      "797/797 [==================== 100%] - 61.15s 76ms/step | loss: 0.0042 | acc: 0.9989 | val_loss: 0.1020 | val_acc: 0.9826\n",
      "Epoch 43/50\n",
      "797/797 [==================== 100%] - 61.62s 77ms/step | loss: 0.0039 | acc: 0.9989 | val_loss: 0.1037 | val_acc: 0.9820\n",
      "Epoch 44/50\n",
      "797/797 [==================== 100%] - 61.00s 76ms/step | loss: 0.0043 | acc: 0.9986 | val_loss: 0.1047 | val_acc: 0.9831\n",
      "Epoch 45/50\n",
      "797/797 [==================== 100%] - 59.90s 75ms/step | loss: 0.0033 | acc: 0.9991 | val_loss: 0.1103 | val_acc: 0.9824\n",
      "Epoch 46/50\n",
      "797/797 [==================== 100%] - 61.75s 77ms/step | loss: 0.0040 | acc: 0.9989 | val_loss: 0.1132 | val_acc: 0.9822\n",
      "Epoch 47/50\n",
      "797/797 [==================== 100%] - 62.34s 78ms/step | loss: 0.0044 | acc: 0.9986 | val_loss: 0.1124 | val_acc: 0.9806\n",
      "Epoch 48/50\n",
      "797/797 [==================== 100%] - 62.55s 78ms/step | loss: 0.0049 | acc: 0.9988 | val_loss: 0.1069 | val_acc: 0.9812\n",
      "Epoch 49/50\n",
      "797/797 [==================== 100%] - 59.96s 75ms/step | loss: 0.0037 | acc: 0.9991 | val_loss: 0.1041 | val_acc: 0.9821\n",
      "Epoch 50/50\n",
      "797/797 [==================== 100%] - 59.84s 75ms/step | loss: 0.0034 | acc: 0.9992 | val_loss: 0.1028 | val_acc: 0.9820\n",
      "\n",
      "Total Training Time = 0hr 49mins 55secs 746.14ms\n"
     ]
    }
   ],
   "source": [
    "layers_dim = init_layers(train_x_norm, train_y_encoded, hidden_layers = [1024,1024])\n",
    "hyperParams = init_hyperParams(alpha = 0.001, num_epoch = 50, minibatch_size = 64,lambd = 0.7,keep_probs = [0.5,0.5])\n",
    "history = train(train_x_norm, train_y_encoded, dev_x_norm, dev_y_encoded,layers_dim, hyperParams, initialization = \"he\", optimizer = 'adam',regularizer = \"dropout\", verbose = 3, patience = 5)"
   ]
  },
  {
   "cell_type": "code",
   "execution_count": null,
   "metadata": {},
   "outputs": [],
   "source": [
    "a = {'a':2,\n",
    "     'b':3\n",
    "}\n",
    "b = {'a':2,\n",
    "     'b':3,\n",
    "#      'c':4\n",
    "}\n",
    "assert(a==b)"
   ]
  },
  {
   "cell_type": "code",
   "execution_count": 23,
   "metadata": {},
   "outputs": [
    {
     "data": {
      "image/png": "[encoded data removed]",
      "text/plain": [
       "<Figure size 720x1080 with 2 Axes>"
      ]
     },
     "metadata": {
      "needs_background": "light"
     },
     "output_type": "display_data"
    }
   ],
   "source": [
    "params = history[\"parameters\"]\n",
    "train_acc = history[\"accuracy\"]\n",
    "train_loss = history[\"loss\"]\n",
    "val_acc = history[\"val_accuracy\"]\n",
    "val_loss = history[\"val_loss\"]\n",
    "epochs = len(val_acc)\n",
    "\n",
    "\n",
    "visualize_training_results(train_acc, val_acc, train_loss, val_loss)    "
   ]
  },
  {
   "cell_type": "code",
   "execution_count": 24,
   "metadata": {},
   "outputs": [
    {
     "name": "stdout",
     "output_type": "stream",
     "text": [
      "\n",
      " Epochs\t | Train Acc\t | Train Loss\t | Val Acc\t | Val Loss\n",
      "--------------------------------------------------------------------\n",
      " 1\t | 0.941480\t | 0.193389\t | 0.961000\t | 0.134283\n",
      " 2\t | 0.973354\t | 0.086873\t | 0.970333\t | 0.099596\n",
      " 3\t | 0.980983\t | 0.062467\t | 0.972000\t | 0.098285\n",
      " 4\t | 0.985375\t | 0.048111\t | 0.974333\t | 0.090407\n",
      " 5\t | 0.987646\t | 0.039899\t | 0.975667\t | 0.087384\n",
      " 6\t | 0.989374\t | 0.034542\t | 0.977889\t | 0.085229\n",
      " 7\t | 0.990881\t | 0.030042\t | 0.978667\t | 0.080297\n",
      " 8\t | 0.991685\t | 0.027178\t | 0.977889\t | 0.082979\n",
      " 9\t | 0.992825\t | 0.024068\t | 0.979889\t | 0.077774\n",
      " 10\t | 0.993354\t | 0.022754\t | 0.979444\t | 0.084021\n",
      " 11\t | 0.993645\t | 0.019828\t | 0.979000\t | 0.079320\n",
      " 12\t | 0.994119\t | 0.019248\t | 0.978556\t | 0.085965\n",
      " 13\t | 0.994707\t | 0.016800\t | 0.978556\t | 0.093397\n",
      " 14\t | 0.995001\t | 0.015634\t | 0.981333\t | 0.081629\n",
      " 15\t | 0.995765\t | 0.014110\t | 0.980778\t | 0.084684\n",
      " 16\t | 0.996099\t | 0.012760\t | 0.981667\t | 0.081534\n",
      " 17\t | 0.996608\t | 0.011849\t | 0.979444\t | 0.096618\n",
      " 18\t | 0.996138\t | 0.012420\t | 0.981222\t | 0.083837\n",
      " 19\t | 0.996351\t | 0.011004\t | 0.979333\t | 0.089463\n",
      " 20\t | 0.997020\t | 0.010153\t | 0.979222\t | 0.091544\n",
      " 21\t | 0.997059\t | 0.009895\t | 0.979556\t | 0.091215\n",
      " 22\t | 0.997177\t | 0.009360\t | 0.979444\t | 0.093188\n",
      " 23\t | 0.997667\t | 0.008595\t | 0.981778\t | 0.098257\n",
      " 24\t | 0.997465\t | 0.008293\t | 0.980444\t | 0.085956\n",
      " 25\t | 0.997412\t | 0.008264\t | 0.980222\t | 0.092121\n",
      " 26\t | 0.997628\t | 0.007863\t | 0.981222\t | 0.095838\n",
      " 27\t | 0.997510\t | 0.008118\t | 0.983111\t | 0.094324\n",
      " 28\t | 0.997745\t | 0.007732\t | 0.980556\t | 0.097666\n",
      " 29\t | 0.997804\t | 0.007541\t | 0.979889\t | 0.099170\n",
      " 30\t | 0.998059\t | 0.006728\t | 0.982556\t | 0.083439\n",
      " 31\t | 0.998334\t | 0.006333\t | 0.981333\t | 0.095334\n",
      " 32\t | 0.998334\t | 0.005944\t | 0.981333\t | 0.094136\n",
      " 33\t | 0.997961\t | 0.006565\t | 0.983778\t | 0.090854\n",
      " 34\t | 0.998510\t | 0.005630\t | 0.981111\t | 0.095949\n",
      " 35\t | 0.998294\t | 0.005352\t | 0.982222\t | 0.094581\n",
      " 36\t | 0.998471\t | 0.005348\t | 0.981889\t | 0.097383\n",
      " 37\t | 0.998490\t | 0.005324\t | 0.983333\t | 0.097705\n",
      " 38\t | 0.998118\t | 0.005714\t | 0.983222\t | 0.094595\n",
      " 39\t | 0.998647\t | 0.004300\t | 0.982333\t | 0.106925\n",
      " 40\t | 0.998490\t | 0.005302\t | 0.982667\t | 0.103147\n",
      " 41\t | 0.998961\t | 0.003660\t | 0.982222\t | 0.108950\n",
      " 42\t | 0.998883\t | 0.004237\t | 0.982556\t | 0.102027\n",
      " 43\t | 0.998941\t | 0.003924\t | 0.982000\t | 0.103671\n",
      " 44\t | 0.998608\t | 0.004316\t | 0.983111\t | 0.104698\n",
      " 45\t | 0.999098\t | 0.003323\t | 0.982444\t | 0.110335\n",
      " 46\t | 0.998922\t | 0.004039\t | 0.982222\t | 0.113200\n",
      " 47\t | 0.998608\t | 0.004356\t | 0.980556\t | 0.112442\n",
      " 48\t | 0.998804\t | 0.004865\t | 0.981222\t | 0.106854\n",
      " 49\t | 0.999098\t | 0.003676\t | 0.982111\t | 0.104055\n",
      " 50\t | 0.999216\t | 0.003398\t | 0.982000\t | 0.102801\n"
     ]
    }
   ],
   "source": [
    "print(\"\\n Epochs\\t | Train Acc\\t | Train Loss\\t | Val Acc\\t | Val Loss\")\n",
    "print(\"--------------------------------------------------------------------\")\n",
    "for i in range(epochs):\n",
    "    print(\" %d\\t | %f\\t | %f\\t | %f\\t | %f\"%(i+1,train_acc[i] ,train_loss[i],val_acc[i] ,val_loss[i] ))"
   ]
  },
  {
   "cell_type": "markdown",
   "metadata": {},
   "source": [
    "### Prediction"
   ]
  },
  {
   "cell_type": "code",
   "execution_count": 25,
   "metadata": {},
   "outputs": [],
   "source": [
    "# Making Predictions\n",
    "def predict(X, parameters, second_guess = False):\n",
    "    prediction = {}\n",
    "    \n",
    "    # Computing the Output predictions. \n",
    "    # no keep_probs : no dropout during prediction \n",
    "    probas, caches, _ = forward_prop(X, parameters)\n",
    "    \n",
    "    #getting the number of examples\n",
    "    m = probas.shape[1]\n",
    "\n",
    "    #deriving the predicted labels with their probabilities\n",
    "    predicted_labels = np.argmax(probas,axis=0).reshape(1,m)\n",
    "    predicted_prob = np.max(probas,axis = 0).reshape(1,m)\n",
    "    \n",
    "    #Computing the second guess\n",
    "    if second_guess == True:\n",
    "        second_max = np.array(probas, copy=True)\n",
    "        second_max[predicted_labels,np.arange(m)] = 0 #zeroing out the first max prediction\n",
    "        sec_predicted_labels = np.argmax(second_max,axis=0).reshape(1,m) #selecting the second max predicted label\n",
    "        sec_predicted_prob = np.max(second_max,axis = 0).reshape(1,m) #selecting the second max prediction\n",
    "\n",
    "        prediction[\"Second Prediction\"] = [sec_predicted_labels, sec_predicted_prob]      \n",
    "\n",
    "    prediction[\"First Prediction\"] = [predicted_labels, predicted_prob]\n",
    "    \n",
    "\n",
    "    return prediction"
   ]
  },
  {
   "cell_type": "code",
   "execution_count": 26,
   "metadata": {},
   "outputs": [],
   "source": [
    "prediction_train = predict(train_x_norm, params, second_guess = True)\n",
    "prediction_dev = predict(dev_x_norm,params, second_guess = True)\n",
    "prediction_test = predict(test_x_norm, params, second_guess = True)"
   ]
  },
  {
   "cell_type": "markdown",
   "metadata": {},
   "source": [
    "### Confusion Matrix"
   ]
  },
  {
   "cell_type": "code",
   "execution_count": 27,
   "metadata": {},
   "outputs": [],
   "source": [
    "cm_train = confusion_matrix(train_y_split, prediction_train)\n",
    "cm_dev = confusion_matrix(dev_y_split, prediction_dev)\n",
    "cm_test = confusion_matrix(test_y_orig, prediction_test)\n",
    "\n",
    "# print(\"\\nConfusion Matrix for Training set:\\n\")\n",
    "# print(cm_train)\n",
    "\n",
    "# print(\"\\nConfusion Matrix for Dev set:\\n\")\n",
    "# print(cm_dev)\n",
    "\n",
    "# print(\"\\nConfusion Matrix for Test set:\\n\")\n",
    "# print(cm_test)"
   ]
  },
  {
   "cell_type": "code",
   "execution_count": null,
   "metadata": {},
   "outputs": [],
   "source": [
    "#plotting the confusion matrix   \n",
    "plot_confusion_matrix(cm_train, dataset_type = \"training\")"
   ]
  },
  {
   "cell_type": "code",
   "execution_count": null,
   "metadata": {},
   "outputs": [],
   "source": [
    "plot_confusion_matrix(cm_dev, dataset_type = \"dev\")"
   ]
  },
  {
   "cell_type": "code",
   "execution_count": null,
   "metadata": {},
   "outputs": [],
   "source": [
    "plot_confusion_matrix(cm_test, dataset_type = \"test\")"
   ]
  },
  {
   "cell_type": "code",
   "execution_count": 28,
   "metadata": {},
   "outputs": [
    {
     "name": "stdout",
     "output_type": "stream",
     "text": [
      "+===============+===============+===============+===============+\n",
      "| Label \t| Precision \t| Recall \t| F1 Score \t|\n",
      "+===============+===============+===============+===============+\n",
      "| 0 \t\t|  1.00000 \t|  0.99841 \t|  0.99921 \t|\n",
      "| 1 \t\t|  0.99913 \t|  0.99861 \t|  0.99887 \t|\n",
      "| 2 \t\t|  1.00000 \t|  1.00000 \t|  1.00000 \t|\n",
      "| 3 \t\t|  0.99981 \t|  0.99884 \t|  0.99933 \t|\n",
      "| 4 \t\t|  0.99940 \t|  0.99960 \t|  0.99950 \t|\n",
      "| 5 \t\t|  0.99957 \t|  0.99936 \t|  0.99946 \t|\n",
      "| 6 \t\t|  0.99921 \t|  0.99980 \t|  0.99950 \t|\n",
      "| 7 \t\t|  0.99887 \t|  0.99943 \t|  0.99915 \t|\n",
      "| 8 \t\t|  0.99680 \t|  0.99880 \t|  0.99780 \t|\n",
      "| 9 \t\t|  0.99920 \t|  0.99920 \t|  0.99920 \t|\n",
      "+===============+===============+===============+===============+\n",
      "| Macro Avg \t|  0.99920 \t|  0.99921 \t|  0.99920 \t|\n",
      "+===============+===============+===============+===============+\n",
      "\n",
      " Accuracy \t\t  0.99920\n"
     ]
    }
   ],
   "source": [
    "metrics, macro_metrics, acc = model_metrics(cm_train)\n",
    "metric_summary(metrics, macro_metrics, acc)"
   ]
  },
  {
   "cell_type": "code",
   "execution_count": 29,
   "metadata": {},
   "outputs": [
    {
     "name": "stdout",
     "output_type": "stream",
     "text": [
      "+===============+===============+===============+===============+\n",
      "| Label \t| Precision \t| Recall \t| F1 Score \t|\n",
      "+===============+===============+===============+===============+\n",
      "| 0 \t\t|  0.99196 \t|  0.98630 \t|  0.98912 \t|\n",
      "| 1 \t\t|  0.99189 \t|  0.98193 \t|  0.98688 \t|\n",
      "| 2 \t\t|  0.97315 \t|  0.98693 \t|  0.97999 \t|\n",
      "| 3 \t\t|  0.98087 \t|  0.98296 \t|  0.98191 \t|\n",
      "| 4 \t\t|  0.97648 \t|  0.98978 \t|  0.98309 \t|\n",
      "| 5 \t\t|  0.98650 \t|  0.97337 \t|  0.97989 \t|\n",
      "| 6 \t\t|  0.97858 \t|  0.98749 \t|  0.98301 \t|\n",
      "| 7 \t\t|  0.97670 \t|  0.98468 \t|  0.98067 \t|\n",
      "| 8 \t\t|  0.97451 \t|  0.97791 \t|  0.97620 \t|\n",
      "| 9 \t\t|  0.99000 \t|  0.96743 \t|  0.97858 \t|\n",
      "+===============+===============+===============+===============+\n",
      "| Macro Avg \t|  0.98206 \t|  0.98188 \t|  0.98194 \t|\n",
      "+===============+===============+===============+===============+\n",
      "\n",
      " Accuracy \t\t  0.98200\n"
     ]
    }
   ],
   "source": [
    "metrics, macro_metrics, acc = model_metrics(cm_dev)\n",
    "metric_summary(metrics, macro_metrics, acc)"
   ]
  },
  {
   "cell_type": "code",
   "execution_count": 30,
   "metadata": {},
   "outputs": [
    {
     "name": "stdout",
     "output_type": "stream",
     "text": [
      "+===============+===============+===============+===============+\n",
      "| Label \t| Precision \t| Recall \t| F1 Score \t|\n",
      "+===============+===============+===============+===============+\n",
      "| 0 \t\t|  0.99692 \t|  0.98980 \t|  0.99334 \t|\n",
      "| 1 \t\t|  0.99293 \t|  0.98943 \t|  0.99117 \t|\n",
      "| 2 \t\t|  0.98642 \t|  0.98547 \t|  0.98594 \t|\n",
      "| 3 \t\t|  0.97448 \t|  0.98317 \t|  0.97881 \t|\n",
      "| 4 \t\t|  0.97982 \t|  0.98880 \t|  0.98429 \t|\n",
      "| 5 \t\t|  0.98647 \t|  0.98094 \t|  0.98370 \t|\n",
      "| 6 \t\t|  0.98438 \t|  0.98643 \t|  0.98540 \t|\n",
      "| 7 \t\t|  0.97308 \t|  0.98444 \t|  0.97872 \t|\n",
      "| 8 \t\t|  0.97629 \t|  0.97228 \t|  0.97428 \t|\n",
      "| 9 \t\t|  0.98196 \t|  0.97126 \t|  0.97658 \t|\n",
      "+===============+===============+===============+===============+\n",
      "| Macro Avg \t|  0.98327 \t|  0.98320 \t|  0.98322 \t|\n",
      "+===============+===============+===============+===============+\n",
      "\n",
      " Accuracy \t\t  0.98330\n"
     ]
    }
   ],
   "source": [
    "metrics, macro_metrics, acc = model_metrics(cm_test)\n",
    "metric_summary(metrics, macro_metrics, acc)"
   ]
  },
  {
   "cell_type": "markdown",
   "metadata": {},
   "source": [
    "#### Visualizating  Prediction"
   ]
  },
  {
   "cell_type": "code",
   "execution_count": null,
   "metadata": {},
   "outputs": [],
   "source": [
    "visualize_prediction(train_x_split, train_y_split.T, prediction_train, dataset_type = \"training\")"
   ]
  },
  {
   "cell_type": "code",
   "execution_count": null,
   "metadata": {},
   "outputs": [],
   "source": [
    "visualize_prediction(dev_x_split, dev_y_split.T, prediction_dev, dataset_type = \"dev\")"
   ]
  },
  {
   "cell_type": "code",
   "execution_count": 31,
   "metadata": {},
   "outputs": [
    {
     "data": {
      "image/png": "[encoded data removed]",
      "text/plain": [
       "<Figure size 1152x576 with 8 Axes>"
      ]
     },
     "metadata": {
      "needs_background": "light"
     },
     "output_type": "display_data"
    }
   ],
   "source": [
    "visualize_prediction(test_x_orig, test_y_orig.T, prediction_test,dataset_type = \"test\")"
   ]
  },
  {
   "cell_type": "markdown",
   "metadata": {},
   "source": [
    "#### Visualizing Mislabelled Images in all datasets"
   ]
  },
  {
   "cell_type": "code",
   "execution_count": null,
   "metadata": {},
   "outputs": [],
   "source": [
    "visualize_mislabelled_images(train_x_split, train_y_split.T,prediction_train,dataset_type = \"training\")"
   ]
  },
  {
   "cell_type": "code",
   "execution_count": null,
   "metadata": {},
   "outputs": [],
   "source": [
    "visualize_mislabelled_images(dev_x_split, dev_y_split.T, prediction_dev,dataset_type = \"dev\")"
   ]
  },
  {
   "cell_type": "code",
   "execution_count": 34,
   "metadata": {},
   "outputs": [
    {
     "name": "stdout",
     "output_type": "stream",
     "text": [
      "Total Mislabelled Images: 167\n"
     ]
    },
    {
     "data": {
      "image/png": "[encoded data removed]",
      "text/plain": [
       "<Figure size 1152x576 with 10 Axes>"
      ]
     },
     "metadata": {
      "needs_background": "light"
     },
     "output_type": "display_data"
    }
   ],
   "source": [
    "visualize_mislabelled_images(test_x_orig, test_y_orig.T, prediction_test,dataset_type = \"test\")"
   ]
  },
  {
   "cell_type": "markdown",
   "metadata": {},
   "source": [
    "### Predicting Real Time images"
   ]
  },
  {
   "cell_type": "code",
   "execution_count": 35,
   "metadata": {},
   "outputs": [],
   "source": [
    "from PIL import Image"
   ]
  },
  {
   "cell_type": "code",
   "execution_count": 37,
   "metadata": {
    "scrolled": true
   },
   "outputs": [
    {
     "data": {
      "text/plain": [
       "<matplotlib.colorbar.Colorbar at 0x7fa66cfb52e0>"
      ]
     },
     "execution_count": 37,
     "metadata": {},
     "output_type": "execute_result"
    },
    {
     "data": {
      "image/png": "[encoded data removed]",
      "text/plain": [
       "<Figure size 432x288 with 2 Axes>"
      ]
     },
     "metadata": {
      "needs_background": "light"
     },
     "output_type": "display_data"
    }
   ],
   "source": [
    "image_name = \"8_1.jpg\" \n",
    "\n",
    "fname = \"Sample Images/\" + image_name\n",
    "image_data = 255 - np.asarray(Image.open(fname).convert('L').resize((28,28)))\n",
    "\n",
    "def predict_real_time(image_data, second_guess = True):\n",
    "    image_flattened = image_data.reshape(image_data.shape[0]*image_data.shape[1],-1)\n",
    "    image_norm =(image_flattened/255.)\n",
    "\n",
    "    prediction = predict(image_norm, params, second_guess = second_guess)\n",
    "    \n",
    "    return prediction\n",
    "    \n",
    "prediction = predict_real_time(image_data, second_guess = True)\n",
    "\n",
    "first_lbl, first_prob = prediction[\"First Prediction\"]\n",
    "sec_lbl, sec_prob = prediction[\"Second Prediction\"]\n",
    "\n",
    "# plt.title(\"True Label: \"+ str(label.squeeze()))\n",
    "plt.xlabel(\"Prediction: %d | With Prob: %.4f \\n2nd Guess: %d | With Prob: %.4f\"%(first_lbl, first_prob, sec_lbl, sec_prob), fontsize = 14)\n",
    "plt.imshow(image_data, interpolation ='nearest',cmap='binary')\n",
    "plt.colorbar()\n"
   ]
  },
  {
   "cell_type": "markdown",
   "metadata": {},
   "source": [
    "## Saving and Loading model"
   ]
  },
  {
   "cell_type": "code",
   "execution_count": 38,
   "metadata": {},
   "outputs": [
    {
     "name": "stdout",
     "output_type": "stream",
     "text": [
      "2020-07-12 01:41:10.515026 dropout model 0.5\n"
     ]
    }
   ],
   "source": [
    "import datetime\n",
    "d = datetime.datetime.now()\n",
    "\n",
    "path = \"Saved Models/\"\n",
    "fname = str(d) + \" dropout model 0.5\"\n",
    "\n",
    "print(fname)\n",
    "\n",
    "model = {\"Parameters\": params,\n",
    "         \"Activations\": [\"relu\",\"relu\",\"softmax\"]}\n",
    "## Save the following info if needed\n",
    "#          \"Hyper Parameters\": hyperParams,\n",
    "#          \"initialization\":\"random\",\n",
    "#          \"regularizer\":\"l2\",\n",
    "#          \"optimizer\":\"adam\"\n",
    "save_model(file_name = path+fname, model = model)"
   ]
  },
  {
   "cell_type": "code",
   "execution_count": 39,
   "metadata": {},
   "outputs": [],
   "source": [
    "# loading model\n",
    "path = \"Saved Models/\"\n",
    "\n",
    "model = load_model(file_name =path+ \"2020-07-12 01:41:10.515026 dropout model 0.5\")\n",
    "\n",
    "loaded_params = model[\"Parameters\"]"
   ]
  },
  {
   "cell_type": "code",
   "execution_count": 40,
   "metadata": {},
   "outputs": [
    {
     "name": "stdout",
     "output_type": "stream",
     "text": [
      "Total Layers 3: \n",
      "1024\n",
      "1024\n",
      "10\n"
     ]
    }
   ],
   "source": [
    "L = len(loaded_params) // 2\n",
    "print(\"Total Layers %d: \"%L)\n",
    "for l in range(L):\n",
    "    print(loaded_params[\"W\" + str(l+1)].shape[0])\n"
   ]
  },
  {
   "cell_type": "markdown",
   "metadata": {},
   "source": [
    "## To Do"
   ]
  },
  {
   "cell_type": "markdown",
   "metadata": {},
   "source": [
    "- [ ] Optimize and refactor the code\n",
    "- [ ] Prepare the doc String\n",
    "- [x] add verbose: Integer. 0, 1, 2 or 3. Verbosity mode.\n",
    "- [ ] Batch norm\n",
    "- [ ] Maxout\n",
    "- [ ] Drop Connect\n",
    "- [ ] Data Augmentation if possible"
   ]
  },
  {
   "cell_type": "code",
   "execution_count": null,
   "metadata": {},
   "outputs": [],
   "source": []
  }
 ],
 "metadata": {
  "kernelspec": {
   "display_name": "Python 3",
   "language": "python",
   "name": "python3"
  },
  "language_info": {
   "codemirror_mode": {
    "name": "ipython",
    "version": 3
   },
   "file_extension": ".py",
   "mimetype": "text/x-python",
   "name": "python",
   "nbconvert_exporter": "python",
   "pygments_lexer": "ipython3",
   "version": "3.8.3"
  }
 },
 "nbformat": 4,
 "nbformat_minor": 4
}
