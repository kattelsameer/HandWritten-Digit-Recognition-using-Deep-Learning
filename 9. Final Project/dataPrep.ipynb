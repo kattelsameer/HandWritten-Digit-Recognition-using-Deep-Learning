{
 "cells": [
  {
   "cell_type": "markdown",
   "metadata": {},
   "source": [
    "# Dataset Preparation"
   ]
  },
  {
   "cell_type": "markdown",
   "metadata": {},
   "source": [
    "## Loading Dependencies"
   ]
  },
  {
   "cell_type": "markdown",
   "metadata": {},
   "source": [
    "#### Dependencies used:\n",
    "- Standard Utility Modules (os, struct, time, urllib, gzip)\n",
    "- Core 3rd Party packeges (numpy, matplotlib)\n"
   ]
  },
  {
   "cell_type": "code",
   "execution_count": 1,
   "metadata": {},
   "outputs": [],
   "source": [
    "# Python Standard Libraries\n",
    "# import os\n",
    "import os.path #for accessing the file path\n",
    "import struct  #for unpacking the binary data\n",
    "\n",
    "import time    #for calculating time\n",
    "\n",
    "from urllib.request import urlopen #for downloading the dataset\n",
    "from urllib.error import URLError, HTTPError #for error handling while downloading data\n",
    "\n",
    "import gzip as unzip #for decompressing the downloaded dataset\n",
    "\n",
    "#core packages\n",
    "import numpy as np #for mathematical calculations\n",
    "import matplotlib.pyplot as plt #for visualization\n",
    "\n",
    "%matplotlib inline"
   ]
  },
  {
   "cell_type": "markdown",
   "metadata": {},
   "source": [
    "## Downloading Dataset"
   ]
  },
  {
   "cell_type": "markdown",
   "metadata": {},
   "source": [
    "- Download MNIST dataset form its official site\n",
    "> http://yann.lecun.com/exdb/mnist/index.html\n",
    "\n",
    "- Download  fashion-MNIST dataset form its official site\n",
    "    >https://github.com/zalandoresearch/fashion-mnist\n",
    "<br>\n",
    "Paper: https://arxiv.org/pdf/1708.07747.pdf \n",
    "\n",
    "Fashion MNIST dataset is not a part of this project. It is, however, used to evaluate the algorithms implemented and as a comparision metric for the performance in MNIST dataset"
   ]
  },
  {
   "cell_type": "code",
   "execution_count": 2,
   "metadata": {},
   "outputs": [],
   "source": [
    "#help from  https://gist.github.com/kissgyorgy/6102803 for bufferring part\n",
    "def download_dataset(dataset, to_path):\n",
    "    \"\"\"Downloads the dataset form the original data source.\n",
    "        \n",
    "        Arguments:\n",
    "            dataset (str): Dataset used, mnist or fashion_mnist.\n",
    "            to_path (str): Path of the directory where the dataset is to be downloaded.\n",
    "        \n",
    "        Example:\n",
    "            >>> download_dataset(dataset = \"fashion_mnist\", to_path = \"dataset/fashion_mnist/\")\n",
    "        \n",
    "        References:\n",
    "            https://gist.github.com/kissgyorgy/6102803 (Buffering Part)\n",
    "    \"\"\"\n",
    "    \n",
    "    #defining the source urls for data download\n",
    "    if dataset == \"mnist\":\n",
    "        urls = [\"http://yann.lecun.com/exdb/mnist/train-images-idx3-ubyte.gz\",\n",
    "                \"http://yann.lecun.com/exdb/mnist/train-labels-idx1-ubyte.gz\",\n",
    "                \"http://yann.lecun.com/exdb/mnist/t10k-images-idx3-ubyte.gz\",\n",
    "                \"http://yann.lecun.com/exdb/mnist/t10k-labels-idx1-ubyte.gz\"] \n",
    "    \n",
    "    elif dataset == \"fashion_mnist\":\n",
    "        urls = [\"http://fashion-mnist.s3-website.eu-central-1.amazonaws.com/train-images-idx3-ubyte.gz\",\n",
    "                \"http://fashion-mnist.s3-website.eu-central-1.amazonaws.com/train-labels-idx1-ubyte.gz\", \n",
    "                \"http://fashion-mnist.s3-website.eu-central-1.amazonaws.com/t10k-images-idx3-ubyte.gz\",\n",
    "                \"http://fashion-mnist.s3-website.eu-central-1.amazonaws.com/t10k-labels-idx1-ubyte.gz\" ] \n",
    "    else:\n",
    "        raise ValueError(\"Only 'mnist' and 'fashion_mnist' dataset are supported\")\n",
    "    \n",
    "    path = to_path #destination path\n",
    "    \n",
    "    #checking the path for data download and creating the required directories if not found\n",
    "    if not os.path.exists(path):\n",
    "        print(\"Destination directory does not exist: Creating '\" + path + \"' as a new directory.\\n\")\n",
    "        os.makedirs(path) #creating required directories recursively\n",
    "#         if this is to be handled form load_dataset() method the following lines of code should be used instead of the above two lines\n",
    "#         print(\"Directory not found: It should be handled from the load_dataset(parent) module\")\n",
    "#         return\n",
    "    \n",
    "    download_status = \"succeeded\" #initializing download status\n",
    "    \n",
    "    #downloading the data files for each url\n",
    "    for url in urls: \n",
    "        filename = url.split('/')[-1] #getting the filename from the url\n",
    "        \n",
    "        #downloading the file if it does not exist\n",
    "        if not os.path.exists(path + filename):\n",
    "            print(\"\\n%s: downloading...\"%filename)\n",
    "            try:  \n",
    "                \n",
    "                #urlretrive() can also be used to obtain data directly.. this method with buffer is used to show the download progress\n",
    "                data_online = urlopen(url) \n",
    "                \n",
    "                #opening a new file of the same filename and writing the content of the url in the file\n",
    "                with open(path + filename, 'wb') as data_local:\n",
    "                    file_size = int(data_online.info()[\"Content-Length\"]) #getting the file size of the file from the url\n",
    "                    file_size_mb = file_size/(1024*1024) #for linux system use 1000 instead of 1024\n",
    "                    downloaded_file_size = 0\n",
    "                    block_size = 1024 #setting the block size to read the data from the url\n",
    "                    while True:\n",
    "                        buffer = data_online.read(block_size) #bufferring the file content\n",
    "                        if not buffer:\n",
    "                            break #breaking if no data left to read form the url\n",
    "                        downloaded_file_size += len(buffer) #adding up downloaded file size\n",
    "                        downloaded_file_size_mb = downloaded_file_size/(1024*1024) #converting file size to MB from bytes\n",
    "                        data_local.write(buffer) #writing in the opened file in the local machine\n",
    "                        \n",
    "                        #calculating the downloaded percentage of the file\n",
    "                        down_percent = downloaded_file_size * 100. / file_size\n",
    "                        inc = int(down_percent)//10 #calculating the increment of the progress bar\n",
    "                        print (\"%.3f MB  [%.3f MB done %s>%s %.0f%%]\" %( file_size_mb, downloaded_file_size_mb, '=' * inc,'.'*(10-inc), down_percent), end = \"\\r\")\n",
    "            except HTTPError as error_message:\n",
    "                print('Download Failed: ', error_message)\n",
    "                download_status = \"failed\"\n",
    "            except URLError as e:\n",
    "                print('Download Failed: ', error_message)\n",
    "                download_status = \"failed\"\n",
    "        else:\n",
    "            print(\"\\n%s: already exists.\"%filename)\n",
    "    print(\"\\n\\nDataset download %s...\\n\"%download_status)"
   ]
  },
  {
   "cell_type": "code",
   "execution_count": null,
   "metadata": {},
   "outputs": [],
   "source": [
    "download_dataset(dataset = \"mnist\", to_path = \"dataset/mnist/\")"
   ]
  },
  {
   "cell_type": "code",
   "execution_count": null,
   "metadata": {},
   "outputs": [],
   "source": [
    "download_dataset(dataset =\"fashion_mnist\" , to_path = \"dataset/fashion_mnist/\")"
   ]
  },
  {
   "cell_type": "markdown",
   "metadata": {},
   "source": [
    "## Decompressing the gzip Dataset files to the desired binary files"
   ]
  },
  {
   "cell_type": "code",
   "execution_count": 25,
   "metadata": {},
   "outputs": [],
   "source": [
    "# https://www.tutorialspoint.com/working-with-zip-files-in-python\n",
    "# https://www.geeksforgeeks.org/os-walk-python/\n",
    "\n",
    "\n",
    "def is_gzip(filename):\n",
    "    \"\"\"Check if the file si gzip or not.\n",
    "        \n",
    "        Argument:\n",
    "            filename (str): file to be checked.\n",
    "        \n",
    "        Return:\n",
    "            Bool: True if the given file is gzip, false otherwise.\n",
    "        \n",
    "        Example:\n",
    "            >>> is_gzip(filename)\n",
    "    \"\"\"\n",
    "    #checking the extention of the file to determine if it is a gzip file or not\n",
    "    ext = filename.split(\".\")[-1]\n",
    "    if ext == \"gz\":\n",
    "        return True\n",
    "\n",
    "def get_files(path,file_type = \"all\"):\n",
    "    \"\"\"Get all the files of file_type form the given path.\n",
    "        \n",
    "        Arguments:\n",
    "            path (str): location where the files are to be checked.\n",
    "            file_type (str,optional) : type of files to be checked. Defaults to \"all\".\n",
    "       \n",
    "        Return:\n",
    "            files (list): name of the files in the given path\n",
    "        \n",
    "        Example:\n",
    "            >>> files = get_files(path, file_type = \"all\")\n",
    "    \"\"\"\n",
    "    files = []\n",
    "    #accessing all files in the supplied path\n",
    "    for root, dirs, file in os.walk(path):\n",
    "        for fname in file:\n",
    "            if file_type == \"gzip\": #if only gzip files are to be returned\n",
    "                if is_gzip(fname): #checking if the file is gzip\n",
    "                    files.append(fname)\n",
    "            else:\n",
    "                files.append(fname) #if all files are to be returned\n",
    "    return files\n",
    "      \n",
    "\n",
    "    \n",
    "def decompress_dataset(path, keep_original = True):\n",
    "    \"\"\"Decompress the gzip files in the given path.\n",
    "        \n",
    "        Arguments:\n",
    "            path (str): location of the file to be decompressed.\n",
    "            keep_original (bool, optional): Keep the gzip file after decompressionif True, remove otherwise. Defaults to True.\n",
    "        \n",
    "        Example:\n",
    "            >>> decompress_dataset(path = \"dataset/fashion_mnist/\")            \n",
    "    \"\"\"\n",
    "    files = get_files(path, file_type = \"gzip\")\n",
    "    \n",
    "    #checking if there are any gzip file to decompress\n",
    "    if len(files) == 0:\n",
    "        print(\"No gzip file to decompress.\")\n",
    "        return\n",
    "    \n",
    "    for filename in files:\n",
    "        try:\n",
    "            with open(path + filename.split(\".\")[0],'wb') as fp: #opening a file on which the gzip file content is to be written\n",
    "                with unzip.open(path + filename, 'rb') as fzip: #opening the gzip file to be decompressed\n",
    "                    file_data = fzip.read() #reading the gzip file\n",
    "                fp.write(file_data) #writing the read content to another local file\n",
    "            if keep_original == False:\n",
    "                os.remove(path+filename) #removing the gzip file after decompression\n",
    "        except unzip.BadZipFile:\n",
    "            print('Error: Invalid gzip file encountered.')\n",
    "    \n",
    "    print(\"Dataset decompression succeeded...\")\n",
    "    if keep_original == False:\n",
    "        print(\"Original gzip files removed...\")\n",
    "\n"
   ]
  },
  {
   "cell_type": "code",
   "execution_count": 28,
   "metadata": {},
   "outputs": [
    {
     "name": "stdout",
     "output_type": "stream",
     "text": [
      "No gzip file to decompress.\n"
     ]
    }
   ],
   "source": [
    "decompress_dataset(path = \"dataset/fashion_mnist/\")"
   ]
  },
  {
   "cell_type": "markdown",
   "metadata": {},
   "source": [
    "## Retriving data from binary file"
   ]
  },
  {
   "cell_type": "code",
   "execution_count": 31,
   "metadata": {},
   "outputs": [],
   "source": [
    "def retrive_dataset(path, filename):\n",
    "    \"\"\"Retrive mnist or fashion_mnist dataset from  the binary file into numpy arrays.        \n",
    "        \n",
    "        Arguments:\n",
    "            path (str): path where the files are located\n",
    "            filename (str): name of the files that are to be retrived\n",
    "        \n",
    "        Returns:\n",
    "            train_images (numpy.ndarray) : 3D array consisting of m examples of training images \n",
    "            train_labels (numpy.ndarray) : labels for each training images\n",
    "            test_images (numpy.ndarray) : 3D array consisting of m examples of test images \n",
    "            test-labels (numpy.ndarray) : labels for each test images\n",
    "        \n",
    "        Example:\n",
    "            >>> train_x, train_y, test_x, test_y = retrive_dataset(path, filename)\n",
    "            \n",
    "        References:\n",
    "            mnist (str/url): http://yann.lecun.com/exdb/mnist/\n",
    "            fashion_mnist (str/url): https://github.com/zalandoresearch/fashion-mnist/\n",
    "            Code for Retrival(str\\retrival): https://www.cs.virginia.edu/~connelly/class/2015/large_scale/proj2/mnist_python\n",
    "                modified to our need making data retrival 8-10 times faster\n",
    "    \"\"\"\n",
    "    #setting file path based on the dataset\n",
    "    train_img_file_path = path + filename[0]\n",
    "    train_lbl_file_path = path + filename[1]\n",
    "    test_img_file_path = path + filename[2]\n",
    "    test_lbl_file_path = path + filename[3]\n",
    "     \n",
    "    #retriving the training data\n",
    "    with open(train_img_file_path, 'rb') as train_fimg, open(train_lbl_file_path, 'rb') as train_flbl :\n",
    "        #retriving labels\n",
    "        _, size = struct.unpack(\">II\", train_flbl.read(8))\n",
    "        train_labels = np.frombuffer(train_flbl.read(), dtype=np.int8).reshape(size,1)\n",
    "        #retriving images\n",
    "        _, _, rows, cols = struct.unpack(\">IIII\", train_fimg.read(16))\n",
    "        train_images = np.frombuffer(train_fimg.read(),dtype=np.uint8).reshape(size, rows, cols)\n",
    "       \n",
    "    #retriving the test data\n",
    "    with open(test_img_file_path, 'rb') as test_fimg, open(test_lbl_file_path, 'rb') as test_flbl :\n",
    "        #retriving labels\n",
    "        _, size = struct.unpack(\">II\", test_flbl.read(8))\n",
    "        test_labels = np.frombuffer(test_flbl.read(), dtype=np.int8).reshape(size,1)\n",
    "        #retriving images\n",
    "        _, _, rows, cols = struct.unpack(\">IIII\", test_fimg.read(16))\n",
    "        test_images = np.frombuffer(test_fimg.read(),dtype=np.uint8).reshape(size, rows, cols)\n",
    "     \n",
    "    #validating the shape of the retrived data\n",
    "    assert(train_images.shape == (60000, 28, 28))\n",
    "    assert(train_labels.shape == (60000,1))\n",
    "    assert(test_images.shape == (10000, 28, 28))\n",
    "    assert(test_labels.shape == (10000,1))\n",
    "    \n",
    "  \n",
    "    \n",
    "    return train_images, train_labels, test_images, test_labels\n",
    "\n"
   ]
  },
  {
   "cell_type": "code",
   "execution_count": 33,
   "metadata": {},
   "outputs": [
    {
     "name": "stdout",
     "output_type": "stream",
     "text": [
      "Data\t\t\t Datatype\t\t Shape\n",
      "=================================================================\n",
      "Training Set Images:\t<class 'numpy.ndarray'>\t (60000, 28, 28)\n",
      "Training Set Labels:\t<class 'numpy.ndarray'>\t (60000, 1)\n",
      "Test Set Images:\t<class 'numpy.ndarray'>\t (10000, 28, 28)\n",
      "Test Set Labels:\t<class 'numpy.ndarray'>\t (10000, 1)\n",
      "=================================================================\n"
     ]
    }
   ],
   "source": [
    "path = \"dataset/mnist/\"\n",
    "    \n",
    "filename = [\"train-images-idx3-ubyte\",\n",
    "            \"train-labels-idx1-ubyte\",\n",
    "            \"t10k-images-idx3-ubyte\",\n",
    "            \"t10k-labels-idx1-ubyte\"] \n",
    "#retriving the data\n",
    "train_x_orig, train_y_orig, test_x_temp, test_y_temp = retrive_dataset(path, filename)\n",
    "\n",
    "#displaying the retrival info\n",
    "print(\"Data\\t\\t\\t\",\"Datatype\\t\\t\",\"Shape\")\n",
    "print(\"=================================================================\")\n",
    "print(\"Training Set Images:\\t\" + str(type(train_x_orig))+\"\\t\",str(train_x_orig.shape))\n",
    "print(\"Training Set Labels:\\t\" + str(type(train_y_orig))+\"\\t\",str(train_y_orig.shape))\n",
    "print(\"Test Set Images:\\t\" + str(type(test_x_temp))+\"\\t\",str(test_x_temp.shape))\n",
    "print(\"Test Set Labels:\\t\" + str(type(test_y_temp))+\"\\t\",str(test_y_temp.shape))\n",
    "print(\"=================================================================\")\n"
   ]
  },
  {
   "cell_type": "markdown",
   "metadata": {},
   "source": [
    "## Sample a portion of the retrived Dataset"
   ]
  },
  {
   "cell_type": "code",
   "execution_count": 5,
   "metadata": {},
   "outputs": [],
   "source": [
    "#retriving a small sample of the original dataset for model development and experimentation\n",
    "def sample_dataset(x,y, size_in_per):\n",
    "    \"\"\"Returns a sample dataset from the original larger dataset\n",
    "       \n",
    "        Arguments:\n",
    "            x (numpy.ndarray): original input data\n",
    "            y (numpy.ndarray): original output labels\n",
    "            size_in_per (int): sample volume in percentage\n",
    "        \n",
    "        Returns:\n",
    "            x_sample (numpy.ndarray): input sample  from original dataset of size (sample_size% of x)\n",
    "            y_sample (numpy.ndarray): output sample  from original dataset of size (sample_size% of y)\n",
    "            \n",
    "        Example:\n",
    "            >>> train_x_sample, train_y_sample = sample_dataset(train_x,train_y, size_in_per = 100)\n",
    "    \"\"\"\n",
    "    m = y.shape[0]\n",
    "    \n",
    "    #getting the sample size to be returned from the percentage\n",
    "    sample_m = int(np.multiply(m,np.divide(size_in_per,100))) #int(m*(dataVol/100)) \n",
    "    \n",
    "    #suffling the original dataset\n",
    "    randCol = np.random.permutation(m)\n",
    "    x_suffled = x[randCol,:,:]\n",
    "    y_suffled = y[randCol,:]\n",
    "    \n",
    "    #taking samples of sample_size\n",
    "    x_sample = x_suffled[0:sample_m,:,:]\n",
    "    y_sample = y_suffled[0:sample_m,:]\n",
    "    \n",
    "    #vallidating the sample data size\n",
    "    assert(x_sample.shape == (sample_m,28,28))\n",
    "    assert(y_sample.shape == (sample_m,1))\n",
    "\n",
    "    return x_sample, y_sample"
   ]
  },
  {
   "cell_type": "markdown",
   "metadata": {},
   "source": [
    "## Load the dataset"
   ]
  },
  {
   "cell_type": "code",
   "execution_count": 6,
   "metadata": {},
   "outputs": [],
   "source": [
    "def load_dataset(dataset, size_in_per = 100):\n",
    "    \"\"\"Loads the dataset from its raw form to an nd-array representation.\n",
    "        \n",
    "        Arguments:\n",
    "            dataset (str): dataset used, mnist or fashion_mnist\n",
    "            size_in_per (int, optional): size of the sample to be drawn from the dataset. Defaults to 100\n",
    "        \n",
    "        Returns:\n",
    "            train_x_orig (numpy.ndarray): training set images of size (6000,28,28) \n",
    "            train_y_orig (numpy.ndarray): training set labels of size (60000,1)\n",
    "            test_x_orig (numpy.ndarray): test set images of size (10000,28,28)\n",
    "            test_y_orig (numpy.ndarray): test set labels of size (10000,1)\n",
    "        \n",
    "        Example:\n",
    "            >>> train_x, train_y, test_x, test_y = load_dataset(dataset = \"fashion_mnist\", size_in_per = 25)\n",
    "    \"\"\"\n",
    "    \n",
    "    path = 'dataset/%s/'%(dataset) #generating the dataset path\n",
    "     \n",
    "    filename = [\"train-images-idx3-ubyte\",\n",
    "                \"train-labels-idx1-ubyte\",\n",
    "                \"t10k-images-idx3-ubyte\",\n",
    "                \"t10k-labels-idx1-ubyte\"] \n",
    "    gzip_filename = [fname+\".gz\" for fname in filename] #generating the gzip file name\n",
    "\n",
    "    \n",
    "    #creating a new destination path if it doesnot exist\n",
    "    if not os.path.exists(path):\n",
    "        print(\"No destination directory exists to load the data from:\\nCreating '\" + path + \"' as a new directory...\\n\")\n",
    "        os.makedirs(path) #making directories recursively\n",
    "    \n",
    "    #Downloading the dataset form  the web if the path is empty (i.e if no dataset is found in the specified directory)\n",
    "    if len(get_files(path)) == 0:\n",
    "        print (\"Downloading the %s dataset...\"%dataset)\n",
    "        download_dataset(dataset, to_path = path)\n",
    "    \n",
    "    files = get_files(path) #getting all the files in the path after download\n",
    "    \n",
    "    #checking for all the decompressed files\n",
    "    file_check = all(fname in files for fname in filename)  \n",
    "\n",
    "    #implementating the logic for data retrival form the specified path\n",
    "    if file_check == False:       \n",
    "        gzip_filecheck = all(fname in files for fname in gzip_filename) #checking for all the gzip files\n",
    "        if gzip_filecheck == False:\n",
    "            print (\"Downloading missing gzip files of %s dataset...\"%dataset)\n",
    "            download_dataset(dataset, to_path = path) #downloading missing zip file of the dataset\n",
    "        print (\"Decompressing the %s dataset...\"%dataset)\n",
    "        decompress_dataset(path,keep_original = True)#decompressing the dataset\n",
    "    \n",
    "    train_x_temp, train_y_temp, test_x_temp, test_y_temp = retrive_dataset(path, filename)\n",
    "    \n",
    "    #getting the size of the data based on the sample size\n",
    "    #size = 100 means entire data is suffled and returned\n",
    "    train_x_orig, train_y_orig = sample_dataset(train_x_temp,train_y_temp, size_in_per)\n",
    "    test_x_orig, test_y_orig = sample_dataset(test_x_temp,test_y_temp, size_in_per)\n",
    "    \n",
    "\n",
    "    return train_x_orig, train_y_orig, test_x_orig, test_y_orig\n",
    "        "
   ]
  },
  {
   "cell_type": "code",
   "execution_count": 7,
   "metadata": {},
   "outputs": [
    {
     "name": "stdout",
     "output_type": "stream",
     "text": [
      "\n",
      "Time to load data from binary file using numpy: 0.2563 s\n",
      "\n",
      "Sample Size : 100%\n",
      "\n",
      "Data\t\t\t Datatype\t\t Dataset Size\n",
      "=================================================================\n",
      "Training Set Images:\t<class 'numpy.ndarray'>\t (60000, 28, 28)\n",
      "Training Set Labels:\t<class 'numpy.ndarray'>\t (60000, 1)\n",
      "Test Set Images:\t<class 'numpy.ndarray'>\t (10000, 28, 28)\n",
      "Test Set Labels:\t<class 'numpy.ndarray'>\t (10000, 1)\n",
      "=================================================================\n"
     ]
    }
   ],
   "source": [
    "dataset_size_in_per = 100\n",
    "\n",
    "toc = time.time()\n",
    "train_x_orig, train_y_orig, test_x_orig, test_y_orig = load_dataset(dataset = \"fashion_mnist\", size_in_per = dataset_size_in_per)\n",
    "\n",
    "tic = time.time()\n",
    "#displaying the retrival info\n",
    "print(\"\\nTime to load data from binary file using numpy: %.4f s\\n\"%(tic-toc))\n",
    "\n",
    "print(\"Sample Size : %d%%\\n\"%(dataset_size_in_per))\n",
    "\n",
    "print(\"Data\\t\\t\\t\",\"Datatype\\t\\t\",\"Dataset Size\")\n",
    "print(\"=================================================================\")\n",
    "print(\"Training Set Images:\\t\" + str(type(train_x_orig))+\"\\t\",str(train_x_orig.shape))\n",
    "print(\"Training Set Labels:\\t\" + str(type(train_y_orig))+\"\\t\",str(train_y_orig.shape))\n",
    "print(\"Test Set Images:\\t\" + str(type(test_x_orig))+\"\\t\",str(test_x_orig.shape))\n",
    "print(\"Test Set Labels:\\t\" + str(type(test_y_orig))+\"\\t\",str(test_y_orig.shape))\n",
    "print(\"=================================================================\")\n"
   ]
  },
  {
   "cell_type": "markdown",
   "metadata": {},
   "source": [
    "## Dev-Test split"
   ]
  },
  {
   "cell_type": "code",
   "execution_count": 8,
   "metadata": {},
   "outputs": [],
   "source": [
    "def dev_test_split(test_x,test_y):\n",
    "    \"\"\"Randomly splits the test set to dev and test set\n",
    "        \n",
    "        Arguments:\n",
    "            test_x (numpy.ndarray): test set images of size (m,28,28), where m is num of examples in test_x\n",
    "            test_y (numpy.ndarray): test set labels of size (m,1)\n",
    "        \n",
    "        Returns:\n",
    "            dev_x (numpy.ndarray): dev set images of size (n,28,28) , where n is num of examples in dev_x\n",
    "            dev_y (numpy.ndarray): dev set labels of size (n,1)\n",
    "            test_x (numpy.ndarray): test set images of size (n,28,28)\n",
    "            test_y (numpy.ndarray): test set labels of size (n,1)\n",
    "        \n",
    "        Example:\n",
    "            >>> dev_x_split, dev_y_split, test_x_split, test_y_split = dev_test_split(test_x, test_y)\n",
    "    \"\"\"\n",
    "    m = test_y.shape[0]\n",
    "    n = m // 2 #making the split size into half of the original data size\n",
    "    #suffling the test dataset\n",
    "    randCol = np.random.permutation(m)\n",
    "    suffled_x = test_x[randCol,:,:]\n",
    "    suffled_y = test_y[randCol,:]\n",
    "    \n",
    "    #splitting the test set into dev and test set , 50% each\n",
    "    dev_x_split = suffled_x[0:n,:,:]\n",
    "    dev_y_split = suffled_y[0:n,:]\n",
    "    \n",
    "    test_x_split = suffled_x[n:m,:,:]\n",
    "    test_y_split = suffled_y[n:m,:]\n",
    "    \n",
    "    assert(dev_x_split.shape == (n,28,28))\n",
    "    assert(dev_y_split.shape == (n,1))\n",
    "    assert(test_x_split.shape == (n,28,28))\n",
    "    assert(test_y_split.shape == (n,1))\n",
    "    \n",
    "    return dev_x_split, dev_y_split, test_x_split, test_y_split "
   ]
  },
  {
   "cell_type": "code",
   "execution_count": 9,
   "metadata": {},
   "outputs": [
    {
     "name": "stdout",
     "output_type": "stream",
     "text": [
      "Data\t\t\t Datatype\t\t Shape\n",
      "=================================================================\n",
      "Dev Set Images:\t\t<class 'numpy.ndarray'>\t (5000, 28, 28)\n",
      "Dev Set Labels:\t\t<class 'numpy.ndarray'>\t (5000, 1)\n",
      "Test Set Images:\t<class 'numpy.ndarray'>\t (5000, 28, 28)\n",
      "Test Set Labels:\t<class 'numpy.ndarray'>\t (5000, 1)\n",
      "=================================================================\n"
     ]
    }
   ],
   "source": [
    "dev_x_split, dev_y_split, test_x_split, test_y_split = dev_test_split(test_x_orig, test_y_orig)\n",
    "\n",
    "print(\"Data\\t\\t\\t\",\"Datatype\\t\\t\",\"Shape\")\n",
    "print(\"=================================================================\")\n",
    "print(\"Dev Set Images:\\t\\t\" + str(type(dev_x_split))+\"\\t\",str(dev_x_split.shape))\n",
    "print(\"Dev Set Labels:\\t\\t\" + str(type(dev_y_split))+\"\\t\",str(dev_y_split.shape))\n",
    "print(\"Test Set Images:\\t\" + str(type(test_x_split))+\"\\t\",str(test_x_split.shape))\n",
    "print(\"Test Set Labels:\\t\" + str(type(test_y_split))+\"\\t\",str(test_y_split.shape))\n",
    "print(\"=================================================================\")\n"
   ]
  },
  {
   "cell_type": "markdown",
   "metadata": {},
   "source": [
    "## Visualizing and Validating Raw datasets"
   ]
  },
  {
   "cell_type": "code",
   "execution_count": 10,
   "metadata": {},
   "outputs": [],
   "source": [
    "#dataset visualization using charts\n",
    "def visualize_data_distribution(y_orig, dataset_type):\n",
    "    \"\"\"Plots bar graph showing the distribution of examples in each class\n",
    "\n",
    "        Arguments:\n",
    "            y_orig (numpy.ndarray): labels of dev set\n",
    "            dataset_type(str): type of dataset, can be training, dev or test\n",
    "            \n",
    "        Example:\n",
    "            >>> visualize_data_distribution(train_y, dataset_type = \"training\")            \n",
    "    \"\"\"\n",
    "    #setting the plot style\n",
    "#     plt.style.use('seaborn')\n",
    "    \n",
    "    #creating subplots\n",
    "    fig, axes = plt.subplots(figsize=(10,5))\n",
    "    i = 0\n",
    "    \n",
    "    #plotting the bar graph for each dataset labels\n",
    "    unique, counts = np.unique(y_orig, return_counts=True) \n",
    "    axes.bar(unique, counts)\n",
    "    max_value = np.max(counts)\n",
    "    axes.set(xticks = unique, ylim = (0,max_value + max_value // 10))\n",
    "    axes.set_title(\"Distribution of Examples in %s Set\"%dataset_type.capitalize() , fontsize = 16)\n",
    "    axes.set_xlabel(\"Classes\", fontsize = 12)\n",
    "    axes.set_ylabel(\"Number of Examples\", fontsize = 12)\n",
    "\n",
    "    i += 1\n",
    "\n",
    "    plt.show()"
   ]
  },
  {
   "cell_type": "code",
   "execution_count": 11,
   "metadata": {},
   "outputs": [
    {
     "data": {
      "image/png": "[encoded data removed]",
      "text/plain": [
       "<Figure size 720x360 with 1 Axes>"
      ]
     },
     "metadata": {
      "needs_background": "light"
     },
     "output_type": "display_data"
    },
    {
     "data": {
      "image/png": "[encoded data removed]",
      "text/plain": [
       "<Figure size 720x360 with 1 Axes>"
      ]
     },
     "metadata": {
      "needs_background": "light"
     },
     "output_type": "display_data"
    },
    {
     "data": {
      "image/png": "[encoded data removed]",
      "text/plain": [
       "<Figure size 720x360 with 1 Axes>"
      ]
     },
     "metadata": {
      "needs_background": "light"
     },
     "output_type": "display_data"
    }
   ],
   "source": [
    "visualize_data_distribution(train_y_orig, dataset_type = \"training\")\n",
    "visualize_data_distribution(dev_y_split,  dataset_type = \"dev\")\n",
    "visualize_data_distribution(test_y_split,  dataset_type = \"test\")"
   ]
  },
  {
   "cell_type": "code",
   "execution_count": 12,
   "metadata": {},
   "outputs": [],
   "source": [
    "def label_description(dataset):\n",
    "    \"\"\"Returns the description of the labels\n",
    "        \n",
    "        Arguments:\n",
    "            dataset(str): dataset used, mnist of fashion_mnist\n",
    "\n",
    "        Return:\n",
    "            desc (dict): label description\n",
    "        \n",
    "        Example:\n",
    "            >>> label_desc = label_description(dataset = \"fashion_mnist\")\n",
    "    \"\"\"\n",
    "    \n",
    "    #creating the label description for fashion_mnist dataset\n",
    "    if dataset == \"fashion_mnist\":\n",
    "        desc = {0:\"T-shirt/top\",\n",
    "                1:\"Trouser\",\n",
    "                2:\"Pullover\",\n",
    "                3:\"Dress\",\n",
    "                4:\"Coat\",\n",
    "                5:\"Sandal\",\n",
    "                6:\"Shirt\",\n",
    "                7:\"Sneaker\",\n",
    "                8:\"Bag\",\n",
    "                9:\"Ankle boot\"}\n",
    "    #creating the label description for mnist dataset\n",
    "    elif dataset == \"mnist\":\n",
    "        desc = {0:\"Zero\",\n",
    "                1:\"One\",\n",
    "                2:\"Two\",\n",
    "                3:\"Three\",\n",
    "                4:\"Four\",\n",
    "                5:\"Five\",\n",
    "                6:\"Six\",\n",
    "                7:\"Seven\",\n",
    "                8:\"Eight\",\n",
    "                9:\"Nine\"}\n",
    "    else:\n",
    "        raise ValueError(\"Dataset must be mnist or fashion_mnist\")\n",
    "        \n",
    "    return desc\n"
   ]
  },
  {
   "cell_type": "code",
   "execution_count": null,
   "metadata": {},
   "outputs": [],
   "source": [
    "label_desc = label_description(dataset = \"fashion_mnist\")\n",
    "\n",
    "plt.imshow(test_x_orig[200], cmap = \"Greys\")\n",
    "a = int(test_y_orig[200])\n",
    "plt.title(\" Label: %d | %s\"%(a,label_desc[a]))\n",
    "# print(255-test_x_orig[2])"
   ]
  },
  {
   "cell_type": "code",
   "execution_count": 13,
   "metadata": {},
   "outputs": [],
   "source": [
    "def visualize_dataset(x_orig, y_orig, dataset, dataset_type):\n",
    "    \"\"\"Plots 10 sample images  with labels and label description\n",
    "        \n",
    "        Arguments:\n",
    "            x_orig (numpy.ndarray): 3D array representation of input images\n",
    "            y_orig (numpy.ndarray): array of labels\n",
    "            dataset (str): dataset used, mnist of fashion_mnist\n",
    "            dataset_type (str): type of dataset, can be training, dev or test\n",
    "        \n",
    "        Example:\n",
    "            >>> visualize_dataset(train_x, train_y, dataset = \"fashion_mnist\", dataset_type = \"training\")            \n",
    "    \"\"\"\n",
    "    #recovering matplotlib defaults\n",
    "#     plt.rcParams.update(plt.rcParamsDefault) \n",
    "    \n",
    "    #getting the label description\n",
    "    label_desc = label_description(dataset)\n",
    "    \n",
    "    #generating a range of index for image samples to be visualized\n",
    "    rng = np.random.randint(0,5000,10)\n",
    "    #generating the visualization lables based on the dataset_type\n",
    "    visual_title = \"%s Set\"%dataset_type.capitalize()\n",
    "   \n",
    "    #creating subplots\n",
    "    fig, axes = plt.subplots(nrows=2, ncols=5,figsize=(16,8))\n",
    "    fig.subplots_adjust(hspace=.1)\n",
    "    fig.suptitle(visual_title, fontsize = 20)\n",
    "    \n",
    "    #plotting the sample images along with their labels\n",
    "    for ax,i in zip(axes.flatten(),rng):\n",
    "        ax.imshow(x_orig[i].squeeze(),interpolation='nearest', cmap=\"Greys\")\n",
    "        ax.set(title = \"Label: %d | %s\"%(y_orig[i,0], label_desc[y_orig[i,0]] ))\n",
    "#         ax.set_xtick(False)"
   ]
  },
  {
   "cell_type": "code",
   "execution_count": 14,
   "metadata": {},
   "outputs": [
    {
     "data": {
      "image/png": "[encoded data removed]",
      "text/plain": [
       "<Figure size 1152x576 with 10 Axes>"
      ]
     },
     "metadata": {
      "needs_background": "light"
     },
     "output_type": "display_data"
    },
    {
     "data": {
      "image/png": "[encoded data removed]",
      "text/plain": [
       "<Figure size 1152x576 with 10 Axes>"
      ]
     },
     "metadata": {
      "needs_background": "light"
     },
     "output_type": "display_data"
    },
    {
     "data": {
      "image/png": "[encoded data removed]",
      "text/plain": [
       "<Figure size 1152x576 with 10 Axes>"
      ]
     },
     "metadata": {
      "needs_background": "light"
     },
     "output_type": "display_data"
    }
   ],
   "source": [
    "visualize_dataset(train_x_orig, train_y_orig, dataset = \"fashion_mnist\", dataset_type = \"training\")\n",
    "visualize_dataset(dev_x_split, dev_y_split, dataset = \"fashion_mnist\", dataset_type = \"dev\")\n",
    "visualize_dataset(test_x_split, test_y_split, dataset = \"fashion_mnist\", dataset_type=\"test\")"
   ]
  },
  {
   "cell_type": "markdown",
   "metadata": {},
   "source": [
    "# Preparing Dataset"
   ]
  },
  {
   "cell_type": "markdown",
   "metadata": {},
   "source": [
    "## Flattening the images"
   ]
  },
  {
   "cell_type": "code",
   "execution_count": 15,
   "metadata": {},
   "outputs": [],
   "source": [
    "def flatten_input(x_orig):\n",
    "    \"\"\"Returns the flattened 2D array of input images\n",
    "        \n",
    "        Arguement:\n",
    "            x_orig (numpy.ndarray): 3D numpy array of the input set images of size (m,28,28)\n",
    "            \n",
    "        Returns:\n",
    "            x_flatten (numpy.ndarray): 2D numpy array of flattened input data of size (784,m)\n",
    "            \n",
    "        Example:\n",
    "            >>> train_x_flatten = flatten_input(train_x)\n",
    "    \"\"\"\n",
    "    m = x_orig.shape[0] #number of examples in dataset set\n",
    "    \n",
    "    #flattening the image--The \"-1\" makes reshape flatten the remaining dimensions\n",
    "    x_flatten = x_orig.reshape(x_orig.shape[0], -1).T   \n",
    "\n",
    "    assert(x_flatten.shape == (784,m) )\n",
    "    \n",
    "    return x_flatten"
   ]
  },
  {
   "cell_type": "code",
   "execution_count": 16,
   "metadata": {},
   "outputs": [
    {
     "name": "stdout",
     "output_type": "stream",
     "text": [
      "Data\t\t\t Shape\n",
      "=====================================\n",
      "Input Training set:\t(784, 60000)\n",
      "Input Dev set:\t\t(784, 5000)\n",
      "Input Test set:\t\t(784, 5000)\n",
      "=====================================\n"
     ]
    }
   ],
   "source": [
    "train_x_flatten = flatten_input(train_x_orig)\n",
    "dev_x_flatten = flatten_input(dev_x_split)\n",
    "test_x_flatten = flatten_input(test_x_split)\n",
    "\n",
    "print(\"Data\\t\\t\\t\",\"Shape\")\n",
    "print(\"=====================================\")\n",
    "print (\"Input Training set:\\t\" + str(train_x_flatten.shape))\n",
    "print (\"Input Dev set:\\t\\t\" + str(dev_x_flatten.shape))\n",
    "print (\"Input Test set:\\t\\t\" + str(test_x_flatten.shape))\n",
    "print(\"=====================================\")"
   ]
  },
  {
   "cell_type": "markdown",
   "metadata": {},
   "source": [
    "## Normalizing the images"
   ]
  },
  {
   "cell_type": "code",
   "execution_count": 17,
   "metadata": {},
   "outputs": [],
   "source": [
    "def normalize_input(x_flatten):\n",
    "    \"\"\"Normalizes the pixel values of the flattened images to the range 0-1\n",
    "        \n",
    "        Arguement:\n",
    "            x_flatten (numpy.ndarray): flattened input data of size (784,m)\n",
    "\n",
    "        Returns:\n",
    "            x_norm (numpy.ndarray): normalized input data of size (784,m)\n",
    "            \n",
    "        Example:\n",
    "            >>> train_x_norm = normalize_input(train_x_flatten)\n",
    "    \"\"\"\n",
    "    m = x_flatten.shape[1]\n",
    "    \n",
    "    # Normalizing the data into the range between 0 and 1.\n",
    "    x_norm = np.divide(x_flatten,255.)\n",
    "    \n",
    "    assert(x_norm.shape == (784,m) )\n",
    "    \n",
    "    return x_norm"
   ]
  },
  {
   "cell_type": "code",
   "execution_count": 18,
   "metadata": {},
   "outputs": [
    {
     "name": "stdout",
     "output_type": "stream",
     "text": [
      "Data\t\t\t Shape\n",
      "=====================================\n",
      "Input Training set:\t(784, 60000)\n",
      "Input Dev set:\t\t(784, 5000)\n",
      "Input Test set:\t\t(784, 5000)\n",
      "=====================================\n"
     ]
    }
   ],
   "source": [
    "train_x_norm = normalize_input(train_x_flatten)\n",
    "dev_x_norm= normalize_input(dev_x_flatten)\n",
    "test_x_norm = normalize_input(test_x_flatten)\n",
    "\n",
    "print(\"Data\\t\\t\\t\",\"Shape\")\n",
    "print(\"=====================================\")\n",
    "print (\"Input Training set:\\t\" + str(train_x_norm.shape))\n",
    "print (\"Input Dev set:\\t\\t\" + str(dev_x_norm.shape))\n",
    "print (\"Input Test set:\\t\\t\" + str(test_x_norm.shape))\n",
    "print(\"=====================================\")"
   ]
  },
  {
   "cell_type": "markdown",
   "metadata": {},
   "source": [
    "## Encoding the labels"
   ]
  },
  {
   "cell_type": "code",
   "execution_count": 19,
   "metadata": {},
   "outputs": [],
   "source": [
    "def one_hot_encoding(y_orig, num_class):\n",
    "    \"\"\"Transform the output labels into the one-hot encoding representation\n",
    "        \n",
    "        Arguments:\n",
    "            y_orig (numpy.ndarray): numeric labels(decimal form) loaded directly from the binary file of size (1,m)\n",
    "            num_class (int): number of the classes of the labels\n",
    "        Returns:\n",
    "            y_encoded (numpy.ndarray): encoded ndarray of the labels with binary values of size (num_class,m)\n",
    "            \n",
    "        Example:\n",
    "            >>> train_y_encoded = one_hot_encoding(train_y.T, num_class = 10)\n",
    "    \"\"\"\n",
    "    m = y_orig.shape[1]\n",
    "    #encoding the labels\n",
    "    y_encoded = np.eye(num_class)[y_orig.reshape(-1)].T\n",
    "\n",
    "\n",
    "    assert(y_encoded.shape == (num_class, m))\n",
    "    return y_encoded"
   ]
  },
  {
   "cell_type": "code",
   "execution_count": 20,
   "metadata": {},
   "outputs": [
    {
     "name": "stdout",
     "output_type": "stream",
     "text": [
      "Time to encode: 9.576082229614258 ms\n",
      "\n",
      "Data\t\t\t Shape\n",
      "===================================\n",
      "Output Training set:\t(10, 60000)\n",
      "Output Dev set:\t\t(10, 5000)\n",
      "Output Test set:\t(10, 5000)\n",
      "===================================\n"
     ]
    }
   ],
   "source": [
    "toc = time.time()\n",
    "#encoding the output of the training and the test dataset\n",
    "train_y_encoded = one_hot_encoding(train_y_orig.T)\n",
    "dev_y_encoded = one_hot_encoding(dev_y_split.T)\n",
    "test_y_encoded = one_hot_encoding(test_y_split.T)\n",
    "tic = time.time()\n",
    "print(\"Time to encode: \" + str(1000*(tic-toc)) + \" ms\\n\")\n",
    "\n",
    "print(\"Data\\t\\t\\t\",\"Shape\")\n",
    "print(\"===================================\")\n",
    "print (\"Output Training set:\\t\" + str(train_y_encoded.shape))\n",
    "print (\"Output Dev set:\\t\\t\" + str(dev_y_encoded.shape))\n",
    "print (\"Output Test set:\\t\" + str(test_y_encoded.shape))\n",
    "print(\"===================================\")"
   ]
  },
  {
   "cell_type": "markdown",
   "metadata": {},
   "source": [
    "## Prep Dataset"
   ]
  },
  {
   "cell_type": "code",
   "execution_count": 21,
   "metadata": {},
   "outputs": [],
   "source": [
    "def prep_dataset(x_orig, y_orig, num_class = 10):\n",
    "    \"\"\"Flatten and Normalize the input images and encode the output labels to one-hot representation.\n",
    "        \n",
    "        Arguments:\n",
    "            x_orig (numpy.ndarray): input images of size (60000,28,28)\n",
    "            y_orig (numpy.ndarray): input labels of size (60000,1)\n",
    "            num_class(int, optional): number of the classes of the labels. Defaults to 10\n",
    "            \n",
    "        Returns:\n",
    "            x_norm (numpy.ndarray): flattened and normalized input data\n",
    "            y_encoded (numpy.ndarray): labels encoded in one-hot representation\n",
    "            \n",
    "        Example:\n",
    "            >>> train_x_norm, train_y_encoded = prep_dataset(train_x, train_y, num_class = 10)\n",
    "    \"\"\"\n",
    "    #flatten the input images\n",
    "    x_flatten = flatten_input(x_orig)\n",
    "    \n",
    "    #normalize the input images\n",
    "    x_norm = normalize_input(x_flatten)\n",
    "    \n",
    "    #encode the output labels\n",
    "    y_encoded = one_hot_encoding(y_orig.T, num_class)\n",
    "    \n",
    "    return x_norm,y_encoded"
   ]
  },
  {
   "cell_type": "code",
   "execution_count": 22,
   "metadata": {},
   "outputs": [
    {
     "name": "stdout",
     "output_type": "stream",
     "text": [
      "Data\t\t\t Before Processing\t After Processing\n",
      "=================================================================\n",
      "Training Set Images:\t(60000, 28, 28)\t\t(784, 60000)\n",
      "Training Set Labels:\t(60000, 1)\t\t(10, 60000)\n",
      "Dev Set Images:\t\t(5000, 28, 28)\t\t(784, 5000)\n",
      "Dev Set Labels:\t\t(5000, 1)\t\t(10, 5000)\n",
      "Test Set Images:\t(5000, 28, 28)\t\t(784, 5000)\n",
      "Test Set Labels:\t(5000, 1)\t\t(10, 5000)\n",
      "=================================================================\n"
     ]
    }
   ],
   "source": [
    "train_x_norm, train_y_encoded = prep_dataset(train_x_orig, train_y_orig, num_class = 10)\n",
    "dev_x_norm, dev_y_encoded= prep_dataset(dev_x_split, dev_y_split, num_class = 10)\n",
    "test_x_norm, test_y_encoded = prep_dataset(test_x_split, test_y_split, num_class = 10)\n",
    "\n",
    "print(\"Data\\t\\t\\t\",\"Before Processing\\t\",\"After Processing\")\n",
    "print(\"=================================================================\")\n",
    "print(\"Training Set Images:\\t\" + str(train_x_orig.shape)+\"\\t\\t\"+ str(train_x_norm.shape))\n",
    "print(\"Training Set Labels:\\t\" + str(train_y_orig.shape)+\"\\t\\t\"+ str(train_y_encoded.shape))\n",
    "print(\"Dev Set Images:\\t\\t\" + str(dev_x_split.shape)+\"\\t\\t\"+ str(dev_x_norm.shape))\n",
    "print(\"Dev Set Labels:\\t\\t\" + str(dev_y_split.shape)+\"\\t\\t\"+ str(dev_y_encoded.shape))\n",
    "print(\"Test Set Images:\\t\" + str(test_x_split.shape)+\"\\t\\t\"+ str(test_x_norm.shape))\n",
    "print(\"Test Set Labels:\\t\" + str(test_y_split.shape)+\"\\t\\t\"+ str(test_y_encoded.shape))\n",
    "print(\"=================================================================\")"
   ]
  },
  {
   "cell_type": "markdown",
   "metadata": {},
   "source": [
    "### Further Work\n",
    "- [ ] Optimize the code using comprehension techniques\n",
    "- [x] Make sure the code is clean and understandable. Follow a single naming convention and give proper name for all the variables\n",
    "- [x] Write the method description as detailed as possible with proper examples\n",
    "- [x] Generate the Documentation"
   ]
  },
  {
   "cell_type": "code",
   "execution_count": null,
   "metadata": {},
   "outputs": [],
   "source": []
  }
 ],
 "metadata": {
  "kernelspec": {
   "display_name": "Python 3",
   "language": "python",
   "name": "python3"
  },
  "language_info": {
   "codemirror_mode": {
    "name": "ipython",
    "version": 3
   },
   "file_extension": ".py",
   "mimetype": "text/x-python",
   "name": "python",
   "nbconvert_exporter": "python",
   "pygments_lexer": "ipython3",
   "version": "3.7.6"
  }
 },
 "nbformat": 4,
 "nbformat_minor": 4
}
