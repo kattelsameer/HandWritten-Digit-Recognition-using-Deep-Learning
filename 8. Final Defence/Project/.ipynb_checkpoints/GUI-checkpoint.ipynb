{
 "cells": [
  {
   "cell_type": "markdown",
   "metadata": {},
   "source": [
    "## Importing Dependencies"
   ]
  },
  {
   "cell_type": "code",
   "execution_count": 1,
   "metadata": {},
   "outputs": [],
   "source": [
    "import tkinter as tk\n",
    "from tkinter.filedialog import askopenfilename\n",
    "from PIL import ImageTk, Image\n",
    "try:\n",
    "    import pyscreenshot as ImageGrab\n",
    "except:\n",
    "    !pip install pyscreenshot\n",
    "    import pyscreenshot as ImageGrab\n",
    "    \n",
    "import numpy as np\n",
    "\n",
    "\n",
    "#importing custom modules\n",
    "from ModelUtils import load_model\n",
    "from ffnn import predict\n",
    "\n"
   ]
  },
  {
   "cell_type": "markdown",
   "metadata": {},
   "source": [
    "### Loading model parameters and Preprocessing Image"
   ]
  },
  {
   "cell_type": "code",
   "execution_count": 2,
   "metadata": {},
   "outputs": [],
   "source": [
    "# Loading the model parameters\n",
    "def load_parameters():\n",
    "    path = \"Saved Models/\"\n",
    "    file_name = path + \"tuned_unscaled_online_Augmented_model_2M_test_acc_0.9916\"\n",
    "    model = load_model(file_name)\n",
    "    return model[\"Parameters\"]\n",
    "\n",
    "# Preprocessing the image\n",
    "def process_image(image):\n",
    "    #writting the image into global image_data variable\n",
    "    global image_data\n",
    "    img = np.asarray(image.convert('L').resize((28,28)))\n",
    "    if img[1,1] > 250: #if background is white, reversing the fore and background color to match training images\n",
    "            img = 255 - img\n",
    "    \n",
    "    image_flattened = img.reshape(img.shape[0]*img.shape[1],-1)\n",
    "    image_data =(image_flattened/255.)       \n"
   ]
  },
  {
   "cell_type": "markdown",
   "metadata": {},
   "source": [
    "### Drawing on canvas, capturing image and Clearing Canvas"
   ]
  },
  {
   "cell_type": "code",
   "execution_count": 3,
   "metadata": {},
   "outputs": [],
   "source": [
    "# Drawing on Canvas\n",
    "def draw_on_canvas(event):\n",
    "    x = event.x\n",
    "    y = event.y\n",
    "    r = 5\n",
    "    drawCanvas.create_oval( x-r, y-r, x+r, y+r,  fill='black',width = 5)\n",
    "\n",
    "# Capturing the drawn Image\n",
    "def capture_canvas_screen():\n",
    "    #getting the coordinates of the canvas\n",
    "    root_x = root.winfo_rootx()\n",
    "    root_y = root.winfo_rooty()\n",
    "    label_y = inputLbl.winfo_height()\n",
    "    canvas_x = root_x + drawCanvas.winfo_x()\n",
    "    canvas_y =  root_y + label_y + drawCanvas.winfo_y()\n",
    "    canvas_width = drawCanvas.winfo_width()\n",
    "    canvas_height =  drawCanvas.winfo_height()\n",
    "   \n",
    "    #Capturing the image in canvas\n",
    "    imageDrawn = ImageGrab.grab(bbox=(canvas_x, canvas_y, canvas_x+canvas_width, canvas_y+canvas_height))    \n",
    "    \n",
    "    #showing the captured image in preview screen\n",
    "    preview_image(imageDrawn)\n",
    "    \n",
    "    #processing the image before prediction\n",
    "    process_image(imageDrawn)   \n",
    "\n"
   ]
  },
  {
   "cell_type": "code",
   "execution_count": 4,
   "metadata": {},
   "outputs": [],
   "source": [
    "# Clearing the UI\n",
    "def clear():\n",
    "    #clearing drawing canvas\n",
    "    drawCanvas.delete(\"all\")\n",
    "    \n",
    "    #clearing image preview\n",
    "    previewlbl = tk.Label(previewCanvas, text = \"Preview Image\",font = (\"Times\",16))\n",
    "    previewlbl.place(relx = 0, rely = 0, relwidth = 1, relheight = 1 )\n",
    "    \n",
    "    #clearing uploaded image name\n",
    "    fileNamelbl = tk.Label(uploadPane, bg = \"green\")\n",
    "    fileNamelbl.place(relx = 0.45, rely = 0.05 , relwidth = 0.5, relheight = 0.08 )\n",
    "    \n",
    "    #clearing prediction window\n",
    "    firstPredLbl = tk.Label(firstPredictionPane)\n",
    "    firstPredLbl.place(relx = 0, rely = 0, relwidth = 1, relheight = 0.6 )\n",
    "\n",
    "    firstPredProb = tk.Label(firstPredictionPane)\n",
    "    firstPredProb.place(relx = 0, rely = 0.6, relwidth = 1, relheight = 0.4 )\n",
    "\n",
    "    fsecondPredLbl = tk.Label(secondPredictionPane)\n",
    "    fsecondPredLbl.place(relx = 0, rely = 0, relwidth = 1, relheight = 0.6 )\n",
    "\n",
    "    fsecondPredProb = tk.Label(secondPredictionPane)\n",
    "    fsecondPredProb.place(relx = 0, rely = 0.6, relwidth = 1, relheight = 0.4 )\n",
    "\n",
    "    #clearing image data\n",
    "    global image_data\n",
    "    image_data = np.zeros((784,1))\n",
    "    "
   ]
  },
  {
   "cell_type": "markdown",
   "metadata": {},
   "source": [
    "### Uploading Image from Local Storage"
   ]
  },
  {
   "cell_type": "code",
   "execution_count": 5,
   "metadata": {},
   "outputs": [],
   "source": [
    "def upload_image():\n",
    "    filepath = askopenfilename() # show an \"Open\" dialog box and return the path to the selected file\n",
    "    #extracting the file name from the file path and displaying it\n",
    "    filename = filepath.split(\"/\")[-1]\n",
    "    \n",
    "    #extracting the extension of the file\n",
    "    ext = filename.split(\".\")[-1]\n",
    "    possible_ext = [\"jpg\",\"png\",\"jpeg\"] #allowed image extensions\n",
    "    \n",
    "    fileNamelbl = tk.Label(uploadPane, text = filename, bg = \"white\",font = (\"Times\",10))\n",
    "    fileNamelbl.place(relx = 0.45, rely = 0.05 , relwidth = 0.5, relheight = 0.08 )\n",
    "\n",
    "    if ext.lower() in possible_ext:\n",
    "        imageUpload = Image.open(filepath) \n",
    "        \n",
    "        #showing the uploaded image in preview screen\n",
    "        preview_image(imageUpload)\n",
    "\n",
    "        #processing the image before prediction\n",
    "        process_image(imageUpload)\n",
    "    else:\n",
    "        msz = \"Preview not available!\\n\\n Cause: Unsupported File Type.\\n\\nSolution: Upload an image with\\n.jpg, .png or .jpeg extension\"\n",
    "        previewlbl = tk.Label(previewCanvas, text = msz,  font = (\"Times\",16))\n",
    "        previewlbl.place(relx = 0, rely = 0, relwidth = 1, relheight = 1 )"
   ]
  },
  {
   "cell_type": "markdown",
   "metadata": {},
   "source": [
    "### Previewing Uploaded or Drawn Image"
   ]
  },
  {
   "cell_type": "code",
   "execution_count": 6,
   "metadata": {},
   "outputs": [],
   "source": [
    "def preview_image(image):\n",
    "    #rendering the preview of image in the Preview Pane\n",
    "    image = image.resize((300, 300), Image.ANTIALIAS)\n",
    "    imageRender = ImageTk.PhotoImage(image)\n",
    "    img = tk.Label(previewCanvas, image=imageRender)\n",
    "    img.image = imageRender\n",
    "    img.place(relx = 0, rely = 0, relwidth = 1, relheight = 1 )"
   ]
  },
  {
   "cell_type": "markdown",
   "metadata": {},
   "source": [
    "### Predicting the image Class"
   ]
  },
  {
   "cell_type": "code",
   "execution_count": 7,
   "metadata": {},
   "outputs": [],
   "source": [
    "def classify():\n",
    "#     root.after(100,capture_canvas_screen)\n",
    "    # Pridicting only of image is drawn or uploaded\n",
    "    if not np.equal(image_data, np.zeros((784,1))).all():\n",
    "    \n",
    "        prediction = predict(image_data, params, second_guess = True)\n",
    "\n",
    "        first_lbl, first_prob = prediction[\"First Prediction\"]\n",
    "        sec_lbl, sec_prob = prediction[\"Second Prediction\"]\n",
    "\n",
    "        firstPredLbl = tk.Label(firstPredictionPane, text = first_lbl.squeeze(), font = (\"Times\",40))\n",
    "        firstPredLbl.place(relx = 0, rely = 0, relwidth = 1, relheight = 0.6 )\n",
    "\n",
    "        firstPredProb = tk.Label(firstPredictionPane, text = \"Confidence: %.4f%%\"%(first_prob.squeeze()*100), font = (\"Times\",16))\n",
    "        firstPredProb.place(relx = 0, rely = 0.6, relwidth = 1, relheight = 0.4 )\n",
    "\n",
    "        fsecondPredLbl = tk.Label(secondPredictionPane, text = \"Second Guess: \\n%d\"%(sec_lbl.squeeze()), font = (\"Times\",32))\n",
    "        fsecondPredLbl.place(relx = 0, rely = 0, relwidth = 1, relheight = 0.6 )\n",
    "\n",
    "        fsecondPredProb = tk.Label(secondPredictionPane, text = \"Confidence: %.4f%%\"%(sec_prob.squeeze()*100), font = (\"Times\",16))\n",
    "        fsecondPredProb.place(relx = 0, rely = 0.6, relwidth = 1, relheight = 0.4 )\n",
    "    \n",
    "    else:\n",
    "        firstPredLbl = tk.Label(firstPredictionPane, text = \"Draw on the canvas \\nand capture\", font = (\"Times\",16))\n",
    "        firstPredLbl.place(relx = 0, rely = 0, relwidth = 1, relheight = 1 )\n",
    "       \n",
    "        fsecondPredLbl = tk.Label(secondPredictionPane, text = \"Or Upload \\nan image of a digit\", font = (\"Times\",16))\n",
    "        fsecondPredLbl.place(relx = 0, rely = 0, relwidth = 1, relheight = 1 )\n"
   ]
  },
  {
   "cell_type": "markdown",
   "metadata": {},
   "source": [
    "### GUI Application Interface"
   ]
  },
  {
   "cell_type": "code",
   "execution_count": 8,
   "metadata": {
    "scrolled": true
   },
   "outputs": [],
   "source": [
    "\n",
    "global image_data\n",
    "root = tk.Tk()\n",
    "root.title(\"Handwritten Digit Recognizer\")\n",
    "HEIGHT = 800\n",
    "WIDTH = 800\n",
    "image_data = np.zeros((784,1))\n",
    "\n",
    "\n",
    "#preloading the trained model's parameters\n",
    "params = load_parameters()\n",
    "\n",
    "root.geometry(str(WIDTH) + \"x\" + str(HEIGHT) )\n",
    "root.resizable(width=False, height=False)\n",
    "\n",
    "#creating Frames\n",
    "imageFrame = tk.Frame(root, bg = \"red\") #contains ways to input image\n",
    "actionFrame = tk.Frame(root, bg = \"blue\") # contains options for result and buttons for action\n",
    "predictionFrame = tk.Frame(root, bg = \"white\") # consists of result of the prediction\n",
    "\n",
    "imageFrame.place(relx=0  ,rely=0 ,relwidth = 1, relheight = 0.6)\n",
    "actionFrame.place(relx=0  ,rely=0.6 ,relwidth = 1, relheight = 0.1)\n",
    "predictionFrame.place(relx =0 , rely =0.7 , relwidth = 1, relheight = 0.3)\n",
    "\n",
    "#Image Frame\n",
    "##Input image label\n",
    "inputLbl = tk.Label(imageFrame, text=\"Input Image\", font=(\"Helvetica\", 24))\n",
    "inputLbl.place(relx = 0, rely = 0, relwidth = 1, relheight = 0.1 )\n",
    "\n",
    "##Creating Panes for Image Input\n",
    "drawPane = tk.PanedWindow(imageFrame,bg = \"green\" )\n",
    "uploadPane = tk.PanedWindow(imageFrame,bg = \"green\" )\n",
    "\n",
    "drawPane.place(relx = 0, rely = 0.1, relwidth = 0.5, relheight = 0.9)\n",
    "uploadPane.place(relx = 0.5, rely = 0.1, relwidth = 0.5, relheight = 0.9)\n",
    "\n",
    "###drawPane\n",
    "#creating components for drawPane\n",
    "captureBtn = tk.Button(drawPane, text = \"Capture Drawing\",font = (\"Times\",10), command = capture_canvas_screen )\n",
    "drawCanvas = tk.Canvas(drawPane,bg = \"white\", cursor=\"cross\")\n",
    "\n",
    "captureBtn.place(relx = 0.05, rely = 0.05, relwidth = 0.4, relheight = 0.08 )\n",
    "drawCanvas.place(relx = 0.05, rely = 0.15, relwidth = 0.9, relheight = 0.8 )\n",
    "drawCanvas.bind(\"<B1-Motion>\", draw_on_canvas)\n",
    "\n",
    "\n",
    "###uploadPane\n",
    "uploadBtn = tk.Button(uploadPane, text = \"Upload Image\", font = (\"Times\",10), command = upload_image )\n",
    "previewCanvas = tk.Canvas(uploadPane, bg = \"white\")\n",
    "previewlbl = tk.Label(previewCanvas, text = \"Image Preview\",font = (\"Times\",16))\n",
    "\n",
    "uploadBtn.place(relx = 0.05, rely = 0.05 , relwidth = 0.4, relheight = 0.08 )\n",
    "previewCanvas.place(relx = 0.05, rely = 0.15, relwidth =0.9, relheight = 0.8 )\n",
    "previewlbl.place(relx = 0, rely = 0, relwidth = 1, relheight = 1 )\n",
    "\n",
    "#Action Frame\n",
    "buttonPane = tk.PanedWindow(actionFrame,bg = \"ivory4\" )\n",
    "buttonPane.place(relx = 0, rely = 0, relwidth = 1, relheight = 1)\n",
    "\n",
    "## buttonPane\n",
    "classifyBtn = tk.Button(buttonPane,text = \"Predict\", font = (\"Times\",16), command = classify)\n",
    "button_clear = tk.Button(buttonPane, text = \"Clear\", font = (\"Times\",16), command = clear)\n",
    "\n",
    "classifyBtn.place(relx = 0.05, rely = 0.1, relwidth = 0.4, relheight = 0.8 )\n",
    "button_clear.place(relx = 0.55, rely = 0.1, relwidth = 0.4, relheight = 0.8)\n",
    "\n",
    "\n",
    "#Prediction Frame\n",
    "##Prediction Labels\n",
    "predictLbl = tk.Label(predictionFrame, text=\"Prediction\", font=(\"Times\", 24))\n",
    "predictLbl.place(relx = 0, rely = 0, relwidth = 1, relheight = 0.2 )\n",
    "\n",
    "##Prediction Panes\n",
    "firstPredictionPane = tk.PanedWindow(predictionFrame, bg = \"green\")\n",
    "secondPredictionPane = tk.PanedWindow(predictionFrame, bg = \"green\")\n",
    "\n",
    "firstPredictionPane.place(relx = 0, rely = 0.2, relwidth = 0.5, relheight = 0.8)\n",
    "secondPredictionPane.place(relx = 0.5, rely = 0.2, relwidth = 0.5, relheight = 0.8)\n",
    "\n",
    "###First Prediction Pane\n",
    "firstPredLbl = tk.Label(firstPredictionPane)\n",
    "firstPredLbl.place(relx = 0, rely = 0, relwidth = 1, relheight = 0.6 )\n",
    "\n",
    "firstPredProb = tk.Label(firstPredictionPane)\n",
    "firstPredProb.place(relx = 0, rely = 0.6, relwidth = 1, relheight = 0.4 )\n",
    "\n",
    "###Second Prediction Pane\n",
    "fsecondPredLbl = tk.Label(secondPredictionPane)\n",
    "fsecondPredLbl.place(relx = 0, rely = 0, relwidth = 1, relheight = 0.6 )\n",
    "\n",
    "fsecondPredProb = tk.Label(secondPredictionPane)\n",
    "fsecondPredProb.place(relx = 0, rely = 0.6, relwidth = 1, relheight = 0.4 )\n",
    "\n",
    "root.mainloop()\n"
   ]
  },
  {
   "cell_type": "code",
   "execution_count": 22,
   "metadata": {},
   "outputs": [
    {
     "data": {
      "text/plain": [
       "(0.0, 9.0)"
      ]
     },
     "execution_count": 22,
     "metadata": {},
     "output_type": "execute_result"
    },
    {
     "data": {
      "image/png": "[encoded data removed]",
      "text/plain": [
       "<Figure size 720x576 with 2 Axes>"
      ]
     },
     "metadata": {
      "needs_background": "light"
     },
     "output_type": "display_data"
    }
   ],
   "source": [
    "import matplotlib.pyplot as plt\n",
    "#experimenting\n",
    "digit = 9\n",
    "image_name = str(digit)+\"_1.jpg\" \n",
    "label = np.array([digit]).reshape(1,1)\n",
    "\n",
    "fname = \"Sample Images/\" + image_name\n",
    "\n",
    "# def classify_image(fname):\n",
    "image_data = 255 - np.asarray(Image.open(fname).convert('L').resize((28,28)))\n",
    "image_flattened = image_data.reshape(image_data.shape[0]*image_data.shape[1],-1)\n",
    "image_norm =(image_flattened/255.)\n",
    "\n",
    "\n",
    "prediction = predict(image_norm,params,second_guess = True)\n",
    "\n",
    "\n",
    "# prediction  = classify_image(fname)\n",
    "first_lbl, first_prob = prediction[\"First Prediction\"]\n",
    "sec_lbl, sec_prob = prediction[\"Second Prediction\"]\n",
    "\n",
    "fig,ax = plt.subplots(nrows =1 , ncols =2 , figsize = (10,8))\n",
    "fig.subplots_adjust(hspace=0)\n",
    "\n",
    "ax[0].set_title(\"True Label: \"+ str(label.squeeze()))\n",
    "ax[0].set_xlabel(\"1st Prediction: %d | With Prob: %.4f \\n2nd Prediction: %d | With Prob: %.4f\"%(first_lbl, first_prob, sec_lbl, sec_prob))\n",
    "im = ax[0].imshow(image_data, interpolation ='nearest',cmap='binary')\n",
    "\n",
    "# fig.colorbar(im)\n",
    "ax[1].barh([first_lbl.squeeze(),sec_lbl.squeeze() ],[first_prob.squeeze(),sec_prob.squeeze()])\n",
    "ax[1].set_ylim(bottom = 0, top = 9)"
   ]
  },
  {
   "cell_type": "code",
   "execution_count": null,
   "metadata": {},
   "outputs": [],
   "source": []
  }
 ],
 "metadata": {
  "kernelspec": {
   "display_name": "Python 3",
   "language": "python",
   "name": "python3"
  },
  "language_info": {
   "codemirror_mode": {
    "name": "ipython",
    "version": 3
   },
   "file_extension": ".py",
   "mimetype": "text/x-python",
   "name": "python",
   "nbconvert_exporter": "python",
   "pygments_lexer": "ipython3",
   "version": "3.8.5"
  }
 },
 "nbformat": 4,
 "nbformat_minor": 4
}
