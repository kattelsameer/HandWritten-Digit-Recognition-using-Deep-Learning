{
 "cells": [
  {
   "cell_type": "markdown",
   "metadata": {},
   "source": [
    "# Data Preprocessing"
   ]
  },
  {
   "cell_type": "code",
   "execution_count": 1,
   "metadata": {},
   "outputs": [],
   "source": [
    "# Python Standard Libraries for importing data from binary file\n",
    "import os.path #for accessing the file path\n",
    "import struct  #for unpacking the binary data\n",
    "\n",
    "import time    #for calculating time\n",
    "\n",
    "#core packages\n",
    "import numpy as np\n",
    "import matplotlib.pyplot as plt"
   ]
  },
  {
   "cell_type": "markdown",
   "metadata": {},
   "source": [
    "## Loading data from binary file downloaded from LuCan's site"
   ]
  },
  {
   "cell_type": "code",
   "execution_count": 2,
   "metadata": {},
   "outputs": [],
   "source": [
    "#Original Code\n",
    "import os, struct\n",
    "from array import array as pyarray\n",
    "from numpy import append, array, int8, uint8, zeros\n",
    "import numpy as np\n",
    "\n",
    "def load_mnist(dataset=\"training\"):\n",
    "    \"\"\"\n",
    "    Loads MNIST files into 3D numpy arrays\n",
    "\n",
    "    Adapted from: http://abel.ee.ucla.edu/cvxopt/_downloads/mnist.py\n",
    "    \"\"\"\n",
    "    \n",
    "    digits = np.arange(10)\n",
    "    path = \"dataset/\"\n",
    "    size = 60000\n",
    "\n",
    "    if dataset == \"training\":\n",
    "        fname_img = os.path.join(path, 'train-images-idx3-ubyte')\n",
    "        fname_lbl = os.path.join(path, 'train-labels-idx1-ubyte')\n",
    "    elif dataset == \"testing\":\n",
    "        fname_img = os.path.join(path, 't10k-images-idx3-ubyte')\n",
    "        fname_lbl = os.path.join(path, 't10k-labels-idx1-ubyte')\n",
    "    else:\n",
    "        raise ValueError(\"dataset must be 'testing' or 'training'\")\n",
    "\n",
    "    flbl = open(fname_lbl, 'rb')\n",
    "    magic_nr, size = struct.unpack(\">II\", flbl.read(8))\n",
    "    lbl = pyarray(\"b\", flbl.read())\n",
    "    flbl.close()\n",
    "\n",
    "    fimg = open(fname_img, 'rb')\n",
    "    magic_nr, size, rows, cols = struct.unpack(\">IIII\", fimg.read(16))\n",
    "    img = pyarray(\"B\", fimg.read())\n",
    "    fimg.close()\n",
    "\n",
    "    ind = [ k for k in range(size) if lbl[k] in digits ]\n",
    "    N = len(ind)\n",
    "\n",
    "    images = zeros((N, rows, cols), dtype=uint8)\n",
    "    labels = zeros((N, 1), dtype=int8)\n",
    "    for i in range(len(ind)):\n",
    "        images[i] = array(img[ ind[i]*rows*cols : (ind[i]+1)*rows*cols ]).reshape((rows, cols))\n",
    "        labels[i] = lbl[ind[i]]\n",
    "\n",
    "    return images, labels.T"
   ]
  },
  {
   "cell_type": "code",
   "execution_count": 3,
   "metadata": {},
   "outputs": [
    {
     "name": "stdout",
     "output_type": "stream",
     "text": [
      "Time to load training and test set from binary file using numpy: 572.655439376831ms\n"
     ]
    }
   ],
   "source": [
    "toc = time.time()\n",
    "#loading the original data\n",
    "training_x_orig, training_y_orig = load_mnist(dataset=\"training\")\n",
    "testing_x_orig, testing_y_orig = load_mnist(dataset=\"testing\")\n",
    "\n",
    "tic = time.time()\n",
    "print(\"Time to load training and test set from binary file using numpy: \" + str(1000*(tic-toc)) + \"ms\")\n"
   ]
  },
  {
   "cell_type": "code",
   "execution_count": 4,
   "metadata": {},
   "outputs": [],
   "source": [
    "#modified Code\n",
    "def load_data(dataset=\"training\"):\n",
    "    \"\"\"\n",
    "        Retrive MNIST dataset from  the binary file into numpy arrays        \n",
    "        \n",
    "        Dataset Obtained From:\n",
    "            http://yann.lecun.com/exdb/mnist/\n",
    "        Dataset retrival code adapted from(but modified to our need making data retrival 6-8 times faster):\n",
    "            https://www.cs.virginia.edu/~connelly/class/2015/large_scale/proj2/mnist_python\n",
    "            \n",
    "        Argument:\n",
    "            dataset - type of dataset to be loaded. may be either 'training' or 'test'\n",
    "        Returns:\n",
    "            images - 3D array consisting of no. of examples, rows, columns of images\n",
    "            labels - array  containing labels for each images\n",
    "    \"\"\"\n",
    "    digits = np.arange(10)\n",
    "    path = \"dataset/\"\n",
    "    size = 60000\n",
    "    \n",
    "    #setting file path based on the dataset\n",
    "    if dataset == \"training\":\n",
    "        img_file_path = os.path.join(path, 'train-images-idx3-ubyte')\n",
    "        lbl_file_path = os.path.join(path, 'train-labels-idx1-ubyte')\n",
    "    elif dataset == \"testing\":\n",
    "        img_file_path = os.path.join(path, 't10k-images-idx3-ubyte')\n",
    "        lbl_file_path = os.path.join(path, 't10k-labels-idx1-ubyte')\n",
    "    else:\n",
    "        raise ValueError(\"Dataset must be 'testing' or 'training'\")\n",
    "    \n",
    "    #retriving the data\n",
    "    with open(lbl_file_path, 'rb') as flbl:\n",
    "        _, size = struct.unpack(\">II\", flbl.read(8))\n",
    "        labels = np.frombuffer(flbl.read(), dtype=np.int8).reshape(1,size)\n",
    "\n",
    "    with open(img_file_path, 'rb') as fimg:\n",
    "        _, _, rows, cols = struct.unpack(\">IIII\", fimg.read(16))\n",
    "        images = np.frombuffer(fimg.read(),dtype=np.uint8).reshape(size, rows, cols)\n",
    "\n",
    "    return images, labels"
   ]
  },
  {
   "cell_type": "code",
   "execution_count": 5,
   "metadata": {},
   "outputs": [
    {
     "name": "stdout",
     "output_type": "stream",
     "text": [
      "Time to load training and test set from binary file using numpy: 57.734012603759766ms\n"
     ]
    }
   ],
   "source": [
    "toc = time.time()\n",
    "#loading the original data\n",
    "training_x_orig, training_y_orig = load_data(dataset=\"training\")\n",
    "testing_x_orig, testing_y_orig = load_data(dataset=\"testing\")\n",
    "\n",
    "tic = time.time()\n",
    "print(\"Time to load training and test set from binary file using numpy: \" + str(1000*(tic-toc)) + \"ms\")\n"
   ]
  },
  {
   "cell_type": "markdown",
   "metadata": {},
   "source": [
    "### Confirming the shapes of the original data in the dataset"
   ]
  },
  {
   "cell_type": "code",
   "execution_count": 6,
   "metadata": {},
   "outputs": [
    {
     "name": "stdout",
     "output_type": "stream",
     "text": [
      "Data Types of the obtained data: \n",
      "==================================\n",
      "Training Set Input Type:  <class 'numpy.ndarray'>\n",
      "Training Set Output Type: <class 'numpy.ndarray'>\n",
      "Test Set Input Type:      <class 'numpy.ndarray'>\n",
      "Test Set Output Type:     <class 'numpy.ndarray'>\n",
      "\n",
      "Shape of the obtained data: \n",
      "==================================\n",
      "Training Set Input Shape:  (60000, 28, 28)\n",
      "Training Set Output Shape: (1, 60000)\n",
      "Test Set Input Shape:      (10000, 28, 28)\n",
      "Test Set Output Shape:     (1, 10000)\n"
     ]
    }
   ],
   "source": [
    "print(\"Data Types of the obtained data: \")\n",
    "print(\"==================================\")\n",
    "print(\"Training Set Input Type:  \" + str(type(training_x_orig)))\n",
    "print(\"Training Set Output Type: \" + str(type(training_y_orig)))\n",
    "print(\"Test Set Input Type:      \" + str(type(testing_x_orig)))\n",
    "print(\"Test Set Output Type:     \" + str(type(testing_y_orig)))\n",
    "\n",
    "print(\"\\nShape of the obtained data: \")\n",
    "print(\"==================================\")\n",
    "print(\"Training Set Input Shape:  \" + str(training_x_orig.shape))\n",
    "print(\"Training Set Output Shape: \" + str(training_y_orig.shape))\n",
    "print(\"Test Set Input Shape:      \" + str(testing_x_orig.shape))\n",
    "print(\"Test Set Output Shape:     \" + str(testing_y_orig.shape))\n"
   ]
  },
  {
   "cell_type": "markdown",
   "metadata": {},
   "source": [
    "### Visualizing Some of the sample digits from the test set with their label"
   ]
  },
  {
   "cell_type": "code",
   "execution_count": 9,
   "metadata": {},
   "outputs": [],
   "source": [
    "def visualize_orig_sample(x_orig, y_orig):\n",
    "    fig, axes = plt.subplots(nrows=2, ncols=5,figsize=(16,8))\n",
    "    fig.subplots_adjust(hspace=.2)\n",
    "    fig.suptitle(\"Sample Digits\")\n",
    "\n",
    "    for ax,i in zip(axes.flatten(),range(1040,1050)):\n",
    "        ax.imshow(x_orig[i].squeeze(),interpolation = \"nearest\")\n",
    "        ax.set(title = \"Label: \"+ str(y_orig[0,i]))\n",
    "        "
   ]
  },
  {
   "cell_type": "code",
   "execution_count": 10,
   "metadata": {},
   "outputs": [
    {
     "data": {
      "image/png": "[encoded data removed]",
      "text/plain": [
       "<Figure size 1152x576 with 10 Axes>"
      ]
     },
     "metadata": {
      "needs_background": "light"
     },
     "output_type": "display_data"
    }
   ],
   "source": [
    "visualize_orig_sample(testing_x_orig,testing_y_orig)"
   ]
  },
  {
   "cell_type": "code",
   "execution_count": null,
   "metadata": {},
   "outputs": [],
   "source": [
    "unique, counts = np.unique(testing_y_orig, return_counts=True)\n",
    "plt.bar(unique, counts)\n",
    "plt.xticks(unique)\n",
    "plt.xlabel(\"Label\")\n",
    "plt.ylabel(\"Quantity\")\n",
    "plt.title(\"Labels in MNIST 784 dataset\")"
   ]
  },
  {
   "cell_type": "markdown",
   "metadata": {},
   "source": [
    "## Dev/ Test split"
   ]
  },
  {
   "cell_type": "code",
   "execution_count": 7,
   "metadata": {},
   "outputs": [],
   "source": [
    "def dev_test_split(test_x,test_y):\n",
    "    m = test_y.shape[1]\n",
    "    #suffling the test dataset\n",
    "    randCol = np.random.permutation(m)\n",
    "    suffled_x = test_x[randCol,:,:]\n",
    "    suffled_y = test_y[:,randCol]\n",
    "    \n",
    "    #splitting into dev and test set\n",
    "    dev_x = suffled_x[0:5000,:,:]\n",
    "    dev_y = suffled_y[:,0:5000]\n",
    "    \n",
    "    test_x = suffled_x[5000:m,:,:]\n",
    "    test_y = suffled_y[:,5000:m]\n",
    "    \n",
    "    assert(dev_x.shape == (5000,28,28))\n",
    "    assert(dev_y.shape == (1,5000))\n",
    "    assert(test_x.shape == (5000,28,28))\n",
    "    assert(test_y.shape == (1,5000))\n",
    "    \n",
    "    return dev_x,dev_y,test_x,test_y"
   ]
  },
  {
   "cell_type": "code",
   "execution_count": 8,
   "metadata": {},
   "outputs": [
    {
     "name": "stdout",
     "output_type": "stream",
     "text": [
      "(10000, 28, 28)\n",
      "(1, 10000)\n",
      "(5000, 28, 28)\n",
      "(1, 5000)\n",
      "(5000, 28, 28)\n",
      "(1, 5000)\n"
     ]
    }
   ],
   "source": [
    "print(testing_x_orig.shape)\n",
    "print(testing_y_orig.shape)\n",
    "\n",
    "dev_x_orig,dev_y_orig,test_x_orig,test_y_orig = dev_test_split(testing_x_orig, testing_y_orig)\n",
    "print(dev_x_orig.shape)\n",
    "print(dev_y_orig.shape)\n",
    "print(test_x_orig.shape)\n",
    "print(test_y_orig.shape)"
   ]
  },
  {
   "cell_type": "code",
   "execution_count": null,
   "metadata": {},
   "outputs": [],
   "source": [
    "visualize_orig_sample(dev_x_orig,dev_y_orig)"
   ]
  },
  {
   "cell_type": "code",
   "execution_count": null,
   "metadata": {},
   "outputs": [],
   "source": [
    "visualize_orig_sample(test_x_orig,test_y_orig)"
   ]
  },
  {
   "cell_type": "markdown",
   "metadata": {},
   "source": [
    "## Preparing Input by flattenning/reshaping and normalizing the data"
   ]
  },
  {
   "cell_type": "code",
   "execution_count": 9,
   "metadata": {},
   "outputs": [],
   "source": [
    "def prepare_input(training_x_orig,testing_x_orig):\n",
    "    \"\"\"\n",
    "        Flattens the 3D numpy array of the data and normalizes the data in the range between 0 and 1\n",
    "        Arguement:\n",
    "            training_x_orig - image data loaded directly from training set file\n",
    "            testing_x_orig - image data loaded directly from test set file\n",
    "        Returns:\n",
    "            train_x -flattened and normalized training set input data\n",
    "            test_x - flattened and normalized test set input data\n",
    "            \n",
    "    \"\"\"\n",
    "    \n",
    "    train_x_flatten = training_x_orig.reshape(training_x_orig.shape[0], -1).T   # The \"-1\" makes reshape flatten the remaining dimensions\n",
    "    test_x_flatten = testing_x_orig.reshape(testing_x_orig.shape[0], -1).T\n",
    "\n",
    "    # Normalizing the data into the range between 0 and 1.\n",
    "    train_x_norm = train_x_flatten/255.\n",
    "    test_x_norm = test_x_flatten/255.\n",
    "    \n",
    "    assert(train_x_norm.shape == (784,60000) )\n",
    "    assert(test_x_norm.shape == (784,10000) )\n",
    "    \n",
    "    return train_x_norm,test_x_norm\n",
    "\n",
    "\n"
   ]
  },
  {
   "cell_type": "code",
   "execution_count": 10,
   "metadata": {},
   "outputs": [
    {
     "name": "stdout",
     "output_type": "stream",
     "text": [
      "Shape of Input Training set: (784, 60000)\n",
      "Shape of Input Test set:     (784, 10000)\n"
     ]
    }
   ],
   "source": [
    "train_x_norm,test_x_norm = prepare_input(training_x_orig,testing_x_orig)\n",
    "print (\"Shape of Input Training set: \" + str(train_x_norm.shape))\n",
    "print (\"Shape of Input Test set:     \" + str(test_x_norm.shape))"
   ]
  },
  {
   "cell_type": "markdown",
   "metadata": {},
   "source": [
    "## Preparing output by transforming the labels into one-hot representation"
   ]
  },
  {
   "cell_type": "code",
   "execution_count": 11,
   "metadata": {},
   "outputs": [],
   "source": [
    "#encoding method 1..... \n",
    "def one_hot_encoding(raw_y):\n",
    "   \n",
    "    classes = np.arange(10).reshape(1,10)\n",
    "\n",
    "    encoded_y = np.array(classes == raw_y[0,0]).astype(int)\n",
    "    for i in range(1,raw_y.shape[1]):\n",
    "        temp = np.array(classes == raw_y[0,i]).astype(int) \n",
    "        encoded_y = np.concatenate((encoded_y,temp),axis=0)\n",
    "    \n",
    "    assert(encoded_y.T.shape == (10,raw_y.shape[1]))\n",
    "    \n",
    "    return encoded_y.T"
   ]
  },
  {
   "cell_type": "code",
   "execution_count": 12,
   "metadata": {},
   "outputs": [
    {
     "name": "stdout",
     "output_type": "stream",
     "text": [
      "Shape of Output Training set: (10, 60000)\n",
      "Shape of Output Test set:     (10, 10000)\n",
      "Time to encode: 10393.406391143799 ms\n"
     ]
    }
   ],
   "source": [
    "toc = time.time()\n",
    "atrain_y = one_hot_encoding(training_y_orig)\n",
    "atest_y = one_hot_encoding(testing_y_orig)\n",
    "tic = time.time()\n",
    "print (\"Shape of Output Training set: \" + str(atrain_y.shape))\n",
    "print (\"Shape of Output Test set:     \" + str(atest_y.shape))\n",
    "print(\"Time to encode: \" + str(1000*(tic-toc)) + \" ms\")"
   ]
  },
  {
   "cell_type": "code",
   "execution_count": 74,
   "metadata": {},
   "outputs": [
    {
     "name": "stdout",
     "output_type": "stream",
     "text": [
      "[[0 1 0 0 0 0 0 0 0 0]\n",
      " [0 0 0 1 0 0 1 0 1 0]\n",
      " [0 0 0 0 0 1 0 0 0 0]\n",
      " [0 0 0 0 0 0 0 1 0 0]\n",
      " [0 0 1 0 0 0 0 0 0 1]\n",
      " [1 0 0 0 0 0 0 0 0 0]\n",
      " [0 0 0 0 0 0 0 0 0 0]\n",
      " [0 0 0 0 0 0 0 0 0 0]\n",
      " [0 0 0 0 0 0 0 0 0 0]\n",
      " [0 0 0 0 1 0 0 0 0 0]] [5 0 4 1 9 2 1 3 1 4]\n",
      "<class 'numpy.int64'>\n",
      "[[0 0 0 1 0 0 0 0 0 0]\n",
      " [0 0 1 0 0 1 0 0 0 0]\n",
      " [0 1 0 0 0 0 0 0 0 0]\n",
      " [0 0 0 0 0 0 0 0 0 0]\n",
      " [0 0 0 0 1 0 1 0 0 0]\n",
      " [0 0 0 0 0 0 0 0 1 0]\n",
      " [0 0 0 0 0 0 0 0 0 0]\n",
      " [1 0 0 0 0 0 0 0 0 0]\n",
      " [0 0 0 0 0 0 0 0 0 0]\n",
      " [0 0 0 0 0 0 0 1 0 1]] [7 2 1 0 4 1 4 9 5 9]\n",
      "<class 'numpy.int64'>\n"
     ]
    }
   ],
   "source": [
    "print(atrain_y[:,0:10],training_y_orig[0,0:10])\n",
    "print(type(atrain_y[0,0]))\n",
    "print(atest_y[:,0:10],testing_y_orig[0,0:10])\n",
    "print(type(atest_y[0,0]))"
   ]
  },
  {
   "cell_type": "markdown",
   "metadata": {},
   "source": [
    "this method seems to be taking a lot of time lets do something faster"
   ]
  },
  {
   "cell_type": "code",
   "execution_count": 13,
   "metadata": {},
   "outputs": [],
   "source": [
    "#encoding method 2....\n",
    "def one_hot_encoding_two(raw_y,no_of_classes = 10):\n",
    "    \n",
    "    classes = np.arange(no_of_classes + 1).reshape(no_of_classes+1,1)\n",
    "    #the extra bit is to classify non digit images if encountered\n",
    "    \n",
    "    temp = np.zeros((classes.shape[0],raw_y.shape[1]))\n",
    "    y_out = temp + classes\n",
    "    \n",
    "    for i in range(raw_y.shape[1]):\n",
    "        y_out[:,i] = np.equal(y_out[:,i],raw_y[0,i])\n",
    "\n",
    "    assert(y_out.shape == (classes.shape[0],raw_y.shape[1]))\n",
    "    return y_out.astype(int)"
   ]
  },
  {
   "cell_type": "code",
   "execution_count": 14,
   "metadata": {},
   "outputs": [
    {
     "name": "stdout",
     "output_type": "stream",
     "text": [
      "Shape of Output Training set: (11, 60000)\n",
      "Shape of Output Test set:     (11, 10000)\n",
      "Time to encode: 168.36857795715332 ms\n"
     ]
    }
   ],
   "source": [
    "toc = time.time()\n",
    "##encoding the output of the training and the test dataset\n",
    "train_y_onehot = one_hot_encoding_two(training_y_orig)\n",
    "test_y_onehot = one_hot_encoding_two(testing_y_orig)\n",
    "\n",
    "tic = time.time()\n",
    "\n",
    "print (\"Shape of Output Training set: \" + str(train_y_onehot.shape))\n",
    "print (\"Shape of Output Test set:     \" + str(test_y_onehot.shape))\n",
    "print(\"Time to encode: \" + str(1000*(tic-toc)) + \" ms\")\n"
   ]
  },
  {
   "cell_type": "code",
   "execution_count": 15,
   "metadata": {},
   "outputs": [],
   "source": [
    "#encoding method 3....\n",
    "def one_hot_encoding_three(raw_y,no_of_classes = 10):\n",
    "   \n",
    "    #the extra bit is to classify non digit images if encountered\n",
    "    \n",
    "    y_encoded = np.zeros((no_of_classes + 1,raw_y.shape[1]))\n",
    "\n",
    "    for index,val in enumerate(raw_y[0]):\n",
    "        y_encoded[val,index] = 1\n",
    "\n",
    "    assert(y_encoded.shape == (no_of_classes + 1,raw_y.shape[1]))\n",
    "    return y_encoded"
   ]
  },
  {
   "cell_type": "code",
   "execution_count": 16,
   "metadata": {},
   "outputs": [
    {
     "name": "stdout",
     "output_type": "stream",
     "text": [
      "Shape of Output Training set: (11, 60000)\n",
      "Shape of Output Test set:     (11, 10000)\n",
      "Time to encode: 31.055688858032227 ms\n"
     ]
    }
   ],
   "source": [
    "toc = time.time()\n",
    "##encoding the output of the training and the test dataset\n",
    "train_y_encoded = one_hot_encoding_three(training_y_orig)\n",
    "test_y_encoded = one_hot_encoding_three(testing_y_orig)\n",
    "\n",
    "tic = time.time()\n",
    "\n",
    "print (\"Shape of Output Training set: \" + str(train_y_encoded.shape))\n",
    "print (\"Shape of Output Test set:     \" + str(test_y_encoded.shape))\n",
    "print(\"Time to encode: \" + str(1000*(tic-toc)) + \" ms\")\n"
   ]
  },
  {
   "cell_type": "code",
   "execution_count": 79,
   "metadata": {},
   "outputs": [
    {
     "name": "stdout",
     "output_type": "stream",
     "text": [
      "[[0. 1. 0. 0. 0. 0. 0. 0. 0. 0.]\n",
      " [0. 0. 0. 1. 0. 0. 1. 0. 1. 0.]\n",
      " [0. 0. 0. 0. 0. 1. 0. 0. 0. 0.]\n",
      " [0. 0. 0. 0. 0. 0. 0. 1. 0. 0.]\n",
      " [0. 0. 1. 0. 0. 0. 0. 0. 0. 1.]\n",
      " [1. 0. 0. 0. 0. 0. 0. 0. 0. 0.]\n",
      " [0. 0. 0. 0. 0. 0. 0. 0. 0. 0.]\n",
      " [0. 0. 0. 0. 0. 0. 0. 0. 0. 0.]\n",
      " [0. 0. 0. 0. 0. 0. 0. 0. 0. 0.]\n",
      " [0. 0. 0. 0. 1. 0. 0. 0. 0. 0.]\n",
      " [0. 0. 0. 0. 0. 0. 0. 0. 0. 0.]] [5 0 4 1 9 2 1 3 1 4]\n",
      "<class 'numpy.float64'>\n",
      "[[0. 0. 0. 1. 0. 0. 0. 0. 0. 0.]\n",
      " [0. 0. 1. 0. 0. 1. 0. 0. 0. 0.]\n",
      " [0. 1. 0. 0. 0. 0. 0. 0. 0. 0.]\n",
      " [0. 0. 0. 0. 0. 0. 0. 0. 0. 0.]\n",
      " [0. 0. 0. 0. 1. 0. 1. 0. 0. 0.]\n",
      " [0. 0. 0. 0. 0. 0. 0. 0. 1. 0.]\n",
      " [0. 0. 0. 0. 0. 0. 0. 0. 0. 0.]\n",
      " [1. 0. 0. 0. 0. 0. 0. 0. 0. 0.]\n",
      " [0. 0. 0. 0. 0. 0. 0. 0. 0. 0.]\n",
      " [0. 0. 0. 0. 0. 0. 0. 1. 0. 1.]\n",
      " [0. 0. 0. 0. 0. 0. 0. 0. 0. 0.]] [7 2 1 0 4 1 4 9 5 9]\n",
      "<class 'numpy.float64'>\n"
     ]
    }
   ],
   "source": [
    "print(train_y_encoded[:,0:10],training_y_orig[0,0:10])\n",
    "print(type(train_y_encoded[0,0]))\n",
    "print(test_y_encoded[:,0:10],testing_y_orig[0,0:10])\n",
    "print(type(test_y_encoded[0,0]))"
   ]
  },
  {
   "cell_type": "markdown",
   "metadata": {},
   "source": [
    "The time taken by this method seems best among three methods I have tried"
   ]
  },
  {
   "cell_type": "code",
   "execution_count": 17,
   "metadata": {},
   "outputs": [],
   "source": [
    "#encoding method 4....\n",
    "def one_hot_encoding_four(raw_y,no_of_classes = 10):\n",
    "   \n",
    "    #the extra bit is to classify non digit images if encountered\n",
    "    y_encoded = np.zeros((no_of_classes + 1,raw_y.shape[1]))\n",
    "    y_encoded[raw_y,np.arange(raw_y.shape[1])] = 1\n",
    "\n",
    "    assert(y_encoded.shape == (no_of_classes + 1,raw_y.shape[1]))\n",
    "    return y_encoded"
   ]
  },
  {
   "cell_type": "code",
   "execution_count": 18,
   "metadata": {},
   "outputs": [
    {
     "name": "stdout",
     "output_type": "stream",
     "text": [
      "Shape of Output Training set: (11, 60000)\n",
      "Shape of Output Test set:     (11, 10000)\n",
      "Time to encode: 8.229732513427734 ms\n"
     ]
    }
   ],
   "source": [
    "toc = time.time()\n",
    "##encoding the output of the training and the test dataset\n",
    "train_y_en = one_hot_encoding_four(training_y_orig)\n",
    "test_y_en = one_hot_encoding_four(testing_y_orig)\n",
    "\n",
    "tic = time.time()\n",
    "\n",
    "print (\"Shape of Output Training set: \" + str(train_y_en.shape))\n",
    "print (\"Shape of Output Test set:     \" + str(test_y_en.shape))\n",
    "print(\"Time to encode: \" + str(1000*(tic-toc)) + \" ms\")\n"
   ]
  },
  {
   "cell_type": "code",
   "execution_count": 82,
   "metadata": {},
   "outputs": [
    {
     "name": "stdout",
     "output_type": "stream",
     "text": [
      "[[0. 1. 0. 0. 0. 0. 0. 0. 0. 0.]\n",
      " [0. 0. 0. 1. 0. 0. 1. 0. 1. 0.]\n",
      " [0. 0. 0. 0. 0. 1. 0. 0. 0. 0.]\n",
      " [0. 0. 0. 0. 0. 0. 0. 1. 0. 0.]\n",
      " [0. 0. 1. 0. 0. 0. 0. 0. 0. 1.]\n",
      " [1. 0. 0. 0. 0. 0. 0. 0. 0. 0.]\n",
      " [0. 0. 0. 0. 0. 0. 0. 0. 0. 0.]\n",
      " [0. 0. 0. 0. 0. 0. 0. 0. 0. 0.]\n",
      " [0. 0. 0. 0. 0. 0. 0. 0. 0. 0.]\n",
      " [0. 0. 0. 0. 1. 0. 0. 0. 0. 0.]\n",
      " [0. 0. 0. 0. 0. 0. 0. 0. 0. 0.]] [5 0 4 1 9 2 1 3 1 4]\n",
      "<class 'numpy.float64'>\n",
      "[[0. 0. 0. 1. 0. 0. 0. 0. 0. 0.]\n",
      " [0. 0. 1. 0. 0. 1. 0. 0. 0. 0.]\n",
      " [0. 1. 0. 0. 0. 0. 0. 0. 0. 0.]\n",
      " [0. 0. 0. 0. 0. 0. 0. 0. 0. 0.]\n",
      " [0. 0. 0. 0. 1. 0. 1. 0. 0. 0.]\n",
      " [0. 0. 0. 0. 0. 0. 0. 0. 1. 0.]\n",
      " [0. 0. 0. 0. 0. 0. 0. 0. 0. 0.]\n",
      " [1. 0. 0. 0. 0. 0. 0. 0. 0. 0.]\n",
      " [0. 0. 0. 0. 0. 0. 0. 0. 0. 0.]\n",
      " [0. 0. 0. 0. 0. 0. 0. 1. 0. 1.]\n",
      " [0. 0. 0. 0. 0. 0. 0. 0. 0. 0.]] [7 2 1 0 4 1 4 9 5 9]\n",
      "<class 'numpy.float64'>\n"
     ]
    }
   ],
   "source": [
    "print(train_y_en[:,0:10],training_y_orig[0,0:10])\n",
    "print(type(train_y_en[0,0]))\n",
    "print(test_y_en[:,0:10],testing_y_orig[0,0:10])\n",
    "print(type(test_y_en[0,0]))"
   ]
  },
  {
   "cell_type": "code",
   "execution_count": 19,
   "metadata": {},
   "outputs": [],
   "source": [
    "#encoding method 5....\n",
    "def one_hot_encoding_five(y_orig,no_of_classes = 10):\n",
    "    \n",
    "    #the extra bit is to classify non digit images if encountered\n",
    "    y_encoded = np.eye(no_of_classes+1)[y_orig.reshape(-1)].T\n",
    "\n",
    "    assert(y_encoded.shape == (no_of_classes + 1,y_orig.shape[1]))\n",
    "    return y_encoded"
   ]
  },
  {
   "cell_type": "code",
   "execution_count": 20,
   "metadata": {},
   "outputs": [
    {
     "name": "stdout",
     "output_type": "stream",
     "text": [
      "Shape of Output Training set: (11, 60000)\n",
      "Shape of Output Test set:     (11, 10000)\n",
      "Time to encode: 2.943754196166992 ms\n"
     ]
    }
   ],
   "source": [
    "toc = time.time()\n",
    "##encoding the output of the training and the test dataset\n",
    "train_y_encoded = one_hot_encoding_five(training_y_orig)\n",
    "test_y_encoded = one_hot_encoding_five(testing_y_orig)\n",
    "\n",
    "tic = time.time()\n",
    "\n",
    "print (\"Shape of Output Training set: \" + str(train_y_encoded.shape))\n",
    "print (\"Shape of Output Test set:     \" + str(test_y_encoded.shape))\n",
    "print(\"Time to encode: \" + str(1000*(tic-toc)) + \" ms\")\n"
   ]
  },
  {
   "cell_type": "markdown",
   "metadata": {},
   "source": [
    "#### Validating the encoding"
   ]
  },
  {
   "cell_type": "code",
   "execution_count": null,
   "metadata": {},
   "outputs": [],
   "source": [
    "print(train_y_onehot[:,50000:50010],training_y_orig[0,50000:50010])\n",
    "print(type(train_y_onehot[0,0]))\n",
    "print(test_y_onehot[:,0:10],testing_y_orig[0,0:10])\n",
    "print(type(test_y_onehot[0,0]))"
   ]
  },
  {
   "cell_type": "markdown",
   "metadata": {},
   "source": [
    "### Dev - Test set split"
   ]
  },
  {
   "cell_type": "code",
   "execution_count": 27,
   "metadata": {},
   "outputs": [
    {
     "name": "stdout",
     "output_type": "stream",
     "text": [
      "\n",
      "Shape of the Final data: \n",
      "==================================\n",
      "Training Set Input Shape:   Processed(784, 60000), Original(60000, 28, 28)\n",
      "Training Set Output Shape:  Processed(11, 60000) , Original(1, 60000)\n",
      "Dev Set Input Shape:        Processed(784, 5000) , Original(5000, 28, 28)\n",
      "Dev Set Output Shape:       Processed(11, 5000)  , Original(1, 5000)\n",
      "Test Set Input Shape:       Processed(784, 5000) , Original(5000, 28, 28)\n",
      "Test Set Output Shape:      Processed(11, 5000)  , Original(1, 5000)\n"
     ]
    }
   ],
   "source": [
    "train_x = train_x_norm\n",
    "train_y = train_y_en\n",
    "train_x_orig = training_x_orig\n",
    "train_y_orig = training_y_orig\n",
    "\n",
    "# def test_dev_split():\n",
    "\"\"\"\n",
    "    while splitting the dev-test, the splitting should not be done consucitively as done below \n",
    "    but should be done in random so that the data belonging to all classes fall in both the sets \n",
    "    with equal probability. \n",
    "    \n",
    "    I, however, have splitted in this way because the data obtained from the binary file seems \n",
    "    to me in random distribution as while I observed them in the visualization above.\n",
    "    \n",
    "    incase the data is loaded from image in the folder arranged in class basis random selection should be done\n",
    "\"\"\"\n",
    "\n",
    "\n",
    "#original dev set data\n",
    "dev_x_orig = testing_x_orig[0:5000, :, :] #original data is 3d ndarray\n",
    "dev_y_orig = testing_y_orig[:, 0:5000]\n",
    "#processed devset data\n",
    "dev_x = test_x_norm[:, 0:5000]\n",
    "dev_y = test_y_en[:, 0:5000]\n",
    "\n",
    "#original test set data \n",
    "test_x_orig = testing_x_orig[5000:10000, :, :] #original data is 3d ndarray\n",
    "test_y_orig = testing_y_orig[:, 5000:10000]\n",
    "#processed test set data\n",
    "test_x = test_x_norm[:, 5000:10000]\n",
    "test_y = test_y_en[:, 5000:10000]\n",
    "\n",
    "print(\"\\nShape of the Final data: \")\n",
    "print(\"==================================\")\n",
    "print(\"Training Set Input Shape:  \",\"Processed\"+ str(train_x.shape) + \", Original\"+str(train_x_orig.shape))\n",
    "print(\"Training Set Output Shape: \",\"Processed\" + str(train_y.shape) + \" , Original\"+str(train_y_orig.shape))\n",
    "print(\"Dev Set Input Shape:       \",\"Processed\" + str(dev_x.shape) + \" , Original\"+str(dev_x_orig.shape))\n",
    "print(\"Dev Set Output Shape:      \",\"Processed\" + str(dev_y.shape) + \"  , Original\"+str(dev_y_orig.shape))\n",
    "print(\"Test Set Input Shape:      \",\"Processed\" + str(test_x.shape) + \" , Original\"+str(test_x_orig.shape))\n",
    "print(\"Test Set Output Shape:     \",\"Processed\" + str(test_y.shape) + \"  , Original\"+str(test_y_orig.shape))\n"
   ]
  },
  {
   "cell_type": "code",
   "execution_count": 30,
   "metadata": {},
   "outputs": [],
   "source": [
    "def visualize_processed_sample(x_orig, y_orig, y_onehot, encoding = False, dataset = \"training\"):\n",
    "    print(x_orig.shape,y_orig.shape)\n",
    "    if(dataset == \"training\"):\n",
    "        visual_title = \"Sample Training Data Set\"\n",
    "        rng = range(11040,11050)\n",
    "    elif(dataset == \"dev\"):\n",
    "        visual_title = \"Sample Dev Data Set\"\n",
    "        rng = range(100,110)\n",
    "    elif(dataset == \"test\"):\n",
    "        visual_title = \"Sample Test Data Set\"\n",
    "        rng = range(1040,1050)        \n",
    "    else:\n",
    "        raise ValueError(\"Dataset set must be training or dev or test set\")\n",
    "    fig, axes = plt.subplots(nrows=2, ncols=5,figsize=(16,8))\n",
    "    fig.subplots_adjust(hspace=.1)\n",
    "    fig.suptitle(visual_title)\n",
    "\n",
    "    for ax,i in zip(axes.flatten(),rng):\n",
    "        ax.imshow(x_orig[i].squeeze())\n",
    "        ax.set(title = \"Label: \"+ str(y_orig[0,i]))\n",
    "        if(encoding == True):\n",
    "            ax.set(xlabel= \"Encoding: \"+ str(y_onehot[:,i]) )\n",
    "    "
   ]
  },
  {
   "cell_type": "code",
   "execution_count": 31,
   "metadata": {},
   "outputs": [
    {
     "name": "stdout",
     "output_type": "stream",
     "text": [
      "(60000, 28, 28) (1, 60000)\n"
     ]
    },
    {
     "data": {
      "image/png": "[encoded data removed]",
      "text/plain": [
       "<Figure size 1152x576 with 10 Axes>"
      ]
     },
     "metadata": {
      "needs_background": "light"
     },
     "output_type": "display_data"
    }
   ],
   "source": [
    "visualize_processed_sample(train_x_orig, train_y_orig, train_y, encoding = True, dataset = \"training\")"
   ]
  },
  {
   "cell_type": "code",
   "execution_count": null,
   "metadata": {},
   "outputs": [],
   "source": [
    "visualize_processed_sample(dev_x_orig, dev_y_orig, dev_y, encoding = True, dataset = \"dev\")"
   ]
  },
  {
   "cell_type": "code",
   "execution_count": null,
   "metadata": {},
   "outputs": [],
   "source": [
    "visualize_processed_sample(test_x_orig, test_y_orig, test_y, encoding = True, dataset=\"test\")"
   ]
  },
  {
   "cell_type": "markdown",
   "metadata": {},
   "source": [
    "\n",
    "### Final Data forms\n",
    "\n",
    "**Raw data:** <br>train_x_orig, train_y_orig<br>dev_x_orig, dev_y_orig <br> test_x_orig, test_y_orig <br><br>\n",
    "**Processed data:**<br> train_x , train_y <br>  dev_x, dev_y <br>  test_x, test_y\n"
   ]
  }
 ],
 "metadata": {
  "kernelspec": {
   "display_name": "Python 3",
   "language": "python",
   "name": "python3"
  },
  "language_info": {
   "codemirror_mode": {
    "name": "ipython",
    "version": 3
   },
   "file_extension": ".py",
   "mimetype": "text/x-python",
   "name": "python",
   "nbconvert_exporter": "python",
   "pygments_lexer": "ipython3",
   "version": "3.7.6"
  }
 },
 "nbformat": 4,
 "nbformat_minor": 4
}
