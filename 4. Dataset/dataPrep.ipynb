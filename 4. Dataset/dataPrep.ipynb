{
 "cells": [
  {
   "cell_type": "markdown",
   "metadata": {},
   "source": [
    "# Loading Dataset"
   ]
  },
  {
   "cell_type": "code",
   "execution_count": 44,
   "metadata": {},
   "outputs": [],
   "source": [
    "# Python Standard Libraries for importing data from binary file\n",
    "import os.path #for accessing the file path\n",
    "import struct  #for unpacking the binary data\n",
    "\n",
    "import time    #for calculating time\n",
    "\n",
    "#core packages\n",
    "import numpy as np\n",
    "import matplotlib.pyplot as plt\n"
   ]
  },
  {
   "cell_type": "markdown",
   "metadata": {},
   "source": [
    "## Retriving data from binary file"
   ]
  },
  {
   "cell_type": "code",
   "execution_count": 51,
   "metadata": {},
   "outputs": [],
   "source": [
    "def retrive_data(dataset=\"training-set\"):\n",
    "    \"\"\"\n",
    "        Retrive MNIST dataset from  the binary file into numpy arrays        \n",
    "        \n",
    "        Dataset Obtained From:\n",
    "            http://yann.lecun.com/exdb/mnist/\n",
    "        Dataset retrival code adapted from(but modified to our need making data retrival 6-8 times faster):\n",
    "            https://www.cs.virginia.edu/~connelly/class/2015/large_scale/proj2/mnist_python\n",
    "            \n",
    "        Argument:\n",
    "            dataset - type of dataset to be loaded. may be either 'training' or 'test'\n",
    "        Returns:\n",
    "            images - 3D array consisting of no. of examples, rows, columns of images\n",
    "            labels - array  containing labels for each images\n",
    "    \"\"\"\n",
    "   # digits = np.arange(10)\n",
    "    path = \"dataset/\"\n",
    "    size = 60000\n",
    "    \n",
    "    #setting file path based on the dataset\n",
    "    if dataset == \"training-set\":\n",
    "        img_file_path = os.path.join(path, 'train-images-idx3-ubyte')\n",
    "        lbl_file_path = os.path.join(path, 'train-labels-idx1-ubyte')\n",
    "    elif dataset == \"test-set\":\n",
    "        img_file_path = os.path.join(path, 't10k-images-idx3-ubyte')\n",
    "        lbl_file_path = os.path.join(path, 't10k-labels-idx1-ubyte')\n",
    "    else:\n",
    "        raise ValueError(\"Dataset must be 'training-set' or 'test-set'\")\n",
    "    \n",
    "    #retriving the data\n",
    "    with open(lbl_file_path, 'rb') as flbl:\n",
    "        _, size = struct.unpack(\">II\", flbl.read(8))\n",
    "        labels = np.frombuffer(flbl.read(), dtype=np.int8).reshape(size,1)\n",
    "\n",
    "    with open(img_file_path, 'rb') as fimg:\n",
    "        _, _, rows, cols = struct.unpack(\">IIII\", fimg.read(16))\n",
    "        images = np.frombuffer(fimg.read(),dtype=np.uint8).reshape(size, rows, cols)\n",
    "        \n",
    "    assert(images.shape == (size, rows, cols))\n",
    "    assert(labels.shape == (size,1))\n",
    "    \n",
    "    return images, labels"
   ]
  },
  {
   "cell_type": "code",
   "execution_count": 52,
   "metadata": {},
   "outputs": [
    {
     "name": "stdout",
     "output_type": "stream",
     "text": [
      "Time to load data from binary file using numpy: 50.96268653869629ms\n",
      "\n",
      "Data\t\t\t Datatype\t\t Shape\n",
      "=================================================================\n",
      "Training Set Images:\t<class 'numpy.ndarray'>\t (60000, 28, 28)\n",
      "Training Set Labels:\t<class 'numpy.ndarray'>\t (60000, 1)\n",
      "Test Set Images:\t<class 'numpy.ndarray'>\t (10000, 28, 28)\n",
      "Test Set Labels:\t<class 'numpy.ndarray'>\t (10000, 1)\n",
      "=================================================================\n"
     ]
    }
   ],
   "source": [
    "toc = time.time()\n",
    "\n",
    "#retriving the data\n",
    "train_x_orig, train_y_orig = retrive_data(dataset=\"training-set\")\n",
    "test_x_temp, test_y_temp = retrive_data(dataset=\"test-set\")\n",
    "\n",
    "tic = time.time()\n",
    "#displaying the retrival info\n",
    "print(\"Time to load data from binary file using numpy: \" + str(1000*(tic-toc)) + \"ms\\n\")\n",
    "print(\"Data\\t\\t\\t\",\"Datatype\\t\\t\",\"Shape\")\n",
    "print(\"=================================================================\")\n",
    "print(\"Training Set Images:\\t\" + str(type(train_x_orig))+\"\\t\",str(train_x_orig.shape))\n",
    "print(\"Training Set Labels:\\t\" + str(type(train_y_orig))+\"\\t\",str(train_y_orig.shape))\n",
    "print(\"Test Set Images:\\t\" + str(type(test_x_temp))+\"\\t\",str(test_x_temp.shape))\n",
    "print(\"Test Set Labels:\\t\" + str(type(test_y_temp))+\"\\t\",str(test_y_temp.shape))\n",
    "print(\"=================================================================\")\n"
   ]
  },
  {
   "cell_type": "markdown",
   "metadata": {},
   "source": [
    "## Dev-Test split"
   ]
  },
  {
   "cell_type": "code",
   "execution_count": 60,
   "metadata": {},
   "outputs": [],
   "source": [
    "def dev_test_split(test_x,test_y):\n",
    "    \"\"\"\n",
    "        Randomly splits the test set to dev and test set\n",
    "        \n",
    "        Arguments:\n",
    "            test_x - test set images of size (10000,28,28)\n",
    "            test_y - test set labels of size (10000,1)\n",
    "        \n",
    "        Returns:\n",
    "            dev_x  - dev set images of size (5000,28,28)\n",
    "            dev_y  - dev set labels of size (5000,1)\n",
    "            test_x - test set images of size (5000,28,28)\n",
    "            test_y - test set labels of size (5000,1)\n",
    "    \"\"\"\n",
    "    m = test_y.shape[0]\n",
    "    n = m // 2\n",
    "    #suffling the test dataset\n",
    "    randCol = np.random.permutation(m)\n",
    "    suffled_x = test_x[randCol,:,:]\n",
    "    suffled_y = test_y[randCol,:]\n",
    "    \n",
    "    #splitting into dev and test set\n",
    "    dev_x = suffled_x[0:n,:,:]\n",
    "    dev_y = suffled_y[0:n,:]\n",
    "    \n",
    "    test_x = suffled_x[n:m,:,:]\n",
    "    test_y = suffled_y[n:m,:]\n",
    "    \n",
    "    assert(dev_x.shape == (n,28,28))\n",
    "    assert(dev_y.shape == (n,1))\n",
    "    assert(test_x.shape == (n,28,28))\n",
    "    assert(test_y.shape == (n,1))\n",
    "    \n",
    "    return dev_x,dev_y,test_x,test_y"
   ]
  },
  {
   "cell_type": "code",
   "execution_count": 61,
   "metadata": {},
   "outputs": [
    {
     "name": "stdout",
     "output_type": "stream",
     "text": [
      "Data\t\t\t Datatype\t\t Shape\n",
      "=================================================================\n",
      "Dev Set Images:\t\t<class 'numpy.ndarray'>\t (5000, 28, 28)\n",
      "Dev Set Labels:\t\t<class 'numpy.ndarray'>\t (5000, 1)\n",
      "Test Set Images:\t<class 'numpy.ndarray'>\t (5000, 28, 28)\n",
      "Test Set Labels:\t<class 'numpy.ndarray'>\t (5000, 1)\n",
      "=================================================================\n"
     ]
    }
   ],
   "source": [
    "dev_x_orig,dev_y_orig,test_x_orig,test_y_orig = dev_test_split(test_x_temp, test_y_temp)\n",
    "\n",
    "print(\"Data\\t\\t\\t\",\"Datatype\\t\\t\",\"Shape\")\n",
    "print(\"=================================================================\")\n",
    "print(\"Dev Set Images:\\t\\t\" + str(type(dev_x_orig))+\"\\t\",str(dev_x_orig.shape))\n",
    "print(\"Dev Set Labels:\\t\\t\" + str(type(dev_y_orig))+\"\\t\",str(dev_y_orig.shape))\n",
    "print(\"Test Set Images:\\t\" + str(type(test_x_orig))+\"\\t\",str(test_x_orig.shape))\n",
    "print(\"Test Set Labels:\\t\" + str(type(test_y_orig))+\"\\t\",str(test_y_orig.shape))\n",
    "print(\"=================================================================\")\n"
   ]
  },
  {
   "cell_type": "markdown",
   "metadata": {},
   "source": [
    "## Load dataset"
   ]
  },
  {
   "cell_type": "code",
   "execution_count": 49,
   "metadata": {},
   "outputs": [],
   "source": [
    "def load_dataset():\n",
    "    \"\"\"\n",
    "        Retrive the dataset from file into training, dev and test sets.\n",
    "        \n",
    "        Returns: \n",
    "        train_x_orig -  training set images consisting of no. of examples, rows, columns of images, \n",
    "                        size(60000,28,28)\n",
    "        train_y_orig -  training set output consisting of image labels, size(60000,1)\n",
    "        dev_x_orig  - dev set images of size (5000,28,28)\n",
    "        dev_y_orig  - dev set labels of size (5000,1)\n",
    "        test_x_orig - test set images of size (5000,28,28)\n",
    "        test_y_orig - test set labels of size (5000,1)\n",
    "        \n",
    "    \"\"\"\n",
    "    #retriving data\n",
    "    train_x_orig, train_y_orig = retrive_data(dataset=\"training-set\")\n",
    "    test_x_temp, test_y_temp = retrive_data(dataset=\"test-set\")\n",
    "    \n",
    "    #Spliting the test set into dev and test set\n",
    "    dev_x_orig,dev_y_orig,test_x_orig,test_y_orig = dev_test_split(test_x_temp, test_y_temp)\n",
    "    \n",
    "    return train_x_orig, train_y_orig, dev_x_orig,dev_y_orig,test_x_orig,test_y_orig"
   ]
  },
  {
   "cell_type": "markdown",
   "metadata": {},
   "source": [
    "## Visualizing and Validating Raw datasets"
   ]
  },
  {
   "cell_type": "code",
   "execution_count": 50,
   "metadata": {},
   "outputs": [
    {
     "name": "stdout",
     "output_type": "stream",
     "text": [
      "Data\t\t\t Datatype\t\t Shape\n",
      "=================================================================\n",
      "Training Set Images:\t<class 'numpy.ndarray'>\t (60000, 28, 28)\n",
      "Training Set Labels:\t<class 'numpy.ndarray'>\t (60000, 1)\n",
      "Dev Set Images:\t\t<class 'numpy.ndarray'>\t (5000, 28, 28)\n",
      "Dev Set Labels:\t\t<class 'numpy.ndarray'>\t (5000, 1)\n",
      "Test Set Images:\t<class 'numpy.ndarray'>\t (5000, 28, 28)\n",
      "Test Set Labels:\t<class 'numpy.ndarray'>\t (5000, 1)\n",
      "=================================================================\n"
     ]
    }
   ],
   "source": [
    "train_x_orig, train_y_orig, dev_x_orig,dev_y_orig,test_x_orig,test_y_orig = load_dataset()\n",
    "\n",
    "print(\"Data\\t\\t\\t\",\"Datatype\\t\\t\",\"Shape\")\n",
    "print(\"=================================================================\")\n",
    "print(\"Training Set Images:\\t\" + str(type(train_x_orig))+\"\\t\",str(train_x_orig.shape))\n",
    "print(\"Training Set Labels:\\t\" + str(type(train_y_orig))+\"\\t\",str(train_y_orig.shape))\n",
    "print(\"Dev Set Images:\\t\\t\" + str(type(dev_x_orig))+\"\\t\",str(dev_x_orig.shape))\n",
    "print(\"Dev Set Labels:\\t\\t\" + str(type(dev_y_orig))+\"\\t\",str(dev_y_orig.shape))\n",
    "print(\"Test Set Images:\\t\" + str(type(test_x_orig))+\"\\t\",str(test_x_orig.shape))\n",
    "print(\"Test Set Labels:\\t\" + str(type(test_y_orig))+\"\\t\",str(test_y_orig.shape))\n",
    "print(\"=================================================================\")\n"
   ]
  },
  {
   "cell_type": "code",
   "execution_count": 8,
   "metadata": {},
   "outputs": [],
   "source": [
    "def visualize_orig(x_orig, y_orig, dataset = \"training\"):\n",
    "    \"\"\"\n",
    "        Plots 10 sample images from the dataset with labels\n",
    "        \n",
    "        Arguments:\n",
    "            x_orig - 3D array representation of input images\n",
    "            y_orig - array of labels\n",
    "            dataset - type of dataset, can be training, dev or test\n",
    "        \n",
    "    \"\"\"\n",
    "    if(dataset == \"training\"):\n",
    "        visual_title = \"Training Data Set\"\n",
    "        rng = range(11040,11050)\n",
    "    elif(dataset == \"dev\"):\n",
    "        visual_title = \"Dev Data Set\"\n",
    "        rng = range(100,110)\n",
    "    elif(dataset == \"test\"):\n",
    "        visual_title = \"Test Data Set\"\n",
    "        rng = range(1040,1050)        \n",
    "    else:\n",
    "        raise ValueError(\"Dataset set must be training or dev or test set\")\n",
    "        \n",
    "    fig, axes = plt.subplots(nrows=2, ncols=5,figsize=(16,8))\n",
    "    fig.subplots_adjust(hspace=.1)\n",
    "    fig.suptitle(visual_title)\n",
    "\n",
    "    for ax,i in zip(axes.flatten(),rng):\n",
    "        ax.imshow(x_orig[i].squeeze(),interpolation='nearest', cmap='Greys')\n",
    "        ax.set(title = \"Label: \"+ str(y_orig[i,0]))"
   ]
  },
  {
   "cell_type": "code",
   "execution_count": 9,
   "metadata": {},
   "outputs": [
    {
     "data": {
      "image/png": "[encoded data removed]",
      "text/plain": [
       "<Figure size 1152x576 with 10 Axes>"
      ]
     },
     "metadata": {
      "needs_background": "light"
     },
     "output_type": "display_data"
    }
   ],
   "source": [
    "visualize_orig(train_x_orig, train_y_orig, dataset = \"training\")"
   ]
  },
  {
   "cell_type": "code",
   "execution_count": 10,
   "metadata": {},
   "outputs": [
    {
     "data": {
      "image/png": "[encoded data removed]",
      "text/plain": [
       "<Figure size 1152x576 with 10 Axes>"
      ]
     },
     "metadata": {
      "needs_background": "light"
     },
     "output_type": "display_data"
    }
   ],
   "source": [
    "visualize_orig(dev_x_orig, dev_y_orig, dataset = \"dev\")"
   ]
  },
  {
   "cell_type": "code",
   "execution_count": 11,
   "metadata": {},
   "outputs": [
    {
     "data": {
      "image/png": "[encoded data removed]",
      "text/plain": [
       "<Figure size 1152x576 with 10 Axes>"
      ]
     },
     "metadata": {
      "needs_background": "light"
     },
     "output_type": "display_data"
    }
   ],
   "source": [
    "visualize_orig(test_x_orig, test_y_orig, dataset=\"test\")"
   ]
  },
  {
   "cell_type": "markdown",
   "metadata": {},
   "source": [
    "# Preparing Dataset"
   ]
  },
  {
   "cell_type": "markdown",
   "metadata": {},
   "source": [
    "## Flattening the images"
   ]
  },
  {
   "cell_type": "code",
   "execution_count": 78,
   "metadata": {},
   "outputs": [],
   "source": [
    "def flatten_input(train_x_orig,dev_x_orig,test_x_orig):\n",
    "    \"\"\"\n",
    "        Flattens the 3D numpy array of the input images\n",
    "        \n",
    "        Arguement:\n",
    "            train_x_orig -  training set images of size (60000,28,28)\n",
    "            dev_x_orig   - dev set images of size (5000,28,28)\n",
    "            test_x_orig  - test set images of size (5000,28,28)\n",
    "\n",
    "        Returns:\n",
    "            train_x_flatten - flattened training set input data of size (784,60000)\n",
    "            dev_flatten     - flattened training set dev data of size (784,5000)\n",
    "            test_x_flatten  - flattened test set input data of size (784,5000)\n",
    "            \n",
    "    \"\"\"\n",
    "    # The \"-1\" makes reshape flatten the remaining dimensions\n",
    "    m = train_x_orig.shape[0]\n",
    "    n = dev_x_orig.shape[0]\n",
    "    train_x_flatten = train_x_orig.reshape(train_x_orig.shape[0], -1).T   \n",
    "    dev_x_flatten = dev_x_orig.reshape(dev_x_orig.shape[0], -1).T    \n",
    "    test_x_flatten = test_x_orig.reshape(test_x_orig.shape[0], -1).T\n",
    "   \n",
    "    \n",
    "    assert(train_x_flatten.shape == (784,m) )\n",
    "    assert(dev_x_flatten.shape == (784,n) )\n",
    "    assert(test_x_flatten.shape == (784,n) )\n",
    "    \n",
    "    return train_x_flatten, dev_x_flatten, test_x_flatten"
   ]
  },
  {
   "cell_type": "code",
   "execution_count": 79,
   "metadata": {},
   "outputs": [
    {
     "name": "stdout",
     "output_type": "stream",
     "text": [
      "Data\t\t\t Shape\n",
      "=====================================\n",
      "Input Training set:\t(784, 60000)\n",
      "Input Dev set:\t\t(784, 5000)\n",
      "Input Test set:\t\t(784, 5000)\n",
      "=====================================\n"
     ]
    }
   ],
   "source": [
    "train_x_flatten,dev_x_flatten,test_x_flatten = flatten_input(train_x_orig,dev_x_orig,test_x_orig)\n",
    "\n",
    "print(\"Data\\t\\t\\t\",\"Shape\")\n",
    "print(\"=====================================\")\n",
    "print (\"Input Training set:\\t\" + str(train_x_flatten.shape))\n",
    "print (\"Input Dev set:\\t\\t\" + str(dev_x_flatten.shape))\n",
    "print (\"Input Test set:\\t\\t\" + str(test_x_flatten.shape))\n",
    "print(\"=====================================\")"
   ]
  },
  {
   "cell_type": "markdown",
   "metadata": {},
   "source": [
    "## Normalizing the images"
   ]
  },
  {
   "cell_type": "code",
   "execution_count": 82,
   "metadata": {},
   "outputs": [],
   "source": [
    "def normalize_input(train_x_flatten,dev_x_flatten,test_x_flatten ):\n",
    "    \"\"\"\n",
    "        Normalizes the pixel values of the flattened images to the range 0-1\n",
    "        \n",
    "        Arguement:\n",
    "            train_x_flatten - flattened training set input data of size (784,60000)\n",
    "            dev_flatten     - flattened training set dev data of size (784,5000)\n",
    "            test_x_flatten  - flattened test set input data of size (784,5000)\n",
    "        Returns:\n",
    "            train_x_norm - normalized training set input data\n",
    "            dev_norm     - normalized training set dev data\n",
    "            test_x_norm  - normalized test set input data\n",
    "    \"\"\"\n",
    "    m = train_x_flatten.shape[1]\n",
    "    n = dev_x_flatten.shape[1]\n",
    "    # Normalizing the data into the range between 0 and 1.\n",
    "    train_x_norm = np.divide(train_x_flatten,255.)\n",
    "    dev_x_norm = np.divide(dev_x_flatten,255.)\n",
    "    test_x_norm = np.divide(test_x_flatten,255.)\n",
    "    \n",
    "    assert(train_x_norm.shape == (784,m) )\n",
    "    assert(dev_x_norm.shape == (784,n) )\n",
    "    assert(test_x_norm.shape == (784,n) )\n",
    "    \n",
    "    return train_x_norm, dev_x_norm, test_x_norm"
   ]
  },
  {
   "cell_type": "code",
   "execution_count": 83,
   "metadata": {},
   "outputs": [
    {
     "name": "stdout",
     "output_type": "stream",
     "text": [
      "Data\t\t\t Shape\n",
      "=====================================\n",
      "Input Training set:\t(784, 60000)\n",
      "Input Dev set:\t\t(784, 5000)\n",
      "Input Test set:\t\t(784, 5000)\n",
      "=====================================\n"
     ]
    }
   ],
   "source": [
    "train_x_norm, dev_x_norm, test_x_norm = normalize_input(train_x_flatten,dev_x_flatten,test_x_flatten)\n",
    "\n",
    "print(\"Data\\t\\t\\t\",\"Shape\")\n",
    "print(\"=====================================\")\n",
    "print (\"Input Training set:\\t\" + str(train_x_norm.shape))\n",
    "print (\"Input Dev set:\\t\\t\" + str(dev_x_norm.shape))\n",
    "print (\"Input Test set:\\t\\t\" + str(test_x_norm.shape))\n",
    "print(\"=====================================\")"
   ]
  },
  {
   "cell_type": "markdown",
   "metadata": {},
   "source": [
    "## Encoding the labels"
   ]
  },
  {
   "cell_type": "code",
   "execution_count": 41,
   "metadata": {},
   "outputs": [],
   "source": [
    "def one_hot_encoding(y_orig,num_classes = 10):\n",
    "    \"\"\"\n",
    "        Transform the output labels into the one-hot encoding representation\n",
    "        \n",
    "        Arguments:\n",
    "            y_orig - raw labels loaded directly from the binary file\n",
    "            num_classes - number of the classes based on which the transformation is to be made\n",
    "        Returns:\n",
    "            y_encoded - encoded ndarray of the labels with data elements of int type\n",
    "    \"\"\"\n",
    "    #the extra bit is to classify non digit images if encountered\n",
    "    y_encoded = np.zeros((num_classes + 1,y_orig.shape[1]))\n",
    "    y_encoded[y_orig,np.arange(y_orig.shape[1])] = 1\n",
    "\n",
    "    assert(y_encoded.shape == (num_classes + 1,y_orig.shape[1]))\n",
    "    return y_encoded"
   ]
  },
  {
   "cell_type": "code",
   "execution_count": 43,
   "metadata": {},
   "outputs": [
    {
     "name": "stdout",
     "output_type": "stream",
     "text": [
      "Time to encode: 1.7142295837402344 ms\n",
      "\n",
      "Data\t\t\t Shape\n",
      "===================================\n",
      "Output Training set:\t(11, 60000)\n",
      "Output Dev set:\t\t(11, 5000)\n",
      "Output Test set:\t(11, 5000)\n",
      "===================================\n"
     ]
    }
   ],
   "source": [
    "toc = time.time()\n",
    "#encoding the output of the training and the test dataset\n",
    "train_y_encoded = one_hot_encoding(train_y_orig.T)\n",
    "dev_y_encoded = one_hot_encoding(dev_y_orig.T)\n",
    "test_y_encoded = one_hot_encoding(test_y_orig.T)\n",
    "tic = time.time()\n",
    "print(\"Time to encode: \" + str(1000*(tic-toc)) + \" ms\\n\")\n",
    "\n",
    "print(\"Data\\t\\t\\t\",\"Shape\")\n",
    "print(\"===================================\")\n",
    "print (\"Output Training set:\\t\" + str(train_y_encoded.shape))\n",
    "print (\"Output Dev set:\\t\\t\" + str(dev_y_encoded.shape))\n",
    "print (\"Output Test set:\\t\" + str(test_y_encoded.shape))\n",
    "print(\"===================================\")"
   ]
  },
  {
   "cell_type": "markdown",
   "metadata": {},
   "source": [
    "### Validating Encoding"
   ]
  },
  {
   "cell_type": "code",
   "execution_count": 18,
   "metadata": {},
   "outputs": [
    {
     "name": "stdout",
     "output_type": "stream",
     "text": [
      "[[0 0 0 0 0 0 0 0 0 0]\n",
      " [0 0 0 0 0 0 0 0 0 0]\n",
      " [0 0 0 0 0 0 0 0 0 0]\n",
      " [1 0 0 0 0 0 0 1 0 0]\n",
      " [0 0 0 0 0 1 0 0 0 1]\n",
      " [0 0 0 0 0 0 1 0 0 0]\n",
      " [0 0 1 0 1 0 0 0 0 0]\n",
      " [0 0 0 0 0 0 0 0 0 0]\n",
      " [0 1 0 0 0 0 0 0 1 0]\n",
      " [0 0 0 1 0 0 0 0 0 0]\n",
      " [0 0 0 0 0 0 0 0 0 0]] [[3 8 6 9 6 4 5 3 8 4]]\n",
      "<class 'numpy.ndarray'>\n",
      "[[0 1 0 0 0 0 0 0 0 0]\n",
      " [0 0 1 0 0 0 0 0 0 0]\n",
      " [0 0 0 0 0 0 0 0 0 0]\n",
      " [0 0 0 0 1 0 0 1 1 0]\n",
      " [0 0 0 0 0 0 0 0 0 0]\n",
      " [1 0 0 0 0 1 0 0 0 0]\n",
      " [0 0 0 0 0 0 0 0 0 0]\n",
      " [0 0 0 1 0 0 0 0 0 0]\n",
      " [0 0 0 0 0 0 1 0 0 1]\n",
      " [0 0 0 0 0 0 0 0 0 0]\n",
      " [0 0 0 0 0 0 0 0 0 0]] [[5 0 1 7 3 5 8 3 3 8]]\n",
      "<class 'numpy.ndarray'>\n",
      "[[0 0 1 1 0 0 0 0 0 0]\n",
      " [0 0 0 0 0 1 0 0 0 0]\n",
      " [0 0 0 0 1 0 1 0 0 0]\n",
      " [0 0 0 0 0 0 0 0 0 0]\n",
      " [1 1 0 0 0 0 0 0 0 0]\n",
      " [0 0 0 0 0 0 0 0 0 0]\n",
      " [0 0 0 0 0 0 0 0 0 0]\n",
      " [0 0 0 0 0 0 0 0 0 0]\n",
      " [0 0 0 0 0 0 0 1 1 0]\n",
      " [0 0 0 0 0 0 0 0 0 1]\n",
      " [0 0 0 0 0 0 0 0 0 0]] [[4 4 0 0 2 1 2 8 8 9]]\n",
      "<class 'numpy.ndarray'>\n"
     ]
    }
   ],
   "source": [
    "print(train_y_encoded[:,50000:50010],train_y_orig[50000:50010:,].T)\n",
    "print(type(train_y_encoded))\n",
    "print(dev_y_encoded[:,0:10],dev_y_orig[0:10,:].T)\n",
    "print(type(dev_y_encoded))\n",
    "print(test_y_encoded[:,0:10],test_y_orig[0:10,:].T)\n",
    "print(type(test_y_encoded))"
   ]
  },
  {
   "cell_type": "markdown",
   "metadata": {},
   "source": [
    "## Prep Dataset"
   ]
  },
  {
   "cell_type": "code",
   "execution_count": 19,
   "metadata": {},
   "outputs": [],
   "source": [
    "def prep_dataset(train_x_orig, train_y_orig, dev_x_orig, dev_y_orig, test_x_orig, test_y_orig):\n",
    "    \"\"\"\n",
    "        Flatten and Normalize the input images and encode the output labels\n",
    "        \n",
    "        Arguments:\n",
    "            train_x_orig -  training set images of size (60000,28,28)\n",
    "            train_y_orig -  training set labels of size (60000,1)\n",
    "            dev_x_orig   - dev set images of size (5000,28,28)\n",
    "            dev_y_orig   - dev set labels of size (5000,1)\n",
    "            test_x_orig  - test set images of size (5000,28,28)\n",
    "            test_y_orig  - test set labels of size (5000,1)\n",
    "        Returns:\n",
    "            train_x_norm - flattened and normalized training set input data\n",
    "            dev_norm     - flattened and normalized training set dev data\n",
    "            test_x_norm  - flattened and normalized test set input data\n",
    "            train_y_encoded - encoded label of training set\n",
    "            dev_y_encoded   - encoded label of dev set\n",
    "            test_y_encoded  - encoded label of test set\n",
    "    \"\"\"\n",
    "    #flatten the input images\n",
    "    train_x_flatten,dev_x_flatten,test_x_flatten = flatten_input(train_x_orig,dev_x_orig,test_x_orig)\n",
    "    \n",
    "    #normalize the input images\n",
    "    train_x_norm, dev_x_norm, test_x_norm = normalize_input(train_x_flatten,dev_x_flatten,test_x_flatten)\n",
    "    \n",
    "    #encode the output labels\n",
    "    train_y_encoded = one_hot_encoding(train_y_orig.T)\n",
    "    dev_y_encoded = one_hot_encoding(dev_y_orig.T)\n",
    "    test_y_encoded = one_hot_encoding(test_y_orig.T)\n",
    "    \n",
    "    return train_x_norm,train_y_encoded, dev_x_norm,dev_y_encoded, test_x_norm, test_y_encoded"
   ]
  },
  {
   "cell_type": "markdown",
   "metadata": {},
   "source": [
    "## Validating Prepared Dataset"
   ]
  },
  {
   "cell_type": "code",
   "execution_count": 20,
   "metadata": {},
   "outputs": [
    {
     "name": "stdout",
     "output_type": "stream",
     "text": [
      "Data\t\t\t Before Processing\t After Processing\n",
      "=================================================================\n",
      "Training Set Images:\t(60000, 28, 28)\t\t(784, 60000)\n",
      "Training Set Labels:\t(60000, 1)\t\t(11, 60000)\n",
      "Dev Set Images:\t\t(5000, 28, 28)\t\t(784, 5000)\n",
      "Dev Set Labels:\t\t(5000, 1)\t\t(11, 5000)\n",
      "Test Set Images:\t(5000, 28, 28)\t\t(784, 5000)\n",
      "Test Set Labels:\t(5000, 1)\t\t(11, 5000)\n",
      "=================================================================\n"
     ]
    }
   ],
   "source": [
    "train_x_norm,train_y_encoded, dev_x_norm,dev_y_encoded, test_x_norm, test_y_encoded = prep_dataset(train_x_orig, train_y_orig, dev_x_orig, dev_y_orig, test_x_orig, test_y_orig)\n",
    "print(\"Data\\t\\t\\t\",\"Before Processing\\t\",\"After Processing\")\n",
    "print(\"=================================================================\")\n",
    "print(\"Training Set Images:\\t\" + str(train_x_orig.shape)+\"\\t\\t\"+ str(train_x_norm.shape))\n",
    "print(\"Training Set Labels:\\t\" + str(train_y_orig.shape)+\"\\t\\t\"+ str(train_y_encoded.shape))\n",
    "print(\"Dev Set Images:\\t\\t\" + str(dev_x_orig.shape)+\"\\t\\t\"+ str(dev_x_norm.shape))\n",
    "print(\"Dev Set Labels:\\t\\t\" + str(dev_y_orig.shape)+\"\\t\\t\"+ str(dev_y_encoded.shape))\n",
    "print(\"Test Set Images:\\t\" + str(test_x_orig.shape)+\"\\t\\t\"+ str(test_x_norm.shape))\n",
    "print(\"Test Set Labels:\\t\" + str(test_y_orig.shape)+\"\\t\\t\"+ str(test_y_encoded.shape))\n",
    "print(\"=================================================================\")"
   ]
  },
  {
   "cell_type": "markdown",
   "metadata": {},
   "source": [
    "# Sampling Dataset for Model Development and Experimentation"
   ]
  },
  {
   "cell_type": "markdown",
   "metadata": {},
   "source": [
    "## Sampling from processed dataset"
   ]
  },
  {
   "cell_type": "code",
   "execution_count": 21,
   "metadata": {},
   "outputs": [],
   "source": [
    "def sample_prepDataset(x,y, dataVol = 10):\n",
    "    \"\"\"\n",
    "       Returns a sample dataset from the fully processed dataset\n",
    "       \n",
    "       Arguments:\n",
    "           x - prepared input data\n",
    "           y - prepared output encoded labels\n",
    "           dataVol - sample volume in percentage (default 10%)\n",
    "        Returns:\n",
    "            x_sample - input sample  from processed dataset of size ( dataVol% of x)\n",
    "            y_sample - output sample from processed dataset of size (datavol% of y)\n",
    "            dataVol - sample volume in percentage\n",
    "    \"\"\"\n",
    "    m = y.shape[1]\n",
    "    sample_m = int(np.multiply(m,np.divide(dataVol,100))) #int(m*(dataVol/100))\n",
    "\n",
    "    #suffling the dataset\n",
    "    randCol = np.random.permutation(m)\n",
    "    x_suffled = x[:,randCol]\n",
    "    y_suffled = y[:,randCol]\n",
    "\n",
    "    x_sample = x_suffled[:, 0:sample_m]\n",
    "    y_sample = y_suffled[:, 0:sample_m]\n",
    "\n",
    "    assert(x_sample.shape == (784,sample_m))\n",
    "    assert(y_sample.shape == (11,sample_m))\n",
    "\n",
    "    return dataVol, x_sample, y_sample"
   ]
  },
  {
   "cell_type": "markdown",
   "metadata": {},
   "source": [
    "### Validating Sampled Dataset from processed dataset"
   ]
  },
  {
   "cell_type": "code",
   "execution_count": 22,
   "metadata": {},
   "outputs": [
    {
     "name": "stdout",
     "output_type": "stream",
     "text": [
      "Data\t\t\t Complete Data Shape\t Sample Data Shape\t Sample Size\n",
      "=====================================================================================\n",
      "Training Set Images:\t(784, 60000)\t\t(784, 6000)\t\t10%\n",
      "Training Set Labels:\t(11, 60000)\t\t(11, 6000)\n",
      "Dev Set Images:\t\t(784, 5000)\t\t(784, 500)\t\t10%\n",
      "Dev Set Labels:\t\t(11, 5000)\t\t(11, 500)\n",
      "Test Set Images:\t(784, 5000)\t\t(784, 500)\t\t10%\n",
      "Test Set Labels:\t(11, 5000)\t\t(11, 500)\n",
      "=====================================================================================\n"
     ]
    }
   ],
   "source": [
    "train_Vol,train_x_sample, train_y_sample = sample_prepDataset(train_x_norm,train_y_encoded)\n",
    "dev_Vol,dev_x_sample,dev_y_sample = sample_prepDataset(dev_x_norm,dev_y_encoded)\n",
    "test_Vol,test_x_sample,test_y_sample = sample_prepDataset(test_x_norm,test_y_encoded)\n",
    "\n",
    "print(\"Data\\t\\t\\t\",\"Complete Data Shape\\t\",\"Sample Data Shape\\t\",\"Sample Size\")\n",
    "print(\"=====================================================================================\")\n",
    "print(\"Training Set Images:\\t\"+ str(train_x_norm.shape)+\"\\t\\t\"+ str(train_x_sample.shape)+\"\\t\\t\"+str(train_Vol)+\"%\")\n",
    "print(\"Training Set Labels:\\t\"+ str(train_y_encoded.shape)+\"\\t\\t\"+ str(train_y_sample.shape))\n",
    "print(\"Dev Set Images:\\t\\t\"+str(dev_x_norm.shape)+\"\\t\\t\"+ str(dev_x_sample.shape)+\"\\t\\t\"+str(dev_Vol)+\"%\")\n",
    "print(\"Dev Set Labels:\\t\\t\"+str(dev_y_encoded.shape)+\"\\t\\t\"+ str(dev_y_sample.shape))\n",
    "print(\"Test Set Images:\\t\"+str(test_x_norm.shape)+\"\\t\\t\"+ str(test_x_sample.shape)+\"\\t\\t\"+str(test_Vol)+\"%\")\n",
    "print(\"Test Set Labels:\\t\"+str(test_y_encoded.shape)+\"\\t\\t\"+ str(test_y_sample.shape))\n",
    "print(\"=====================================================================================\")\n"
   ]
  },
  {
   "cell_type": "markdown",
   "metadata": {},
   "source": [
    "## Sampling from original dataset"
   ]
  },
  {
   "cell_type": "code",
   "execution_count": 57,
   "metadata": {},
   "outputs": [],
   "source": [
    "def sample_origDataset(x,y, dataVol = 25):\n",
    "    \"\"\"\n",
    "       Returns a sample dataset from the fully processed dataset\n",
    "       \n",
    "       Arguments:\n",
    "           x - original input data\n",
    "           y - original output labels\n",
    "           dataVol - sample volume in percentage (default 10%)\n",
    "        Returns:\n",
    "            x_sample - input sample  from original dataset of size ( dataVol% of x)\n",
    "            y_sample - output sample  from original dataset of size (datavol% of y)\n",
    "            dataVol - sample volume in percentage\n",
    "    \"\"\"\n",
    "    m = y.shape[0]\n",
    "    sample_m = int(np.multiply(m,np.divide(dataVol,100))) #int(m*(dataVol/100)) \n",
    "    \n",
    "    #suffling the original dataset\n",
    "    randCol = np.random.permutation(m)\n",
    "    x_suffled = x[randCol,:,:]\n",
    "    y_suffled = y[randCol,:]\n",
    "    \n",
    "\n",
    "    x_sample = x_suffled[0:sample_m,:,:]\n",
    "    y_sample = y_suffled[0:sample_m,:]\n",
    "\n",
    "    assert(x_sample.shape == (sample_m,28,28))\n",
    "    assert(y_sample.shape == (sample_m,1))\n",
    "\n",
    "    return dataVol, x_sample, y_sample"
   ]
  },
  {
   "cell_type": "code",
   "execution_count": 58,
   "metadata": {},
   "outputs": [
    {
     "name": "stdout",
     "output_type": "stream",
     "text": [
      "Data\t\t\t Complete Data Shape\t Sample Data Shape\t Sample Size\n",
      "=====================================================================================\n",
      "Training Set Images:\t(60000, 28, 28)\t\t(15000, 28, 28)\t\t25%\n",
      "Training Set Labels:\t(60000, 1)\t\t(15000, 1)\n",
      "Test Set Images:\t(10000, 28, 28)\t\t(2500, 28, 28)\t\t25%\n",
      "Test Set Labels:\t(10000, 1)\t\t(2500, 1)\n",
      "=====================================================================================\n"
     ]
    }
   ],
   "source": [
    "train_Vol,train_x_sample, train_y_sample = sample_origDataset(train_x_orig,train_y_orig)\n",
    "test_Vol,test_x_sample,test_y_sample = sample_origDataset(test_x_temp,test_y_temp)\n",
    "\n",
    "print(\"Data\\t\\t\\t\",\"Complete Data Shape\\t\",\"Sample Data Shape\\t\",\"Sample Size\")\n",
    "print(\"=====================================================================================\")\n",
    "print(\"Training Set Images:\\t\"+ str(train_x_orig.shape)+\"\\t\\t\"+ str(train_x_sample.shape)+\"\\t\\t\"+str(train_Vol)+\"%\")\n",
    "print(\"Training Set Labels:\\t\"+ str(train_y_orig.shape)+\"\\t\\t\"+ str(train_y_sample.shape))\n",
    "print(\"Test Set Images:\\t\"+str(test_x_temp.shape)+\"\\t\\t\"+ str(test_x_sample.shape)+\"\\t\\t\"+str(test_Vol)+\"%\")\n",
    "print(\"Test Set Labels:\\t\"+str(test_y_temp.shape)+\"\\t\\t\"+ str(test_y_sample.shape))\n",
    "print(\"=====================================================================================\")\n"
   ]
  },
  {
   "cell_type": "code",
   "execution_count": null,
   "metadata": {},
   "outputs": [],
   "source": []
  }
 ],
 "metadata": {
  "kernelspec": {
   "display_name": "Python 3",
   "language": "python",
   "name": "python3"
  },
  "language_info": {
   "codemirror_mode": {
    "name": "ipython",
    "version": 3
   },
   "file_extension": ".py",
   "mimetype": "text/x-python",
   "name": "python",
   "nbconvert_exporter": "python",
   "pygments_lexer": "ipython3",
   "version": "3.7.6"
  }
 },
 "nbformat": 4,
 "nbformat_minor": 4
}
