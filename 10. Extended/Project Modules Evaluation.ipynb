{
 "cells": [
  {
   "cell_type": "markdown",
   "metadata": {},
   "source": [
    "## Modifying Notebook display"
   ]
  },
  {
   "cell_type": "code",
   "execution_count": 1,
   "metadata": {},
   "outputs": [
    {
     "data": {
      "text/html": [
       "\n",
       "<style>\n",
       "    .container#notebook-container    { width: 95%;}\n",
       "    div#menubar-container     { width: 95%; }\n",
       "    div#maintoolbar-container { width: 95%; }\n",
       "</style>\n",
       "<script>\n",
       "    document.getElementById(\"notebook-container\").style.margin = \"auto\";\n",
       "</script>\n"
      ],
      "text/plain": [
       "<IPython.core.display.HTML object>"
      ]
     },
     "metadata": {},
     "output_type": "display_data"
    }
   ],
   "source": [
    "from IPython.display import display, HTML\n",
    "\n",
    "display(HTML(data=\"\"\"\n",
    "<style>\n",
    "    .container#notebook-container    { width: 95%;}\n",
    "    div#menubar-container     { width: 95%; }\n",
    "    div#maintoolbar-container { width: 95%; }\n",
    "</style>\n",
    "<script>\n",
    "    document.getElementById(\"notebook-container\").style.margin = \"auto\";\n",
    "</script>\n",
    "\"\"\"))"
   ]
  },
  {
   "cell_type": "markdown",
   "metadata": {},
   "source": [
    "## For running the notebook as Google Colab Instance"
   ]
  },
  {
   "cell_type": "markdown",
   "metadata": {},
   "source": [
    "``\n",
    "#mounting the google drive for accessing other necessary files\n",
    "from google.colab import drive\n",
    "drive.mount('/content/gdrive')\n",
    "``"
   ]
  },
  {
   "cell_type": "markdown",
   "metadata": {},
   "source": [
    "``\n",
    "#Checking the available files in the \"Colab Notebooks\" folder of the google drive\n",
    "!ls /content/gdrive/My\\ Drive/Colab\\ Notebooks/Handwritten\\ Digit\\ Recognition\n",
    "``\n",
    "\n",
    "``\n",
    "import sys\n",
    "``\n",
    "\n",
    "``\n",
    "#changing the current working directory to \"Colab Notebooks\" folder in the google drive\n",
    "sys.path.append('/content/gdrive/My Drive/Colab Notebooks/Handwritten Digit Recognition')\n",
    "``"
   ]
  },
  {
   "cell_type": "markdown",
   "metadata": {},
   "source": [
    "## For running the notebook as Kaggle Kernel"
   ]
  },
  {
   "cell_type": "markdown",
   "metadata": {},
   "source": [
    "change directory to the dataset where our custom scripts are uploaded\n",
    "\n",
    "> ``os.chdir(\"/kaggle/input/handwritten-digit-recognition\")``\n",
    "\n",
    "***handwritten-digit-recognition*** is simply a folder name. It can vary based on the dataset you create in kaggle while uploading the python scripts.\n",
    "\n",
    "\n",
    "load custom module or files or dataset\n",
    "\n",
    "> ``from  dataset import load_dataset, train_dev_split, prep_dataset`` <br>\n",
    "> ```from dataset import visualize_data_distribution, visualize_dataset```\n",
    "\n",
    "\n",
    "reset our working directory\n",
    "\n",
    "> ```os.chdir(\"/kaggle/working/\")```\n",
    "\n",
    "**NOTE:** The ***input directory*** is Read-Only. So, we must switch back to the ***working directory*** for performing any other operation that requires write access. Make sure this note book runs as a part of the dataset you create as said above because all the custom modules are uploaded there. \n"
   ]
  },
  {
   "cell_type": "markdown",
   "metadata": {},
   "source": [
    "## Importing Dependencies"
   ]
  },
  {
   "cell_type": "code",
   "execution_count": 2,
   "metadata": {},
   "outputs": [],
   "source": [
    "import time    #for calculating time\n",
    "import os\n",
    "#core packages\n",
    "import numpy as np\n",
    "import matplotlib.pyplot as plt\n",
    "\n",
    "# os.chdir(\"/kaggle/input/handwritten-digit-recognition\")\n",
    "\n",
    "#custom module\n",
    "from  dataset import load_dataset, train_dev_split, prep_dataset\n",
    "from dataset import visualize_data_distribution, visualize_dataset\n",
    "\n",
    "from ModelUtils import relu, relu_grad, softmax\n",
    "from ModelUtils import rand_mini_batches, convert_time\n",
    "from ModelUtils import confusion_matrix, plot_confusion_matrix, model_metrics, metric_summary\n",
    "from ModelUtils import visualize_training_results, visualize_prediction, visualize_mislabelled_images\n",
    "from ModelUtils import save_model, load_model\n",
    "\n",
    "from dataAugmentation import data_generator\n",
    "\n",
    "from ffnn import *\n",
    "\n",
    "# # reset our working directory\n",
    "# os.chdir(\"/kaggle/working/\")\n",
    "\n",
    "np.random.seed(1)\n",
    "%matplotlib inline"
   ]
  },
  {
   "cell_type": "markdown",
   "metadata": {},
   "source": [
    "## Dataset Preparation"
   ]
  },
  {
   "cell_type": "markdown",
   "metadata": {},
   "source": [
    "### Loading Dataset"
   ]
  },
  {
   "cell_type": "code",
   "execution_count": 3,
   "metadata": {},
   "outputs": [
    {
     "name": "stdout",
     "output_type": "stream",
     "text": [
      "Sample Size : 50%\n",
      "\n",
      "Data\t\t\t Datatype\t\t Dataset Size\n",
      "=================================================================\n",
      "Training Set Images:\t<class 'numpy.ndarray'>\t (30000, 28, 28)\n",
      "Training Set Labels:\t<class 'numpy.ndarray'>\t (30000, 1)\n",
      "Test Set Images:\t<class 'numpy.ndarray'>\t (5000, 28, 28)\n",
      "Test Set Labels:\t<class 'numpy.ndarray'>\t (5000, 1)\n",
      "=================================================================\n"
     ]
    }
   ],
   "source": [
    "dataset_size_in_per = 50\n",
    "\n",
    "train_x_orig, train_y_orig, test_x_orig, test_y_orig = load_dataset(dataset = \"mnist\", size_in_per = dataset_size_in_per)\n",
    "\n",
    "print(\"Sample Size : %d%%\\n\"%(dataset_size_in_per))\n",
    "print(\"Data\\t\\t\\t\",\"Datatype\\t\\t\",\"Dataset Size\")\n",
    "print(\"=================================================================\")\n",
    "print(\"Training Set Images:\\t\" + str(type(train_x_orig))+\"\\t\",str(train_x_orig.shape))\n",
    "print(\"Training Set Labels:\\t\" + str(type(train_y_orig))+\"\\t\",str(train_y_orig.shape))\n",
    "print(\"Test Set Images:\\t\" + str(type(test_x_orig))+\"\\t\",str(test_x_orig.shape))\n",
    "print(\"Test Set Labels:\\t\" + str(type(test_y_orig))+\"\\t\",str(test_y_orig.shape))\n",
    "print(\"=================================================================\")\n",
    "\n"
   ]
  },
  {
   "cell_type": "markdown",
   "metadata": {},
   "source": [
    "### Train-Dev set Split"
   ]
  },
  {
   "cell_type": "code",
   "execution_count": 4,
   "metadata": {},
   "outputs": [
    {
     "name": "stdout",
     "output_type": "stream",
     "text": [
      "Data\t\t\t\t Datatype\t\t Shape\n",
      "========================================================================\n",
      "Training Set Images:\t\t<class 'numpy.ndarray'>\t (25000, 28, 28)\n",
      "Training Set Labels:\t\t<class 'numpy.ndarray'>\t (25000, 1)\n",
      "Development Set Images:\t\t<class 'numpy.ndarray'>\t (5000, 28, 28)\n",
      "Development Set Labels:\t\t<class 'numpy.ndarray'>\t (5000, 1)\n",
      "========================================================================\n"
     ]
    }
   ],
   "source": [
    "train_x_split, train_y_split, dev_x_split, dev_y_split = train_dev_split(train_x_orig, train_y_orig)\n",
    "\n",
    "print(\"Data\\t\\t\\t\\t\",\"Datatype\\t\\t\",\"Shape\")\n",
    "print(\"========================================================================\")\n",
    "print(\"Training Set Images:\\t\\t\" + str(type(train_x_split))+\"\\t\",str(train_x_split.shape))\n",
    "print(\"Training Set Labels:\\t\\t\" + str(type(train_y_split))+\"\\t\",str(train_y_split.shape))\n",
    "print(\"Development Set Images:\\t\\t\" + str(type(dev_x_split))+\"\\t\",str(dev_x_split.shape))\n",
    "print(\"Development Set Labels:\\t\\t\" + str(type(dev_y_split))+\"\\t\",str(dev_y_split.shape))\n",
    "print(\"========================================================================\")\n"
   ]
  },
  {
   "cell_type": "markdown",
   "metadata": {},
   "source": [
    "### Visualizing Data Distribution"
   ]
  },
  {
   "cell_type": "code",
   "execution_count": 5,
   "metadata": {},
   "outputs": [
    {
     "data": {
      "image/png": "[encoded data removed]",
      "text/plain": [
       "<Figure size 720x360 with 1 Axes>"
      ]
     },
     "metadata": {
      "needs_background": "light"
     },
     "output_type": "display_data"
    },
    {
     "data": {
      "image/png": "[encoded data removed]",
      "text/plain": [
       "<Figure size 720x360 with 1 Axes>"
      ]
     },
     "metadata": {
      "needs_background": "light"
     },
     "output_type": "display_data"
    },
    {
     "data": {
      "image/png": "[encoded data removed]",
      "text/plain": [
       "<Figure size 720x360 with 1 Axes>"
      ]
     },
     "metadata": {
      "needs_background": "light"
     },
     "output_type": "display_data"
    }
   ],
   "source": [
    "visualize_data_distribution(train_y_split, dataset_type = \"training\")\n",
    "visualize_data_distribution(dev_y_split,  dataset_type = \"dev\")\n",
    "visualize_data_distribution(test_y_orig,  dataset_type = \"test\")"
   ]
  },
  {
   "cell_type": "markdown",
   "metadata": {},
   "source": [
    "### Visualizing Dataset"
   ]
  },
  {
   "cell_type": "code",
   "execution_count": 6,
   "metadata": {},
   "outputs": [
    {
     "data": {
      "image/png": "[encoded data removed]",
      "text/plain": [
       "<Figure size 1152x576 with 10 Axes>"
      ]
     },
     "metadata": {
      "needs_background": "light"
     },
     "output_type": "display_data"
    },
    {
     "data": {
      "image/png": "[encoded data removed]",
      "text/plain": [
       "<Figure size 1152x576 with 10 Axes>"
      ]
     },
     "metadata": {
      "needs_background": "light"
     },
     "output_type": "display_data"
    },
    {
     "data": {
      "image/png": "[encoded data removed]",
      "text/plain": [
       "<Figure size 1152x576 with 10 Axes>"
      ]
     },
     "metadata": {
      "needs_background": "light"
     },
     "output_type": "display_data"
    }
   ],
   "source": [
    "visualize_dataset(train_x_split, train_y_split, dataset = \"mnist\", dataset_type = \"training\")\n",
    "visualize_dataset(dev_x_split, dev_y_split, dataset = \"mnist\", dataset_type = \"dev\")\n",
    "visualize_dataset(test_x_orig, test_y_orig, dataset = \"mnist\", dataset_type=\"test\")"
   ]
  },
  {
   "cell_type": "markdown",
   "metadata": {},
   "source": [
    "### Preparing Dataset"
   ]
  },
  {
   "cell_type": "code",
   "execution_count": 7,
   "metadata": {},
   "outputs": [
    {
     "name": "stdout",
     "output_type": "stream",
     "text": [
      "Data\t\t\t Before Processing\t After Processing\n",
      "=================================================================\n",
      "Training Set Images:\t(25000, 28, 28)\t\t(784, 25000)\n",
      "Training Set Labels:\t(25000, 1)\t\t(10, 25000)\n",
      "Dev Set Images:\t\t(5000, 28, 28)\t\t(784, 5000)\n",
      "Dev Set Labels:\t\t(5000, 1)\t\t(10, 5000)\n",
      "Test Set Images:\t(5000, 28, 28)\t\t(784, 5000)\n",
      "Test Set Labels:\t(5000, 1)\t\t(10, 5000)\n",
      "=================================================================\n"
     ]
    }
   ],
   "source": [
    "train_x_norm, train_y_encoded = prep_dataset(train_x_split, train_y_split, num_class = 10)\n",
    "dev_x_norm, dev_y_encoded= prep_dataset(dev_x_split, dev_y_split, num_class = 10)\n",
    "test_x_norm, test_y_encoded = prep_dataset(test_x_orig, test_y_orig, num_class = 10)\n",
    "\n",
    "print(\"Data\\t\\t\\t\",\"Before Processing\\t\",\"After Processing\")\n",
    "print(\"=================================================================\")\n",
    "print(\"Training Set Images:\\t\" + str(train_x_split.shape)+\"\\t\\t\"+ str(train_x_norm.shape))\n",
    "print(\"Training Set Labels:\\t\" + str(train_y_split.shape)+\"\\t\\t\"+ str(train_y_encoded.shape))\n",
    "print(\"Dev Set Images:\\t\\t\" + str(dev_x_split.shape)+\"\\t\\t\"+ str(dev_x_norm.shape))\n",
    "print(\"Dev Set Labels:\\t\\t\" + str(dev_y_split.shape)+\"\\t\\t\"+ str(dev_y_encoded.shape))\n",
    "print(\"Test Set Images:\\t\" + str(test_x_orig.shape)+\"\\t\\t\"+ str(test_x_norm.shape))\n",
    "print(\"Test Set Labels:\\t\" + str(test_y_orig.shape)+\"\\t\\t\"+ str(test_y_encoded.shape))\n",
    "print(\"=================================================================\")\n"
   ]
  },
  {
   "cell_type": "markdown",
   "metadata": {},
   "source": [
    "### Train Model"
   ]
  },
  {
   "cell_type": "code",
   "execution_count": 10,
   "metadata": {},
   "outputs": [],
   "source": [
    "# Final Model Training\n",
    "\n",
    "def train(X_train, Y_train, X_dev, Y_dev, layers_dim, hyperParams, initialization = \"random\", optimizer = 'bgd',regularizer = None, verbose = 3, patience = None):\n",
    "    # loading the hyper parameters\n",
    "    learning_rate = hyperParams['learning_rate']\n",
    "    num_epoch = hyperParams['num_epoch']\n",
    "    b1 = hyperParams['beta1']\n",
    "    b2 = hyperParams['beta2']\n",
    "    ep = hyperParams['epsilon']\n",
    "    lambd = hyperParams['lambda']\n",
    "    keep_probs = hyperParams['keep_probs']\n",
    "\n",
    "    #setting up necessary variables for early stopping\n",
    "    if patience != None:\n",
    "        path = \"temp/\" # pats to save the intermediate best parameters\n",
    "        if not os.path.exists(path):\n",
    "            os.makedirs(path)\n",
    "        filename = \"best_param_intermediate\"\n",
    "\n",
    "        early_stop_count = 0 #for early stopping\n",
    "        max_val_acc = 0 # for keeping track of maximum validation accuracy\n",
    "    \n",
    "    #initializing the variables\n",
    "    seed = 1\n",
    "    m = Y_train.shape[1]\n",
    "    train_accs = []  # keep track of training accuracy\n",
    "    val_accs = []     # keep track of Validation accuracy\n",
    "    train_losses = []  # keep track of training loss\n",
    "    val_losses = []     # keep track of Validation loss\n",
    "    \n",
    "    #selecting the minibatch size for each optimizer\n",
    "    if optimizer == 'sgd':\n",
    "        mini_batch_size = 1\n",
    "    elif optimizer == 'bgd':\n",
    "        mini_batch_size = m\n",
    "    elif optimizer == 'mgd' or optimizer == 'adam':\n",
    "        mini_batch_size = hyperParams['mini_batch_size']\n",
    "    else:\n",
    "        raise ValueError(\"Optimizer value out of scope\")\n",
    "        \n",
    "    #initializing the model parameters\n",
    "    parameters = init_parameters(layers_dim, initialization)\n",
    "    \n",
    "    #initializing adam parameters, used only when optimizer = 'adam'\n",
    "    t = 0\n",
    "    v,s = initialize_adam(parameters)\n",
    "    \n",
    "    train_toc = time.time() # for calculating entire training time\n",
    "    print(\"Training The Model...\")\n",
    "    \n",
    "    #Gradient Descent begins\n",
    "    for i in range(1, num_epoch+1):\n",
    "        seed += 1\n",
    "        time_trained = 0\n",
    "        batch_times = []\n",
    "        accs = []\n",
    "        losses = []\n",
    "        \n",
    "        if verbose > 0:\n",
    "            print(\"\\nEpoch %d/%d\"%(i,num_epoch))\n",
    "        \n",
    "        minibatches = rand_mini_batches(X_train, Y_train, mini_batch_size, seed)\n",
    "        total_minibatches = len(minibatches)\n",
    "        \n",
    "        for ind, minibatch in enumerate(minibatches):\n",
    "            batch_toc = time.time() # for calculating time of an epoch cycle\n",
    "            \n",
    "            #retriving minibatch of X and Y from training set\n",
    "            (minibatch_X, minibatch_Y) = minibatch\n",
    "            \n",
    "            #forward Propagation\n",
    "            AL, caches, dropout_masks = forward_prop(minibatch_X, parameters, keep_probs = keep_probs, regularizer = regularizer)\n",
    "            \n",
    "            #Computing cross entropy cost\n",
    "            cross_entropy_cost = softmax_cross_entropy_cost(AL, minibatch_Y, caches, lambd = lambd, regularizer = regularizer, from_logits = True) #accumulating the batch costs\n",
    "            \n",
    "            #Backward Propagation\n",
    "            grads = backward_prop(AL, minibatch_Y, caches, dropout_masks = dropout_masks, keep_probs = keep_probs, lambd = lambd, regularizer = regularizer)\n",
    "                \n",
    "            #Updating parameters\n",
    "            t += 1\n",
    "            parameters, v, s = update_parameters(parameters, grads, learning_rate, optimizer = optimizer, beta1 = b1, beta2 = b2,  epsilon = ep, v = v, s = s, t = t)\n",
    "            \n",
    "            # Calculating training time for each batch \n",
    "            batch_tic = time.time()\n",
    "            batch_times.append(batch_tic - batch_toc)\n",
    "            time_trained = np.sum(batch_times)\n",
    "            \n",
    "            #calculating training progress\n",
    "            per = ((ind+1) / total_minibatches) * 100\n",
    "            inc = int(per // 10) * 2\n",
    "            \n",
    "            #calculating accuracy and loss of the training batch\n",
    "            acc,loss = evaluate(minibatch_X, minibatch_Y, parameters)\n",
    "            accs.append(acc)\n",
    "            losses.append(loss)\n",
    "            \n",
    "            #averaging all the accs and losses till now\n",
    "            train_acc = np.mean(accs)\n",
    "            train_loss = np.mean(losses)\n",
    "            \n",
    "            #Verbosity 0: Silent mode\n",
    "            #Verbosity 1: Epoch mode\n",
    "            #Verbosity 2: Progress bar mode\n",
    "            #Verbosity 3 or greater: Metric mode\n",
    "                \n",
    "            if verbose == 2:\n",
    "                print (\"%d/%d [%s>%s %.0f%%] - %.2fs\"%(ind+1, total_minibatches, '=' * inc,'.'*(20-inc), per, time_trained),end='\\r')\n",
    "            elif verbose > 2:\n",
    "                print (\"%d/%d [%s>%s %.0f%%] - %.2fs | loss: %.4f | acc: %.4f\"%(ind+1, total_minibatches, '=' * inc,'.'*(20-inc), per, time_trained, train_loss, train_acc),end='\\r')\n",
    "            \n",
    "        #----------------------------------------------batch ends-------------------------------------------\n",
    "        \n",
    "        #accumulating the acc and loss of the last iteration of each epoch\n",
    "        train_accs.append(np.mean(accs))\n",
    "        train_losses.append(np.mean(losses))\n",
    "                \n",
    "        #evaluating the model using validation accuracy and loss\n",
    "        val_acc, val_loss= evaluate(X_dev, Y_dev, parameters)  \n",
    "        val_accs.append(val_acc)\n",
    "        val_losses.append(val_loss)\n",
    "        \n",
    "        time_per_batch = int(np.mean(batch_times)*1000)\n",
    "\n",
    "        if verbose == 2:\n",
    "            print (\"%d/%d [%s 100%%] - %.2fs %dms/step\"%(total_minibatches, total_minibatches, '=' * 20, time_trained, time_per_batch ),end='\\r')\n",
    "        elif verbose > 2:\n",
    "            print (\"%d/%d [%s 100%%] - %.2fs %dms/step | loss: %.4f | acc: %.4f | val_loss: %.4f | val_acc: %.4f\"%(total_minibatches, total_minibatches, '=' * 20, time_trained, time_per_batch, train_loss, train_acc, val_loss, val_acc),end='\\r')\n",
    "                \n",
    "        \n",
    "        if patience != None:\n",
    "            #getting the best val accuracy\n",
    "            if val_acc >= max_val_acc:\n",
    "                max_val_acc = val_acc\n",
    "                print(\"\\nBetter validation accuracy found. So saving the corresponding parameters...\")\n",
    "                save_model(path+filename, parameters)\n",
    "\n",
    "            # Early Stopping\n",
    "            if patience >= 5:\n",
    "                epoch_trained = i+1\n",
    "\n",
    "                if val_acc < max_val_acc:\n",
    "                    early_stop_count += 1\n",
    "                else:\n",
    "                    early_stop_count = 0\n",
    "\n",
    "                if early_stop_count == patience:\n",
    "                    print(\"\\n\\nSince the Val Acc didn't increase for last %d epochs, Training is halted returning the best parameters obtained.\"%patience)\n",
    "                    break;\n",
    "\n",
    "    #-------------------------------------------Gradient Descent ends-----------------------------------------------\n",
    "    \n",
    "    train_tic = time.time() # for calculating entire training time\n",
    "    hrs, mins, secs , ms = convert_time((train_tic - train_toc)*1000)\n",
    "    print(\"\\n\\nTotal Training Time = %dhr %dmins %dsecs %.2fms\"%(hrs, mins, secs, ms))\n",
    "    \n",
    "    #loading the best parameters\n",
    "    if patience != None:\n",
    "        parameters = load_model(path+filename)\n",
    "        os.remove(path + filename) #removing temporary file\n",
    "    history = {\"parameters\":parameters,\n",
    "               \"accuracy\": train_accs,\n",
    "               \"loss\":train_losses ,\n",
    "               \"val_accuracy\":val_accs,\n",
    "               \"val_loss\":val_losses\n",
    "            }\n",
    "    return history\n"
   ]
  },
  {
   "cell_type": "markdown",
   "metadata": {},
   "source": [
    "#### Running Model"
   ]
  },
  {
   "cell_type": "code",
   "execution_count": 19,
   "metadata": {
    "scrolled": false
   },
   "outputs": [
    {
     "name": "stdout",
     "output_type": "stream",
     "text": [
      "Training The Model...\n",
      "\n",
      "Epoch 1/40\n",
      "155/155 [==================== 100%] - 5.20s 33ms/step | loss: 0.2882 | acc: 0.9192 | val_loss: 0.1747 | val_acc: 0.9476\n",
      "Better validation accuracy found. So saving the corresponding parameters...\n",
      "\n",
      "Epoch 2/40\n",
      "155/155 [==================== 100%] - 4.95s 31ms/step | loss: 0.1179 | acc: 0.9675 | val_loss: 0.1298 | val_acc: 0.9596\n",
      "Better validation accuracy found. So saving the corresponding parameters...\n",
      "\n",
      "Epoch 3/40\n",
      "155/155 [==================== 100%] - 4.80s 30ms/step | loss: 0.0696 | acc: 0.9814 | val_loss: 0.1034 | val_acc: 0.9702\n",
      "Better validation accuracy found. So saving the corresponding parameters...\n",
      "\n",
      "Epoch 4/40\n",
      "155/155 [==================== 100%] - 5.35s 34ms/step | loss: 0.0452 | acc: 0.9890 | val_loss: 0.0866 | val_acc: 0.9746\n",
      "Better validation accuracy found. So saving the corresponding parameters...\n",
      "\n",
      "Epoch 5/40\n",
      "155/155 [==================== 100%] - 5.83s 37ms/step | loss: 0.0299 | acc: 0.9937 | val_loss: 0.0882 | val_acc: 0.9740\n",
      "Epoch 6/40\n",
      "155/155 [==================== 100%] - 5.74s 37ms/step | loss: 0.0197 | acc: 0.9967 | val_loss: 0.0852 | val_acc: 0.9754\n",
      "Better validation accuracy found. So saving the corresponding parameters...\n",
      "\n",
      "Epoch 7/40\n",
      "155/155 [==================== 100%] - 5.54s 35ms/step | loss: 0.0131 | acc: 0.9982 | val_loss: 0.0831 | val_acc: 0.9750\n",
      "Epoch 8/40\n",
      "155/155 [==================== 100%] - 5.66s 36ms/step | loss: 0.0088 | acc: 0.9989 | val_loss: 0.0841 | val_acc: 0.9762\n",
      "Better validation accuracy found. So saving the corresponding parameters...\n",
      "\n",
      "Epoch 9/40\n",
      "155/155 [==================== 100%] - 5.49s 35ms/step | loss: 0.0059 | acc: 0.9995 | val_loss: 0.0817 | val_acc: 0.9760\n",
      "Epoch 10/40\n",
      "155/155 [==================== 100%] - 5.73s 36ms/step | loss: 0.0045 | acc: 0.9997 | val_loss: 0.0867 | val_acc: 0.9780\n",
      "Better validation accuracy found. So saving the corresponding parameters...\n",
      "\n",
      "Epoch 11/40\n",
      "155/155 [==================== 100%] - 6.04s 38ms/step | loss: 0.0032 | acc: 0.9998 | val_loss: 0.0859 | val_acc: 0.9786\n",
      "Better validation accuracy found. So saving the corresponding parameters...\n",
      "\n",
      "Epoch 12/40\n",
      "155/155 [==================== 100%] - 6.27s 40ms/step | loss: 0.0025 | acc: 1.0000 | val_loss: 0.0848 | val_acc: 0.9778\n",
      "Epoch 13/40\n",
      "155/155 [==================== 100%] - 5.95s 38ms/step | loss: 0.0018 | acc: 1.0000 | val_loss: 0.0837 | val_acc: 0.9782\n",
      "Epoch 14/40\n",
      "155/155 [==================== 100%] - 5.45s 35ms/step | loss: 0.0012 | acc: 1.0000 | val_loss: 0.0887 | val_acc: 0.9790\n",
      "Better validation accuracy found. So saving the corresponding parameters...\n",
      "\n",
      "Epoch 15/40\n",
      "155/155 [==================== 100%] - 5.43s 35ms/step | loss: 0.0017 | acc: 0.9999 | val_loss: 0.0879 | val_acc: 0.9784\n",
      "Epoch 16/40\n",
      "155/155 [==================== 100%] - 5.40s 34ms/step | loss: 0.0030 | acc: 0.9999 | val_loss: 0.1189 | val_acc: 0.9686\n",
      "Epoch 17/40\n",
      "155/155 [==================== 100%] - 5.37s 34ms/step | loss: 0.0106 | acc: 0.9978 | val_loss: 0.1167 | val_acc: 0.9690\n",
      "Epoch 18/40\n",
      "155/155 [==================== 100%] - 5.48s 35ms/step | loss: 0.0088 | acc: 0.9982 | val_loss: 0.1055 | val_acc: 0.9758\n",
      "Epoch 19/40\n",
      "155/155 [==================== 100%] - 5.42s 34ms/step | loss: 0.0042 | acc: 0.9996 | val_loss: 0.1037 | val_acc: 0.9752\n",
      "Epoch 20/40\n",
      "155/155 [==================== 100%] - 5.82s 37ms/step | loss: 0.0016 | acc: 1.0000 | val_loss: 0.0968 | val_acc: 0.9754\n",
      "Epoch 21/40\n",
      "155/155 [==================== 100%] - 5.35s 34ms/step | loss: 0.0009 | acc: 1.0000 | val_loss: 0.0973 | val_acc: 0.9778\n",
      "Epoch 22/40\n",
      "155/155 [==================== 100%] - 5.35s 34ms/step | loss: 0.0004 | acc: 1.0000 | val_loss: 0.1007 | val_acc: 0.9778\n",
      "Epoch 23/40\n",
      "155/155 [==================== 100%] - 5.38s 34ms/step | loss: 0.0002 | acc: 1.0000 | val_loss: 0.1003 | val_acc: 0.9776\n",
      "Epoch 24/40\n",
      "155/155 [==================== 100%] - 5.70s 36ms/step | loss: 0.0002 | acc: 1.0000 | val_loss: 0.0984 | val_acc: 0.9794\n",
      "Better validation accuracy found. So saving the corresponding parameters...\n",
      "\n",
      "Epoch 25/40\n",
      "155/155 [==================== 100%] - 5.37s 34ms/step | loss: 0.0001 | acc: 1.0000 | val_loss: 0.0977 | val_acc: 0.9788\n",
      "Epoch 26/40\n",
      "155/155 [==================== 100%] - 5.40s 34ms/step | loss: 0.0001 | acc: 1.0000 | val_loss: 0.0987 | val_acc: 0.9790\n",
      "Epoch 27/40\n",
      "155/155 [==================== 100%] - 6.87s 44ms/step | loss: 0.0001 | acc: 1.0000 | val_loss: 0.0995 | val_acc: 0.9794\n",
      "Better validation accuracy found. So saving the corresponding parameters...\n",
      "\n",
      "Epoch 28/40\n",
      "155/155 [==================== 100%] - 6.11s 39ms/step | loss: 0.0001 | acc: 1.0000 | val_loss: 0.1032 | val_acc: 0.9796\n",
      "Better validation accuracy found. So saving the corresponding parameters...\n",
      "\n",
      "Epoch 29/40\n",
      "155/155 [==================== 100%] - 5.46s 35ms/step | loss: 0.0001 | acc: 1.0000 | val_loss: 0.1020 | val_acc: 0.9790\n",
      "Epoch 30/40\n",
      "155/155 [==================== 100%] - 5.69s 36ms/step | loss: 0.0001 | acc: 1.0000 | val_loss: 0.1005 | val_acc: 0.9794\n",
      "Epoch 31/40\n",
      "155/155 [==================== 100%] - 6.62s 42ms/step | loss: 0.0001 | acc: 1.0000 | val_loss: 0.1012 | val_acc: 0.9790\n",
      "Epoch 32/40\n",
      "155/155 [==================== 100%] - 6.10s 39ms/step | loss: 0.0001 | acc: 1.0000 | val_loss: 0.1020 | val_acc: 0.9794\n",
      "Epoch 33/40\n",
      "155/155 [==================== 100%] - 6.12s 39ms/step | loss: 0.0001 | acc: 1.0000 | val_loss: 0.1012 | val_acc: 0.9794\n",
      "Epoch 34/40\n",
      "155/155 [==================== 100%] - 6.05s 39ms/step | loss: 0.0000 | acc: 1.0000 | val_loss: 0.1016 | val_acc: 0.9782\n",
      "Epoch 35/40\n",
      "155/155 [==================== 100%] - 6.19s 39ms/step | loss: 0.0000 | acc: 1.0000 | val_loss: 0.1024 | val_acc: 0.9788\n",
      "Epoch 36/40\n",
      "155/155 [==================== 100%] - 5.71s 36ms/step | loss: 0.0000 | acc: 1.0000 | val_loss: 0.1010 | val_acc: 0.9794\n",
      "Epoch 37/40\n",
      "155/155 [==================== 100%] - 5.89s 37ms/step | loss: 0.0000 | acc: 1.0000 | val_loss: 0.1007 | val_acc: 0.9800\n",
      "Better validation accuracy found. So saving the corresponding parameters...\n",
      "\n",
      "Epoch 38/40\n",
      "155/155 [==================== 100%] - 5.71s 36ms/step | loss: 0.0000 | acc: 1.0000 | val_loss: 0.1019 | val_acc: 0.9800\n",
      "Better validation accuracy found. So saving the corresponding parameters...\n",
      "\n",
      "Epoch 39/40\n",
      "155/155 [==================== 100%] - 5.63s 36ms/step | loss: 0.0127 | acc: 0.9959 | val_loss: 0.2081 | val_acc: 0.9610\n",
      "Epoch 40/40\n",
      "155/155 [==================== 100%] - 5.48s 35ms/step | loss: 0.0177 | acc: 0.9947 | val_loss: 0.0951 | val_acc: 0.9798\n",
      "\n",
      "Total Training Time = 0hr 4mins 29secs 1.08ms\n"
     ]
    }
   ],
   "source": [
    "layers_dim = init_layers(784, 10,hidden_layers = [1200])\n",
    "hyperParams = init_hyperParams(alpha = 0.001485, num_epoch = 40, minibatch_size = 162,lambd = 0.7,keep_probs = [0.9])\n",
    "history = train(train_x_norm, train_y_encoded, dev_x_norm, dev_y_encoded,layers_dim, hyperParams, initialization = \"he\", optimizer = 'adam',regularizer = \"dropout\", patience = 10)"
   ]
  },
  {
   "cell_type": "code",
   "execution_count": 20,
   "metadata": {},
   "outputs": [
    {
     "data": {
      "image/png": "[encoded data removed]",
      "text/plain": [
       "<Figure size 720x1080 with 2 Axes>"
      ]
     },
     "metadata": {
      "needs_background": "light"
     },
     "output_type": "display_data"
    }
   ],
   "source": [
    "params = history[\"parameters\"]\n",
    "# params = history[\"best_params\"]\n",
    "train_acc = history[\"accuracy\"]\n",
    "train_loss = history[\"loss\"]\n",
    "val_acc = history[\"val_accuracy\"]\n",
    "val_loss = history[\"val_loss\"]\n",
    "epochs = len(val_acc)\n",
    "\n",
    "\n",
    "visualize_training_results(train_acc, val_acc, train_loss, val_loss)    "
   ]
  },
  {
   "cell_type": "code",
   "execution_count": 21,
   "metadata": {},
   "outputs": [
    {
     "name": "stdout",
     "output_type": "stream",
     "text": [
      "\n",
      " Epochs\t | Train Acc\t | Train Loss\t | Val Acc\t | Val Loss\n",
      "--------------------------------------------------------------------\n",
      " 1\t | 0.919231\t | 0.288248\t | 0.947600\t | 0.174718\n",
      " 2\t | 0.967538\t | 0.117861\t | 0.959600\t | 0.129789\n",
      " 3\t | 0.981402\t | 0.069567\t | 0.970200\t | 0.103383\n",
      " 4\t | 0.989008\t | 0.045167\t | 0.974600\t | 0.086587\n",
      " 5\t | 0.993668\t | 0.029881\t | 0.974000\t | 0.088156\n",
      " 6\t | 0.996655\t | 0.019685\t | 0.975400\t | 0.085202\n",
      " 7\t | 0.998168\t | 0.013079\t | 0.975000\t | 0.083114\n",
      " 8\t | 0.998925\t | 0.008839\t | 0.976200\t | 0.084142\n",
      " 9\t | 0.999522\t | 0.005913\t | 0.976000\t | 0.081719\n",
      " 10\t | 0.999721\t | 0.004534\t | 0.978000\t | 0.086702\n",
      " 11\t | 0.999801\t | 0.003226\t | 0.978600\t | 0.085884\n",
      " 12\t | 1.000000\t | 0.002500\t | 0.977800\t | 0.084762\n",
      " 13\t | 1.000000\t | 0.001802\t | 0.978200\t | 0.083724\n",
      " 14\t | 1.000000\t | 0.001212\t | 0.979000\t | 0.088698\n",
      " 15\t | 0.999920\t | 0.001735\t | 0.978400\t | 0.087888\n",
      " 16\t | 0.999881\t | 0.003000\t | 0.968600\t | 0.118927\n",
      " 17\t | 0.997810\t | 0.010555\t | 0.969000\t | 0.116696\n",
      " 18\t | 0.998168\t | 0.008789\t | 0.975800\t | 0.105539\n",
      " 19\t | 0.999562\t | 0.004174\t | 0.975200\t | 0.103737\n",
      " 20\t | 1.000000\t | 0.001617\t | 0.975400\t | 0.096763\n",
      " 21\t | 1.000000\t | 0.000878\t | 0.977800\t | 0.097277\n",
      " 22\t | 1.000000\t | 0.000399\t | 0.977800\t | 0.100669\n",
      " 23\t | 1.000000\t | 0.000232\t | 0.977600\t | 0.100275\n",
      " 24\t | 1.000000\t | 0.000189\t | 0.979400\t | 0.098369\n",
      " 25\t | 1.000000\t | 0.000135\t | 0.978800\t | 0.097748\n",
      " 26\t | 1.000000\t | 0.000111\t | 0.979000\t | 0.098694\n",
      " 27\t | 1.000000\t | 0.000104\t | 0.979400\t | 0.099498\n",
      " 28\t | 1.000000\t | 0.000115\t | 0.979600\t | 0.103195\n",
      " 29\t | 1.000000\t | 0.000082\t | 0.979000\t | 0.102009\n",
      " 30\t | 1.000000\t | 0.000089\t | 0.979400\t | 0.100540\n",
      " 31\t | 1.000000\t | 0.000065\t | 0.979000\t | 0.101154\n",
      " 32\t | 1.000000\t | 0.000059\t | 0.979400\t | 0.101977\n",
      " 33\t | 1.000000\t | 0.000059\t | 0.979400\t | 0.101210\n",
      " 34\t | 1.000000\t | 0.000047\t | 0.978200\t | 0.101563\n",
      " 35\t | 1.000000\t | 0.000043\t | 0.978800\t | 0.102353\n",
      " 36\t | 1.000000\t | 0.000040\t | 0.979400\t | 0.100956\n",
      " 37\t | 1.000000\t | 0.000049\t | 0.980000\t | 0.100669\n",
      " 38\t | 1.000000\t | 0.000039\t | 0.980000\t | 0.101858\n",
      " 39\t | 0.995938\t | 0.012739\t | 0.961000\t | 0.208053\n",
      " 40\t | 0.994743\t | 0.017677\t | 0.979800\t | 0.095057\n"
     ]
    }
   ],
   "source": [
    "print(\"\\n Epochs\\t | Train Acc\\t | Train Loss\\t | Val Acc\\t | Val Loss\")\n",
    "print(\"--------------------------------------------------------------------\")\n",
    "for i in range(epochs):\n",
    "    print(\" %d\\t | %f\\t | %f\\t | %f\\t | %f\"%(i+1,train_acc[i] ,train_loss[i],val_acc[i] ,val_loss[i] ))"
   ]
  },
  {
   "cell_type": "markdown",
   "metadata": {},
   "source": [
    "### Prediction"
   ]
  },
  {
   "cell_type": "code",
   "execution_count": 22,
   "metadata": {},
   "outputs": [],
   "source": [
    "prediction_train = predict(train_x_norm, params, second_guess = True)\n",
    "prediction_dev = predict(dev_x_norm,params, second_guess = True)\n",
    "prediction_test = predict(test_x_norm, params, second_guess = True)"
   ]
  },
  {
   "cell_type": "markdown",
   "metadata": {},
   "source": [
    "### Confusion Matrix"
   ]
  },
  {
   "cell_type": "code",
   "execution_count": 23,
   "metadata": {},
   "outputs": [],
   "source": [
    "cm_train = confusion_matrix(train_y_split, prediction_train)\n",
    "cm_dev = confusion_matrix(dev_y_split, prediction_dev)\n",
    "cm_test = confusion_matrix(test_y_orig, prediction_test)"
   ]
  },
  {
   "cell_type": "code",
   "execution_count": null,
   "metadata": {},
   "outputs": [],
   "source": [
    "#plotting the confusion matrix   \n",
    "plot_confusion_matrix(cm_train, dataset_type = \"training\")"
   ]
  },
  {
   "cell_type": "code",
   "execution_count": null,
   "metadata": {},
   "outputs": [],
   "source": [
    "plot_confusion_matrix(cm_dev, dataset_type = \"dev\")"
   ]
  },
  {
   "cell_type": "code",
   "execution_count": null,
   "metadata": {},
   "outputs": [],
   "source": [
    "plot_confusion_matrix(cm_test, dataset_type = \"test\")"
   ]
  },
  {
   "cell_type": "code",
   "execution_count": 24,
   "metadata": {},
   "outputs": [
    {
     "name": "stdout",
     "output_type": "stream",
     "text": [
      "+===============+===============+===============+===============+\n",
      "| Label \t| Precision \t| Recall \t| F1 Score \t|\n",
      "+===============+===============+===============+===============+\n",
      "| 0 \t\t|  1.00000 \t|  1.00000 \t|  1.00000 \t|\n",
      "| 1 \t\t|  1.00000 \t|  1.00000 \t|  1.00000 \t|\n",
      "| 2 \t\t|  1.00000 \t|  1.00000 \t|  1.00000 \t|\n",
      "| 3 \t\t|  1.00000 \t|  1.00000 \t|  1.00000 \t|\n",
      "| 4 \t\t|  1.00000 \t|  1.00000 \t|  1.00000 \t|\n",
      "| 5 \t\t|  1.00000 \t|  1.00000 \t|  1.00000 \t|\n",
      "| 6 \t\t|  1.00000 \t|  1.00000 \t|  1.00000 \t|\n",
      "| 7 \t\t|  1.00000 \t|  1.00000 \t|  1.00000 \t|\n",
      "| 8 \t\t|  1.00000 \t|  1.00000 \t|  1.00000 \t|\n",
      "| 9 \t\t|  1.00000 \t|  1.00000 \t|  1.00000 \t|\n",
      "+===============+===============+===============+===============+\n",
      "| Macro Avg \t|  1.00000 \t|  1.00000 \t|  1.00000 \t|\n",
      "+===============+===============+===============+===============+\n",
      "\n",
      " Accuracy \t\t  1.00000\n"
     ]
    }
   ],
   "source": [
    "metrics, macro_metrics, acc = model_metrics(cm_train)\n",
    "metric_summary(metrics, macro_metrics, acc)"
   ]
  },
  {
   "cell_type": "code",
   "execution_count": 25,
   "metadata": {},
   "outputs": [
    {
     "name": "stdout",
     "output_type": "stream",
     "text": [
      "+===============+===============+===============+===============+\n",
      "| Label \t| Precision \t| Recall \t| F1 Score \t|\n",
      "+===============+===============+===============+===============+\n",
      "| 0 \t\t|  0.98984 \t|  0.98783 \t|  0.98883 \t|\n",
      "| 1 \t\t|  0.99088 \t|  0.99088 \t|  0.99088 \t|\n",
      "| 2 \t\t|  0.98099 \t|  0.97727 \t|  0.97913 \t|\n",
      "| 3 \t\t|  0.97217 \t|  0.98127 \t|  0.97670 \t|\n",
      "| 4 \t\t|  0.97938 \t|  0.98548 \t|  0.98242 \t|\n",
      "| 5 \t\t|  0.98834 \t|  0.95067 \t|  0.96914 \t|\n",
      "| 6 \t\t|  0.98539 \t|  0.99368 \t|  0.98952 \t|\n",
      "| 7 \t\t|  0.97843 \t|  0.97461 \t|  0.97652 \t|\n",
      "| 8 \t\t|  0.96327 \t|  0.99160 \t|  0.97723 \t|\n",
      "| 9 \t\t|  0.97211 \t|  0.96443 \t|  0.96825 \t|\n",
      "+===============+===============+===============+===============+\n",
      "| Macro Avg \t|  0.98008 \t|  0.97977 \t|  0.97986 \t|\n",
      "+===============+===============+===============+===============+\n",
      "\n",
      " Accuracy \t\t  0.98000\n"
     ]
    }
   ],
   "source": [
    "metrics, macro_metrics, acc = model_metrics(cm_dev)\n",
    "metric_summary(metrics, macro_metrics, acc)"
   ]
  },
  {
   "cell_type": "code",
   "execution_count": 26,
   "metadata": {},
   "outputs": [
    {
     "name": "stdout",
     "output_type": "stream",
     "text": [
      "+===============+===============+===============+===============+\n",
      "| Label \t| Precision \t| Recall \t| F1 Score \t|\n",
      "+===============+===============+===============+===============+\n",
      "| 0 \t\t|  0.98113 \t|  0.98943 \t|  0.98526 \t|\n",
      "| 1 \t\t|  0.98909 \t|  0.99270 \t|  0.99089 \t|\n",
      "| 2 \t\t|  0.96970 \t|  0.98651 \t|  0.97803 \t|\n",
      "| 3 \t\t|  0.97426 \t|  0.98400 \t|  0.97910 \t|\n",
      "| 4 \t\t|  0.97718 \t|  0.97718 \t|  0.97718 \t|\n",
      "| 5 \t\t|  0.98455 \t|  0.97593 \t|  0.98022 \t|\n",
      "| 6 \t\t|  0.98773 \t|  0.97773 \t|  0.98271 \t|\n",
      "| 7 \t\t|  0.98635 \t|  0.96750 \t|  0.97683 \t|\n",
      "| 8 \t\t|  0.97988 \t|  0.97988 \t|  0.97988 \t|\n",
      "| 9 \t\t|  0.98221 \t|  0.98028 \t|  0.98124 \t|\n",
      "+===============+===============+===============+===============+\n",
      "| Macro Avg \t|  0.98121 \t|  0.98111 \t|  0.98114 \t|\n",
      "+===============+===============+===============+===============+\n",
      "\n",
      " Accuracy \t\t  0.98120\n"
     ]
    }
   ],
   "source": [
    "metrics, macro_metrics, acc = model_metrics(cm_test)\n",
    "metric_summary(metrics, macro_metrics, acc)"
   ]
  },
  {
   "cell_type": "markdown",
   "metadata": {},
   "source": [
    "#### Visualizating  Prediction"
   ]
  },
  {
   "cell_type": "code",
   "execution_count": null,
   "metadata": {},
   "outputs": [],
   "source": [
    "visualize_prediction(train_x_split, train_y_split.T, prediction_train, dataset_type = \"training\")"
   ]
  },
  {
   "cell_type": "code",
   "execution_count": null,
   "metadata": {},
   "outputs": [],
   "source": [
    "visualize_prediction(dev_x_split, dev_y_split.T, prediction_dev, dataset_type = \"dev\")"
   ]
  },
  {
   "cell_type": "code",
   "execution_count": null,
   "metadata": {},
   "outputs": [],
   "source": [
    "visualize_prediction(test_x_orig, test_y_orig.T, prediction_test,dataset_type = \"test\")"
   ]
  },
  {
   "cell_type": "markdown",
   "metadata": {},
   "source": [
    "#### Visualizing Mislabelled Images in all datasets"
   ]
  },
  {
   "cell_type": "code",
   "execution_count": null,
   "metadata": {},
   "outputs": [],
   "source": [
    "visualize_mislabelled_images(train_x_split, train_y_split.T,prediction_train,dataset_type = \"training\")"
   ]
  },
  {
   "cell_type": "code",
   "execution_count": null,
   "metadata": {},
   "outputs": [],
   "source": [
    "visualize_mislabelled_images(dev_x_split, dev_y_split.T, prediction_dev,dataset_type = \"dev\")"
   ]
  },
  {
   "cell_type": "code",
   "execution_count": null,
   "metadata": {},
   "outputs": [],
   "source": [
    "visualize_mislabelled_images(test_x_orig, test_y_orig.T, prediction_test,dataset_type = \"test\")"
   ]
  },
  {
   "cell_type": "markdown",
   "metadata": {},
   "source": [
    "### Predicting Real Time images"
   ]
  },
  {
   "cell_type": "code",
   "execution_count": null,
   "metadata": {},
   "outputs": [],
   "source": [
    "from PIL import Image"
   ]
  },
  {
   "cell_type": "code",
   "execution_count": null,
   "metadata": {
    "scrolled": true
   },
   "outputs": [],
   "source": [
    "image_name = \"8_1.jpg\" \n",
    "\n",
    "fname = \"Sample Images/\" + image_name\n",
    "\n",
    "image_data = np.asarray(Image.open(fname).convert('L').resize((28,28)))\n",
    "if image_data[1,1] > 250: #if background is white, reversing the fore and background color to match training images\n",
    "            image_data = 255 - image_data\n",
    "def predict_real_time(image_data, second_guess = True):\n",
    "    image_flattened = image_data.reshape(image_data.shape[0]*image_data.shape[1],-1)\n",
    "    image_norm =(image_flattened/255.)\n",
    "\n",
    "    prediction = predict(image_norm, params, second_guess = second_guess)\n",
    "    \n",
    "    return prediction\n",
    "    \n",
    "prediction = predict_real_time(image_data, second_guess = True)\n",
    "\n",
    "first_lbl, first_prob = prediction[\"First Prediction\"]\n",
    "sec_lbl, sec_prob = prediction[\"Second Prediction\"]\n",
    "\n",
    "# plt.title(\"True Label: \"+ str(label.squeeze()))\n",
    "plt.xlabel(\"Prediction: %d | With Prob: %.4f \\n2nd Guess: %d | With Prob: %.4f\"%(first_lbl, first_prob, sec_lbl, sec_prob), fontsize = 14)\n",
    "plt.imshow(image_data, interpolation ='nearest',cmap='gray')\n",
    "plt.colorbar()\n"
   ]
  },
  {
   "cell_type": "markdown",
   "metadata": {},
   "source": [
    "## Saving and Loading model"
   ]
  },
  {
   "cell_type": "code",
   "execution_count": null,
   "metadata": {},
   "outputs": [],
   "source": [
    "from datetime import date\n",
    "\n",
    "d = date.today()\n",
    "\n",
    "path = \"Saved Models/\"\n",
    "fname = str(d) + \"_Augmented_best_model_test_acc_98-84\"\n",
    "\n",
    "print(fname)\n",
    "\n",
    "model = {\"Parameters\": params,\n",
    "         \"Activations\": [\"relu\",\"relu\",\"softmax\"],\n",
    "## Save the following info if needed\n",
    "         \"Hyper Parameters\": hyperParams,\n",
    "         \"initialization\":\"he\",\n",
    "         \"regularizer\":\"dropout\",\n",
    "         \"optimizer\":\"adam\"\n",
    "        }\n",
    "save_model(file_name = path+fname, model = model)"
   ]
  },
  {
   "cell_type": "code",
   "execution_count": null,
   "metadata": {},
   "outputs": [],
   "source": [
    "# loading model\n",
    "path = \"Saved Models/\"\n",
    "\n",
    "model = load_model(file_name =path+ \"2020-07-21_Augmented_best_model_test_acc_98-84\")\n",
    "\n",
    "loaded_params = model[\"Parameters\"]"
   ]
  },
  {
   "cell_type": "code",
   "execution_count": null,
   "metadata": {},
   "outputs": [],
   "source": [
    "L = len(loaded_params) // 2\n",
    "print(\"Total Layers %d: \"%L)\n",
    "for l in range(L):\n",
    "    print(loaded_params[\"W\" + str(l+1)].shape[0])\n"
   ]
  },
  {
   "cell_type": "markdown",
   "metadata": {},
   "source": [
    "## To Do"
   ]
  },
  {
   "cell_type": "markdown",
   "metadata": {},
   "source": [
    "- [ ] Optimize and refactor the code\n",
    "- [ ] Prepare the doc String\n",
    "- [x] add verbose: Integer. 0, 1, 2 or 3. Verbosity mode.\n",
    "- [ ] Batch norm\n",
    "- [ ] Maxout\n",
    "- [ ] Drop Connect\n",
    "- [x] Data Augmentation if possible"
   ]
  },
  {
   "cell_type": "code",
   "execution_count": null,
   "metadata": {},
   "outputs": [],
   "source": [
    "!jupyter-nbconvert --to html 'Project Modules Evaluation.ipynb' --output Experiments/experiment-7/random_search_lr_vs_minibatchsize_arch1_with_analysis.html"
   ]
  }
 ],
 "metadata": {
  "kernelspec": {
   "display_name": "Python 3",
   "language": "python",
   "name": "python3"
  },
  "language_info": {
   "codemirror_mode": {
    "name": "ipython",
    "version": 3
   },
   "file_extension": ".py",
   "mimetype": "text/x-python",
   "name": "python",
   "nbconvert_exporter": "python",
   "pygments_lexer": "ipython3",
   "version": "3.8.3"
  }
 },
 "nbformat": 4,
 "nbformat_minor": 4
}
