{
 "cells": [
  {
   "cell_type": "markdown",
   "metadata": {},
   "source": [
    "## Importing Dependencies"
   ]
  },
  {
   "cell_type": "code",
   "execution_count": 1,
   "metadata": {},
   "outputs": [],
   "source": [
    "import tkinter as tk\n",
    "from tkinter.filedialog import askopenfilename\n",
    "from PIL import ImageTk, Image\n",
    "try:\n",
    "    import pyscreenshot as ImageGrab\n",
    "except:\n",
    "    !pip install pyscreenshot\n",
    "    import pyscreenshot as ImageGrab\n",
    "    \n",
    "import numpy as np\n",
    "\n",
    "\n",
    "#importing custom modules\n",
    "from ModelUtils import load_model\n",
    "from ffnn import predict\n",
    "\n"
   ]
  },
  {
   "cell_type": "markdown",
   "metadata": {},
   "source": [
    "### Loading model parameters and Preprocessing Image"
   ]
  },
  {
   "cell_type": "code",
   "execution_count": 2,
   "metadata": {},
   "outputs": [],
   "source": [
    "# Loading the model parameters\n",
    "def load_parameters():\n",
    "    path = \"Saved Models/\"\n",
    "    file_name = path + \"2020-08-16_online_Augmented_best_model_test_acc_0.9897\"\n",
    "    model = load_model(file_name)\n",
    "    return model[\"Parameters\"]\n",
    "\n",
    "# Preprocessing the image\n",
    "def process_image(image):\n",
    "    #writting the image into global image_data variable\n",
    "    global image_data\n",
    "    img = np.asarray(image.convert('L').resize((28,28)))\n",
    "    if img[1,1] > 250: #if background is white, reversing the fore and background color to match training images\n",
    "            img = 255 - img\n",
    "    \n",
    "    image_flattened = img.reshape(img.shape[0]*img.shape[1],-1)\n",
    "    image_data =(image_flattened/255.)       \n"
   ]
  },
  {
   "cell_type": "markdown",
   "metadata": {},
   "source": [
    "### Drawing on canvas, capturing image and Clearing Canvas"
   ]
  },
  {
   "cell_type": "code",
   "execution_count": 8,
   "metadata": {},
   "outputs": [],
   "source": [
    "# Drawing on Canvas\n",
    "def draw_on_canvas(event):\n",
    "    x = event.x\n",
    "    y = event.y\n",
    "    r = 5\n",
    "    drawCanvas.create_oval( x-r, y-r, x+r, y+r,  fill='black',width = 5)\n",
    "\n",
    "# Capturing the drawn Image\n",
    "def capture_canvas_screen():\n",
    "    #getting the coordinates of the canvas\n",
    "    root_x = root.winfo_rootx()\n",
    "    root_y = root.winfo_rooty()\n",
    "    label_y = inputLbl.winfo_height()\n",
    "    canvas_x = root_x + drawCanvas.winfo_x()\n",
    "    canvas_y =  root_y + label_y + drawCanvas.winfo_y()\n",
    "    canvas_width = drawCanvas.winfo_width()\n",
    "    canvas_height =  drawCanvas.winfo_height()\n",
    "   \n",
    "    #Capturing the image in canvas\n",
    "    imageDrawn = ImageGrab.grab(bbox=(canvas_x, canvas_y, canvas_x+canvas_width, canvas_y+canvas_height))    \n",
    "    \n",
    "    #showing the captured image in preview screen\n",
    "    preview_image(imageDrawn)\n",
    "    \n",
    "    #processing the image before prediction\n",
    "    process_image(imageDrawn)   \n",
    "\n",
    "# Clearing the canvas\n",
    "def clear_canvas():\n",
    "    drawCanvas.delete(\"all\")"
   ]
  },
  {
   "cell_type": "markdown",
   "metadata": {},
   "source": [
    "### Uploading Image from Local Storage"
   ]
  },
  {
   "cell_type": "code",
   "execution_count": 4,
   "metadata": {},
   "outputs": [],
   "source": [
    "def upload_image():\n",
    "    filename = askopenfilename() # show an \"Open\" dialog box and return the path to the selected file\n",
    "    imageUpload = Image.open(filename) \n",
    "    \n",
    "    #extracting the image name from the file path and displaying it\n",
    "    image_name = filename.split(\"/\")[-1]\n",
    "    fileNamelbl = tk.Label(uploadPane, text = image_name, bg = \"white\")\n",
    "    fileNamelbl.place(relx = 0.4, rely = 0.05 , relwidth = 0.55, relheight = 0.08 )\n",
    "    \n",
    "    #showing the uploaded image in preview screen\n",
    "    preview_image(imageUpload)\n",
    "    \n",
    "    #processing the image before prediction\n",
    "    process_image(imageUpload)"
   ]
  },
  {
   "cell_type": "markdown",
   "metadata": {},
   "source": [
    "### Previewing Uploaded or Drawn Image"
   ]
  },
  {
   "cell_type": "code",
   "execution_count": 5,
   "metadata": {},
   "outputs": [],
   "source": [
    "def preview_image(image):\n",
    "    #rendering the preview of image in the Preview Pane\n",
    "    image = image.resize((300, 300), Image.ANTIALIAS)\n",
    "    imageRender = ImageTk.PhotoImage(image)\n",
    "    img = tk.Label(previewCanvas, image=imageRender)\n",
    "    img.image = imageRender\n",
    "    img.place(relx = 0, rely = 0, relwidth = 1, relheight = 1 )"
   ]
  },
  {
   "cell_type": "markdown",
   "metadata": {},
   "source": [
    "### Predicting the image Class"
   ]
  },
  {
   "cell_type": "code",
   "execution_count": 6,
   "metadata": {},
   "outputs": [],
   "source": [
    "def classify():\n",
    "#     root.after(100,capture_canvas_screen)\n",
    "    # Pridicting only of image is drawn or uploaded\n",
    "    if not np.equal(image_data, np.zeros((784,1))).all():\n",
    "    \n",
    "        prediction = predict(image_data, params, second_guess = True)\n",
    "\n",
    "        first_lbl, first_prob = prediction[\"First Prediction\"]\n",
    "        sec_lbl, sec_prob = prediction[\"Second Prediction\"]\n",
    "\n",
    "        firstPredLbl = tk.Label(firstPredictionPane, text = first_lbl.squeeze(), font=(\"Helvetica\", 48))\n",
    "        firstPredLbl.place(relx = 0, rely = 0, relwidth = 1, relheight = 0.6 )\n",
    "\n",
    "        firstPredProb = tk.Label(firstPredictionPane, text = \"Prob: %.4f\"%first_prob.squeeze(), font=(\"Helvetica\", 24))\n",
    "        firstPredProb.place(relx = 0, rely = 0.6, relwidth = 1, relheight = 0.4 )\n",
    "\n",
    "        fsecondPredLbl = tk.Label(secondPredictionPane, text = \"Second Guess: \\n%d\"%sec_lbl.squeeze(), font=(\"Helvetica\", 32))\n",
    "        fsecondPredLbl.place(relx = 0, rely = 0, relwidth = 1, relheight = 0.6 )\n",
    "\n",
    "        fsecondPredProb = tk.Label(secondPredictionPane, text = \"Prob: %.4f\"%sec_prob.squeeze(), font=(\"Helvetica\", 24))\n",
    "        fsecondPredProb.place(relx = 0, rely = 0.6, relwidth = 1, relheight = 0.4 )\n",
    "    \n",
    "    else:\n",
    "        firstPredLbl = tk.Label(firstPredictionPane, text = \"Please Upload or \\nDraw an Image first\", font=(\"Helvetica\", 20))\n",
    "        firstPredLbl.place(relx = 0, rely = 0, relwidth = 1, relheight = 0.6 )\n",
    "       \n",
    "   "
   ]
  },
  {
   "cell_type": "markdown",
   "metadata": {},
   "source": [
    "### GUI Application Interface"
   ]
  },
  {
   "cell_type": "code",
   "execution_count": 9,
   "metadata": {
    "scrolled": true
   },
   "outputs": [],
   "source": [
    " \n",
    "root = tk.Tk()\n",
    "HEIGHT = 800\n",
    "WIDTH = 800\n",
    "image_data = np.zeros((784,1))\n",
    "\n",
    "#preloading the trained model's parameters\n",
    "params = load_parameters()\n",
    "\n",
    "root.geometry(str(WIDTH) + \"x\" + str(HEIGHT) )\n",
    "root.resizable(width=False, height=False)\n",
    "\n",
    "#creating Frames\n",
    "imageFrame = tk.Frame(root, bg = \"red\") #contains ways to input image\n",
    "actionFrame = tk.Frame(root, bg = \"blue\") # contains options for result and buttons for action\n",
    "predictionFrame = tk.Frame(root, bg = \"white\") # consists of result of the prediction\n",
    "\n",
    "imageFrame.place(relx=0  ,rely=0 ,relwidth = 1, relheight = 0.6)\n",
    "actionFrame.place(relx=0  ,rely=0.6 ,relwidth = 1, relheight = 0.1)\n",
    "predictionFrame.place(relx =0 , rely =0.7 , relwidth = 1, relheight = 0.3)\n",
    "\n",
    "#Image Frame\n",
    "inputLbl = tk.Label(imageFrame, text=\"Input Image\", font=(\"Helvetica\", 24))\n",
    "inputLbl.place(relx = 0, rely = 0, relwidth = 1, relheight = 0.1 )\n",
    "\n",
    "##Creating Panes for Image Input\n",
    "drawPane = tk.PanedWindow(imageFrame,bg = \"yellow\" )\n",
    "uploadPane = tk.PanedWindow(imageFrame,bg = \"green\" )\n",
    "\n",
    "drawPane.place(relx = 0, rely = 0.1, relwidth = 0.5, relheight = 0.9)\n",
    "uploadPane.place(relx = 0.5, rely = 0.1, relwidth = 0.5, relheight = 0.9)\n",
    "\n",
    "## drawPane\n",
    "#creating components for drawPan\n",
    "# drawLbl = tk.Label(drawPane, text=\"Draw a Digit\")\n",
    "captureBtn = tk.Button(drawPane, text = \"Capture Drawing\", command = capture_canvas_screen )\n",
    "drawCanvas = tk.Canvas(drawPane,bg = \"white\", cursor=\"cross\")\n",
    "\n",
    "captureBtn.place(relx = 0.05, rely = 0.05, relwidth = 0.3, relheight = 0.08 )\n",
    "drawCanvas.place(relx = 0.05, rely = 0.15, relwidth = 0.9, relheight = 0.8 )\n",
    "# drawCanvas.bind(\"<Button-1>\", get_prev_xy)\n",
    "drawCanvas.bind(\"<B1-Motion>\", draw_on_canvas)\n",
    "\n",
    "\n",
    "##uploadPane\n",
    "uploadBtn = tk.Button(uploadPane, text = \"Upload\", command = upload_image )\n",
    "previewCanvas = tk.Canvas(uploadPane, bg = \"white\")\n",
    "previewlbl = tk.Label(previewCanvas, text = \"Preview\")\n",
    "\n",
    "uploadBtn.place(relx = 0.05, rely = 0.05 , relwidth = 0.3, relheight = 0.08 )\n",
    "previewCanvas.place(relx = 0.05, rely = 0.15, relwidth =0.9, relheight = 0.8 )\n",
    "previewlbl.place(relx = 0, rely = 0, relwidth = 1, relheight = 1 )\n",
    "\n",
    "#Action Frame\n",
    "\n",
    "optionPane = tk.PanedWindow(actionFrame, bg = \"green\")\n",
    "buttonPane = tk.PanedWindow(actionFrame,bg = \"white\" )\n",
    "\n",
    "optionPane.place(relx = 0, rely = 0, relwidth = 0.5, relheight = 1)\n",
    "buttonPane.place(relx = 0.5, rely = 0, relwidth = 0.5, relheight = 1)\n",
    "\n",
    "#Prediction Frame\n",
    "predictLbl = tk.Label(predictionFrame, text=\"Prediction\", font=(\"Helvetica\", 24))\n",
    "predictLbl.place(relx = 0, rely = 0, relwidth = 1, relheight = 0.2 )\n",
    "\n",
    "firstPredictionPane = tk.PanedWindow(predictionFrame,bg = \"white\" )\n",
    "secondPredictionPane = tk.PanedWindow(predictionFrame,bg = \"yellow\" )\n",
    "\n",
    "firstPredictionPane.place(relx = 0, rely = 0.2, relwidth = 0.5, relheight = 0.8)\n",
    "secondPredictionPane.place(relx = 0.5, rely = 0.2, relwidth = 0.5, relheight = 0.8)\n",
    "\n",
    "\n",
    "## buttonPane\n",
    "classifyBtn = tk.Button(buttonPane,text = \"Predict\", command = classify)\n",
    "button_clear = tk.Button(buttonPane, text = \"Clear\", command = clear_canvas)\n",
    "\n",
    "classifyBtn.place(relx = 0.05, rely = 0.1, relwidth = 0.45, relheight = 0.8 )\n",
    "button_clear.place(relx = 0.55, rely = 0.1, relwidth = 0.40, relheight = 0.8)\n",
    "\n",
    "\n",
    "root.mainloop()\n"
   ]
  },
  {
   "cell_type": "markdown",
   "metadata": {},
   "source": [
    "https://ubuntuforums.org/showthread.php?t=448160&s=05d56415c41bc81c2da564b5bb8d007b&p=2681009#post2681009"
   ]
  },
  {
   "cell_type": "code",
   "execution_count": null,
   "metadata": {},
   "outputs": [],
   "source": []
  },
  {
   "cell_type": "code",
   "execution_count": null,
   "metadata": {},
   "outputs": [],
   "source": []
  },
  {
   "cell_type": "code",
   "execution_count": null,
   "metadata": {},
   "outputs": [],
   "source": [
    "#experimenting\n",
    "image_name = \"9_2.jpg\" \n",
    "label = np.array([9]).reshape(1,1)\n",
    "\n",
    "fname = \"Sample Images/\" + image_name\n",
    "\n",
    "# def classify_image(fname):\n",
    "image_data = 255 - np.asarray(Image.open(fname).convert('L').resize((28,28)))\n",
    "image_flattened = image_data.reshape(image_data.shape[0]*image_data.shape[1],-1)\n",
    "image_norm =(image_flattened/255.)\n",
    "\n",
    "\n",
    "prediction = predict(image_norm, trained_params,second_guess = True)\n",
    "\n",
    "#     return prediction\n",
    "\n",
    "\n",
    "# prediction  = classify_image(fname)\n",
    "first_lbl, first_prob = prediction[\"First Prediction\"]\n",
    "sec_lbl, sec_prob = prediction[\"Second Prediction\"]\n",
    "\n",
    "fig,ax = plt.subplots(nrows =1 , ncols =2 , figsize = (10,8))\n",
    "fig.subplots_adjust(hspace=0)\n",
    "\n",
    "ax[0].set_title(\"True Label: \"+ str(label.squeeze()))\n",
    "ax[0].set_xlabel(\"1st Prediction: %d | With Prob: %.4f \\n2nd Prediction: %d | With Prob: %.4f\"%(first_lbl, first_prob, sec_lbl, sec_prob))\n",
    "im = ax[0].imshow(image_data, interpolation ='nearest',cmap='binary')\n",
    "\n",
    "# fig.colorbar(im)\n",
    "ax[1].barh([first_lbl.squeeze(),sec_lbl.squeeze() ],[first_prob.squeeze(),sec_prob.squeeze()])\n",
    "ax[1].set_ylim(bottom = 0, top = 9)"
   ]
  }
 ],
 "metadata": {
  "kernelspec": {
   "display_name": "Python 3",
   "language": "python",
   "name": "python3"
  },
  "language_info": {
   "codemirror_mode": {
    "name": "ipython",
    "version": 3
   },
   "file_extension": ".py",
   "mimetype": "text/x-python",
   "name": "python",
   "nbconvert_exporter": "python",
   "pygments_lexer": "ipython3",
   "version": "3.7.7"
  }
 },
 "nbformat": 4,
 "nbformat_minor": 4
}
