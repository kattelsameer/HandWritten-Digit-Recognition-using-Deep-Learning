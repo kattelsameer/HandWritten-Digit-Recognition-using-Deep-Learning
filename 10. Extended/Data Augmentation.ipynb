{
 "cells": [
  {
   "cell_type": "markdown",
   "metadata": {},
   "source": [
    "# Image Augmentation"
   ]
  },
  {
   "cell_type": "markdown",
   "metadata": {},
   "source": [
    "## Importing Dependencies"
   ]
  },
  {
   "cell_type": "code",
   "execution_count": 1,
   "metadata": {},
   "outputs": [],
   "source": [
    "# standard python modules\n",
    "import os # for working with directories\n",
    "import os.path # for working with paths\n",
    "\n",
    "#core python modules\n",
    "from PIL import Image # for loading and saving images\n",
    "from scipy import ndimage # for core image processing namely, rotate, blur and shift\n",
    "\n",
    "import numpy as np # for all other maths operations \n",
    "import matplotlib.pyplot as plt # for image visualization\n",
    "\n",
    "#custom project modules\n",
    "from dataset import get_files \n",
    "from dataset import load_dataset, visualize_dataset, sample_dataset"
   ]
  },
  {
   "cell_type": "markdown",
   "metadata": {},
   "source": [
    "### Loading MNIST dataset form binary data file"
   ]
  },
  {
   "cell_type": "code",
   "execution_count": 2,
   "metadata": {},
   "outputs": [
    {
     "name": "stdout",
     "output_type": "stream",
     "text": [
      "Sample Size : 20%\n",
      "\n",
      "Data\t\t\t Datatype\t\t Dataset Size\n",
      "=================================================================\n",
      "Training Set Images:\t<class 'numpy.ndarray'>\t (12000, 28, 28)\n",
      "Training Set Labels:\t<class 'numpy.ndarray'>\t (12000, 1)\n",
      "Test Set Images:\t<class 'numpy.ndarray'>\t (2000, 28, 28)\n",
      "Test Set Labels:\t<class 'numpy.ndarray'>\t (2000, 1)\n",
      "=================================================================\n"
     ]
    }
   ],
   "source": [
    "dataset_size_in_per = 20\n",
    "\n",
    "train_x_orig, train_y_orig, test_x_orig, test_y_orig = load_dataset(dataset = \"mnist\", size_in_per = dataset_size_in_per)\n",
    "\n",
    "print(\"Sample Size : %d%%\\n\"%(dataset_size_in_per))\n",
    "print(\"Data\\t\\t\\t\",\"Datatype\\t\\t\",\"Dataset Size\")\n",
    "print(\"=================================================================\")\n",
    "print(\"Training Set Images:\\t\" + str(type(train_x_orig))+\"\\t\",str(train_x_orig.shape))\n",
    "print(\"Training Set Labels:\\t\" + str(type(train_y_orig))+\"\\t\",str(train_y_orig.shape))\n",
    "print(\"Test Set Images:\\t\" + str(type(test_x_orig))+\"\\t\",str(test_x_orig.shape))\n",
    "print(\"Test Set Labels:\\t\" + str(type(test_y_orig))+\"\\t\",str(test_y_orig.shape))\n",
    "print(\"=================================================================\")\n",
    "\n"
   ]
  },
  {
   "cell_type": "code",
   "execution_count": null,
   "metadata": {},
   "outputs": [],
   "source": [
    "visualize_dataset(train_x_orig, train_y_orig, dataset = \"mnist\", dataset_type = \"training\")"
   ]
  },
  {
   "cell_type": "markdown",
   "metadata": {},
   "source": [
    "## Geometric Transformations"
   ]
  },
  {
   "cell_type": "code",
   "execution_count": 3,
   "metadata": {},
   "outputs": [
    {
     "name": "stdout",
     "output_type": "stream",
     "text": [
      "(5, 28, 28) (5, 1)\n"
     ]
    },
    {
     "data": {
      "image/png": "[encoded data removed]",
      "text/plain": [
       "<Figure size 720x216 with 5 Axes>"
      ]
     },
     "metadata": {
      "needs_background": "light"
     },
     "output_type": "display_data"
    }
   ],
   "source": [
    "imgs = train_x_orig[65:70]\n",
    "lbls = train_y_orig[65:70]\n",
    "print(imgs.shape, lbls.shape)\n",
    "fig = plt.figure(figsize=(10, 3))\n",
    "axes= fig.subplots(1, imgs.shape[0])\n",
    "for i, img in enumerate(imgs):\n",
    "    axes[i].imshow(img, cmap = \"gray\")\n",
    "    axes[i].set_title(\"Label: %s\"%lbls[i])\n"
   ]
  },
  {
   "cell_type": "markdown",
   "metadata": {},
   "source": [
    "## Rotating Image"
   ]
  },
  {
   "cell_type": "code",
   "execution_count": 4,
   "metadata": {},
   "outputs": [],
   "source": [
    "#rotating and rotating+zooming\n",
    "\n",
    "def rotate_images(images,labels, save_image = False):\n",
    "    m = labels.shape[0]\n",
    "    \n",
    "    if save_image:\n",
    "        path = \"dataset/mnist_augmented/rotated/\"\n",
    "        if not os.path.exists(path):\n",
    "            os.makedirs(path)  # creating required directories recursively\n",
    "\n",
    "    rotated_images = []\n",
    "    \n",
    "    for i in range(m):    \n",
    "        # randomly selecting angle between the range -45 to -15 and 15 to 45\n",
    "        pos_angle = np.random.randint(low = 0, high = 60)\n",
    "        neg_angle = np.random.randint(low = -60, high = 0)\n",
    "        angle = np.random.choice([pos_angle,neg_angle])\n",
    "\n",
    "        rotated_img = ndimage.rotate(images[i], angle, reshape=False, mode = \"nearest\")\n",
    "        \n",
    "        if(save_image):\n",
    "            img = Image.fromarray((rotated_img * 255).astype(np.uint8))\n",
    "            img.save(path + str(np.squeeze(labels[i]))+\"_rotated_\"+str(i+1)+\".jpg\")\n",
    "            \n",
    "        rotated_images.append(rotated_img)\n",
    "    \n",
    "    return np.asarray(rotated_images), labels\n",
    "\n",
    "   \n",
    "    "
   ]
  },
  {
   "cell_type": "code",
   "execution_count": 6,
   "metadata": {},
   "outputs": [
    {
     "data": {
      "image/png": "[encoded data removed]",
      "text/plain": [
       "<Figure size 720x216 with 5 Axes>"
      ]
     },
     "metadata": {
      "needs_background": "light"
     },
     "output_type": "display_data"
    }
   ],
   "source": [
    "fig = plt.figure(figsize=(10, 3))\n",
    "axes = fig.subplots(1, imgs.shape[0])\n",
    "\n",
    "rotated_images, labels = rotate_images(imgs,lbls, save_image = False)\n",
    "for i in range(lbls.shape[0]):\n",
    "    axes[i].imshow(rotated_images[i], cmap='gray')\n",
    "    axes[i].set_title(\"Label: %s\"%labels[i])\n",
    "    axes[i].set_axis_off()\n",
    "\n",
    "fig.set_tight_layout(True)\n",
    "plt.show()\n"
   ]
  },
  {
   "cell_type": "markdown",
   "metadata": {},
   "source": [
    "## Blurring using different filters"
   ]
  },
  {
   "cell_type": "code",
   "execution_count": 7,
   "metadata": {},
   "outputs": [],
   "source": [
    "#blurring using Gaussian Filter\n",
    "def blur_images(images, labels, filter_mode = \"random\", random_filter = False, save_image = False):\n",
    "    m = labels.shape[0]\n",
    "    \n",
    "    if save_image:\n",
    "        path = \"dataset/mnist_augmented/blurred/\"\n",
    "        if not os.path.exists(path):\n",
    "            os.makedirs(path)  # creating required directories recursively\n",
    "\n",
    "    blurred_images = []\n",
    "\n",
    "    for i in range(m):    \n",
    "        \n",
    "        if random_filter:\n",
    "            filters = ['gaussian', 'maximum', 'minimum', 'median', 'uniform']\n",
    "            filter_mode = np.random.choice(filters)\n",
    "            \n",
    "        if filter_mode == \"gaussian\":\n",
    "            sig = np.random.uniform(low = 0, high = 2.5)\n",
    "            blurred_img = ndimage.gaussian_filter(images[i], sigma=sig,  mode = \"nearest\")\n",
    "\n",
    "        elif filter_mode ==\"maximum\":\n",
    "            s = np.random.uniform(low = 0, high = 4)\n",
    "            blurred_img = ndimage.maximum_filter(images[i], size= s,  mode = \"nearest\")\n",
    "\n",
    "        elif filter_mode == \"minimum\":\n",
    "            s = np.random.uniform(low = 0, high = 4)\n",
    "            blurred_img = ndimage.minimum_filter(images[i], size= s,  mode = \"nearest\")\n",
    "\n",
    "        elif filter_mode == \"median\":\n",
    "            s = np.random.randint(low = 1, high = 6)\n",
    "            blurred_img = ndimage.median_filter(images[i], size= s,  mode = \"nearest\")\n",
    "\n",
    "        elif filter_mode == \"uniform\":\n",
    "            s = np.random.uniform(low = 1, high = 6)\n",
    "            blurred_img = ndimage.uniform_filter(images[i], size= s, mode = \"nearest\")\n",
    "\n",
    "        else:\n",
    "            raise ValueError(\"filter mode should only be 'gaussian', 'maximum', 'minimum', 'median', or 'uniform'\")\n",
    "        \n",
    "        if(save_image):\n",
    "                img = Image.fromarray((blurred_img * 255).astype(np.uint8))\n",
    "                img.save(path + str(np.squeeze(labels[i]))+\"_blurred_\"+filter_mode+\"_\"+str(i+1)+\".jpg\")\n",
    "\n",
    "        blurred_images.append(blurred_img)\n",
    "    \n",
    "    return np.asarray(blurred_images), labels\n"
   ]
  },
  {
   "cell_type": "code",
   "execution_count": 9,
   "metadata": {},
   "outputs": [
    {
     "data": {
      "image/png": "[encoded data removed]",
      "text/plain": [
       "<Figure size 720x216 with 5 Axes>"
      ]
     },
     "metadata": {
      "needs_background": "light"
     },
     "output_type": "display_data"
    }
   ],
   "source": [
    "fig = plt.figure(figsize=(10, 3))\n",
    "axes = fig.subplots(1, imgs.shape[0])\n",
    "\n",
    "blurred_images, labels = blur_images(imgs,lbls, filter_mode = \"uniform\",random_filter = True, save_image = False)\n",
    "\n",
    "for i in range(lbls.shape[0]):\n",
    "    axes[i].imshow(blurred_images[i], cmap='gray')\n",
    "    axes[i].set_title(\"Label: %s\"%labels[i])\n",
    "    axes[i].set_axis_off()\n",
    "\n",
    "fig.set_tight_layout(True)\n",
    "plt.show()\n"
   ]
  },
  {
   "cell_type": "markdown",
   "metadata": {},
   "source": [
    "## Shifting Image"
   ]
  },
  {
   "cell_type": "code",
   "execution_count": 10,
   "metadata": {},
   "outputs": [],
   "source": [
    "#Shifting image\n",
    "def shift_images(images,labels, shifting =\"both\", save_image = False):\n",
    "    m = labels.shape[0]\n",
    "    \n",
    "    if save_image:\n",
    "        path = \"dataset/mnist_augmented/shifted/\"\n",
    "        if not os.path.exists(path):\n",
    "            os.makedirs(path)  # creating required directories recursively\n",
    "\n",
    "    shifted_images = []\n",
    "    low = -7\n",
    "    high = 7\n",
    "    \n",
    "    for i in range(m):    \n",
    "         # randomly selecting angle between the range -45 to -15 and 15 to 45\n",
    "        \n",
    "        if shifting == \"horizontal\":\n",
    "            xs = 0\n",
    "            ys = np.random.uniform(low, high)\n",
    "            \n",
    "            \n",
    "        elif shifting == \"vertical\":\n",
    "            ys = 0\n",
    "            xs = np.random.uniform(low , high)\n",
    "            \n",
    "        elif shifting == \"both\":\n",
    "            xs = np.random.uniform(low , high)\n",
    "            ys = np.random.uniform(low , high)\n",
    "        else:\n",
    "            raise ValueError(\"Shifting should only be 'horizontal', 'vertical', or 'both'\")\n",
    "            \n",
    "\n",
    "        shifted_img = ndimage.shift(images[i], shift= (xs,ys), mode = \"nearest\")\n",
    "        \n",
    "        if(save_image):\n",
    "            img = Image.fromarray((shifted_img * 255).astype(np.uint8))\n",
    "            img.save(path + str(np.squeeze(labels[i]))+\"_shifted_\"+shifting+\"_\"+str(i+1)+\".jpg\")\n",
    "            \n",
    "        shifted_images.append(shifted_img)\n",
    "    \n",
    "    return np.asarray(shifted_images), labels\n",
    "\n",
    "   "
   ]
  },
  {
   "cell_type": "code",
   "execution_count": 11,
   "metadata": {},
   "outputs": [
    {
     "data": {
      "image/png": "[encoded data removed]",
      "text/plain": [
       "<Figure size 720x216 with 5 Axes>"
      ]
     },
     "metadata": {
      "needs_background": "light"
     },
     "output_type": "display_data"
    }
   ],
   "source": [
    "fig = plt.figure(figsize=(10, 3))\n",
    "axes = fig.subplots(1, imgs.shape[0])\n",
    "\n",
    "shifted_images, labels = shift_images(imgs,lbls, shifting =\"both\", save_image = False)\n",
    "\n",
    "for i in range(lbls.shape[0]):\n",
    "    axes[i].imshow(shifted_images[i], cmap='gray')\n",
    "    axes[i].set_title(\"Label: %s\"%labels[i])\n",
    "    axes[i].set_axis_off()\n",
    "\n",
    "fig.set_tight_layout(True)\n",
    "plt.show()\n"
   ]
  },
  {
   "cell_type": "markdown",
   "metadata": {},
   "source": [
    "## Cropping and Padding"
   ]
  },
  {
   "cell_type": "code",
   "execution_count": 12,
   "metadata": {},
   "outputs": [],
   "source": [
    "#cropping image\n",
    "def crop_and_pad_images(images, labels, crop_center = False, save_image = False):\n",
    "   \n",
    "    m = labels.shape[0]\n",
    "    \n",
    "    if save_image:\n",
    "        path = \"dataset/mnist_augmented/cropped_and_padded/\"\n",
    "        if not os.path.exists(path):\n",
    "            os.makedirs(path)  # creating required directories recursively\n",
    "\n",
    "    cropped_images = []\n",
    "    low = 4\n",
    "    high = 20\n",
    "    \n",
    "    for i in range(m):    \n",
    "        lx, ly = images[i].shape\n",
    "        cropped_image = np.zeros((lx,ly))\n",
    "        cropped_image.fill(0) #padding with pixelvalue; 255 for white and 0 for black padding\n",
    "        if crop_center: # this will work as zoom and crop\n",
    "            # randomly selecting  the range for central cropping\n",
    "            c = np.random.randint(low = 4, high = 10)\n",
    "            cropped_image[lx // c: - lx // c, ly // c: - ly // c] = np.copy(images[i][lx // c: - lx // c, ly // c: - ly // c])\n",
    "        else: \n",
    "            # randomly selecting  the range for cropping across different axis\n",
    "            clx = np.random.randint(low, high )\n",
    "            crx= np.random.randint(low, high )\n",
    "            cly = np.random.randint(low, high )\n",
    "            cry = np.random.randint(low, high )\n",
    "            cropped_image[lx // clx: - lx // crx, ly // cly: - ly // cry] = np.copy(images[i][lx // clx: - lx // crx, ly // cly: - ly // cry])\n",
    "\n",
    "        if(save_image):\n",
    "            img = Image.fromarray((cropped_image * 255).astype(np.uint8))\n",
    "            img.save(path + str(np.squeeze(labels[i]))+\"_cropped_\"+str(i+1)+\".jpg\")\n",
    "            \n",
    "        cropped_images.append(cropped_image)\n",
    "    \n",
    "    return np.asarray(cropped_images), labels\n"
   ]
  },
  {
   "cell_type": "code",
   "execution_count": 13,
   "metadata": {},
   "outputs": [
    {
     "data": {
      "image/png": "[encoded data removed]",
      "text/plain": [
       "<Figure size 720x216 with 5 Axes>"
      ]
     },
     "metadata": {
      "needs_background": "light"
     },
     "output_type": "display_data"
    }
   ],
   "source": [
    "fig = plt.figure(figsize=(10, 3))\n",
    "axes = fig.subplots(1, imgs.shape[0])\n",
    "\n",
    "cropped_images, labels = crop_and_pad_images(imgs,lbls,crop_center = False, save_image = False)\n",
    "\n",
    "for i in range(lbls.shape[0]):\n",
    "    axes[i].imshow(cropped_images[i], cmap='gray')\n",
    "    axes[i].set_title(\"Label: %s\"%labels[i])\n",
    "    axes[i].set_axis_off()\n",
    "\n",
    "fig.set_tight_layout(True)\n",
    "plt.show()\n"
   ]
  },
  {
   "cell_type": "markdown",
   "metadata": {},
   "source": [
    "## Flip Image"
   ]
  },
  {
   "cell_type": "code",
   "execution_count": 14,
   "metadata": {},
   "outputs": [],
   "source": [
    "#Flipping image\n",
    "\n",
    "\n",
    "def horizontal_flip_images(images,labels, save_image = False):\n",
    "    m = labels.shape[0]\n",
    "    \n",
    "    if save_image:\n",
    "        path = \"dataset/mnist_augmented/h_flipped/\"\n",
    "        if not os.path.exists(path):\n",
    "            os.makedirs(path)  # creating required directories recursively\n",
    "\n",
    "    flipped_images = []\n",
    "    \n",
    "    for i in range(m):    \n",
    "        flip_h = np.fliplr(images[i])\n",
    "\n",
    "        if(save_image):\n",
    "#             https://stackoverflow.com/questions/55319949/pil-typeerror-cannot-handle-this-data-type\n",
    "            img = Image.fromarray((flip_h * 255).astype(np.uint8))\n",
    "            img.save(path + str(np.squeeze(labels[i]))+\"_hFlipped_\"+str(i+1)+\".jpg\")\n",
    "            \n",
    "        flipped_images.append(flip_h)\n",
    "    \n",
    "    return np.asarray(flipped_images), labels\n",
    "\n"
   ]
  },
  {
   "cell_type": "code",
   "execution_count": 15,
   "metadata": {},
   "outputs": [
    {
     "data": {
      "image/png": "[encoded data removed]",
      "text/plain": [
       "<Figure size 720x216 with 5 Axes>"
      ]
     },
     "metadata": {
      "needs_background": "light"
     },
     "output_type": "display_data"
    }
   ],
   "source": [
    "fig = plt.figure(figsize=(10, 3))\n",
    "axes = fig.subplots(1, imgs.shape[0])\n",
    "\n",
    "flipped_images, labels = horizontal_flip_images(imgs,lbls,save_image = False)\n",
    "\n",
    "for i in range(lbls.shape[0]):\n",
    "    axes[i].imshow(flipped_images[i], cmap='gray')\n",
    "    axes[i].set_title(\"Label: %s\"%labels[i])\n",
    "    axes[i].set_axis_off()\n",
    "\n",
    "fig.set_tight_layout(True)\n",
    "plt.show()\n"
   ]
  },
  {
   "cell_type": "code",
   "execution_count": 16,
   "metadata": {},
   "outputs": [],
   "source": [
    "def augment_img(images_orig, labels, horizontal_flip = False, crop_and_pad = False, rotate = False, shift = False, blur = False, save_images = False, include_original = False):\n",
    "    \n",
    "    m = labels.shape[0]\n",
    "    \n",
    "    augmented_images = np.copy(images_orig)\n",
    "    augmented_labels = np.copy(labels)\n",
    "\n",
    "    #horizontal flipping\n",
    "    if horizontal_flip:\n",
    "        flipped_images, flipped_labels = horizontal_flip_images(images_orig, labels, save_image = save_images)\n",
    "        augmented_images = np.concatenate((augmented_images, flipped_images), axis = 0)\n",
    "        augmented_labels = np.concatenate((augmented_labels, flipped_labels), axis = 0)\n",
    "     \n",
    "    #random cropping and padding\n",
    "    if crop_and_pad:\n",
    "        cropped_images, cropped_labels = crop_and_pad_images(images_orig, labels, save_image = save_images)\n",
    "        augmented_images = np.concatenate((augmented_images, cropped_images), axis = 0)\n",
    "        augmented_labels = np.concatenate((augmented_labels, cropped_labels), axis = 0)\n",
    "     \n",
    "    #random rotating\n",
    "    if rotate:\n",
    "        rotated_images, rotated_labels = rotate_images(images_orig, labels, save_image = save_images)\n",
    "        augmented_images = np.concatenate((augmented_images, rotated_images), axis = 0)\n",
    "        augmented_labels = np.concatenate((augmented_labels, rotated_labels), axis = 0)\n",
    "     \n",
    "    #random shifting\n",
    "    if shift:\n",
    "        shifted_images, shifted_labels = shift_images(images_orig,labels, shifting =\"both\", save_image = save_images)\n",
    "        augmented_images = np.concatenate((augmented_images, shifted_images), axis = 0)\n",
    "        augmented_labels = np.concatenate((augmented_labels, shifted_labels), axis = 0)\n",
    "    \n",
    "    #random blurring\n",
    "    if blur:\n",
    "        blurred_images, blurred_labels = blur_images(images_orig, labels, random_filter = True, save_image =save_images)\n",
    "        augmented_images = np.concatenate((augmented_images, blurred_images), axis = 0)\n",
    "        augmented_labels = np.concatenate((augmented_labels, blurred_labels), axis = 0)\n",
    "    \n",
    "    \n",
    "    #suffeling all the images\n",
    "    augmented_images, augmented_labels = sample_dataset(augmented_images, augmented_labels, size_in_per = 100)\n",
    "    \n",
    "     \n",
    "    if include_original:\n",
    "        return augmented_images, augmented_labels\n",
    "    else:\n",
    "        return augmented_images[m::], augmented_labels[m:]\n",
    "    "
   ]
  },
  {
   "cell_type": "code",
   "execution_count": 17,
   "metadata": {},
   "outputs": [],
   "source": [
    "\n",
    "augmented_images, augmented_labels = augment_img(train_x_orig, train_y_orig, horizontal_flip = False, crop_and_pad = True, rotate = True, shift = True, blur = True, save_images = True, include_original = False)\n",
    "\n"
   ]
  },
  {
   "cell_type": "code",
   "execution_count": 18,
   "metadata": {},
   "outputs": [
    {
     "name": "stdout",
     "output_type": "stream",
     "text": [
      "(48000, 28, 28) (48000, 1)\n"
     ]
    },
    {
     "data": {
      "image/png": "[encoded data removed]",
      "text/plain": [
       "<Figure size 720x216 with 5 Axes>"
      ]
     },
     "metadata": {
      "needs_background": "light"
     },
     "output_type": "display_data"
    }
   ],
   "source": [
    "print(augmented_images.shape, augmented_labels.shape)\n",
    "\n",
    "fig = plt.figure(figsize=(10, 3))\n",
    "axes = fig.subplots(1, 5)\n",
    "\n",
    "for i in range(5):\n",
    "    axes[i].imshow(augmented_images[i], cmap='gray')\n",
    "    axes[i].set_title(\"Label: %s\"%augmented_labels[i])\n",
    "    axes[i].set_axis_off()\n",
    "\n",
    "fig.set_tight_layout(True)\n",
    "plt.show()\n",
    "\n",
    "# visualize_dataset(augmented_images, augmented_labels, dataset = \"mnist\", dataset_type = \"training\")\n"
   ]
  },
  {
   "cell_type": "markdown",
   "metadata": {},
   "source": [
    "## Loading images from the directory"
   ]
  },
  {
   "cell_type": "code",
   "execution_count": null,
   "metadata": {},
   "outputs": [],
   "source": [
    "\n",
    "def load_images_from_file(path):\n",
    "    #checking for the validity of the path\n",
    "    if not os.path.exists(path):\n",
    "            raise ValueError(\"Given folder doesnot exist\")\n",
    "\n",
    "    image_names = sorted(get_files(path))\n",
    "    images = []\n",
    "    lbls = []\n",
    "    for image_name in image_names:\n",
    "        fname = path + image_name\n",
    "        image_data = np.asarray(Image.open(fname).resize((28,28)).convert('L')).reshape(28,28)\n",
    "        if image_data[1,1] > 250: #if background is white, reversing the fore and background color\n",
    "            image_data = 255 - image_data\n",
    "        images.append(image_data.tolist())\n",
    "        lbls.append(image_name[0])\n",
    "\n",
    "    real_images = np.asarray(images)\n",
    "    labels = np.asarray(lbls)\n",
    "    \n",
    "    return real_images, labels\n",
    "\n"
   ]
  },
  {
   "cell_type": "code",
   "execution_count": null,
   "metadata": {},
   "outputs": [],
   "source": [
    "\n",
    "image_path = \"Sample Images/\"\n",
    "images, labels = load_images_from_file(path = image_path)\n",
    "# print(images.shape)    \n",
    "\n",
    "\n",
    "imgs = images[5:10]\n",
    "lbls = labels[5:10]\n",
    "\n",
    "print(imgs.shape, lbls.shape)\n",
    "fig = plt.figure(figsize=(10, 3))\n",
    "axes= fig.subplots(1, imgs.shape[0])\n",
    "for i, img in enumerate(imgs):\n",
    "    axes[i].imshow(img, cmap = \"gray\")\n",
    "    axes[i].set_title(\"Label: %s\"%lbls[i])\n",
    "print(imgs[1][1,1])"
   ]
  },
  {
   "cell_type": "code",
   "execution_count": null,
   "metadata": {},
   "outputs": [],
   "source": []
  },
  {
   "cell_type": "code",
   "execution_count": null,
   "metadata": {},
   "outputs": [],
   "source": [
    "from time import sleep\n",
    "\n",
    "from itertools import cycle\n",
    "\n",
    "\n",
    "for frame in cycle(r'-\\|/-\\|/'):\n",
    "    print('\\r', frame, sep=' ', end='', flush=True)\n",
    "    sleep(0.2)"
   ]
  },
  {
   "cell_type": "code",
   "execution_count": null,
   "metadata": {},
   "outputs": [],
   "source": [
    "y = np.zeros((1,5,5))\n",
    "y.fill(255)\n",
    "print(y)\n",
    "x = np.array([[0,1,2,3,4],[5,6,7,8,9],[10,11,0,13,14],[15,0,17,0,19],[0,21,22,23,0]]).reshape(1,5,5)\n",
    "print(x[0])\n",
    "# print(y[0][1:-1,1:-1])\n",
    "y[0][1:-1,1:-1]= np.copy(x[0][1:-1,1:-1])\n",
    "print(y)\n",
    "plt.imshow(y[0])\n",
    "\n",
    "# y = np.concatenate((x,x))\n",
    "# print(y.shape)\n",
    "# print(y)"
   ]
  },
  {
   "cell_type": "code",
   "execution_count": null,
   "metadata": {},
   "outputs": [],
   "source": [
    "# a = np.array([[[1, 2], [3, 4]]])\n",
    "# c = np.array([[[5, 2], [3, 7]]])\n",
    "a = np.array([1,2,3,4,5])\n",
    "c = np.array([1,2,4,4,5])\n",
    "\n",
    "print(a.shape)\n",
    "for i in range(3):    \n",
    "    c = np.concatenate((c, a), axis=0)\n",
    "    print(c.shape)    \n",
    "print(c)\n"
   ]
  },
  {
   "cell_type": "code",
   "execution_count": null,
   "metadata": {},
   "outputs": [],
   "source": []
  }
 ],
 "metadata": {
  "kernelspec": {
   "display_name": "Python 3",
   "language": "python",
   "name": "python3"
  },
  "language_info": {
   "codemirror_mode": {
    "name": "ipython",
    "version": 3
   },
   "file_extension": ".py",
   "mimetype": "text/x-python",
   "name": "python",
   "nbconvert_exporter": "python",
   "pygments_lexer": "ipython3",
   "version": "3.8.3"
  }
 },
 "nbformat": 4,
 "nbformat_minor": 4
}
